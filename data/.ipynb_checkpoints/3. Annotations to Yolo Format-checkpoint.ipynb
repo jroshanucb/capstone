{
 "cells": [
  {
   "cell_type": "markdown",
   "metadata": {},
   "source": [
    "Bring annotated images back into Yolo format."
   ]
  },
  {
   "cell_type": "code",
   "execution_count": 1,
   "metadata": {},
   "outputs": [],
   "source": [
    "import os\n",
    "import random\n",
    "import shutil, os\n",
    "import zipfile\n",
    "\n",
    "from os import listdir\n",
    "from os.path import isfile, join\n",
    "import pandas as pd"
   ]
  },
  {
   "cell_type": "markdown",
   "metadata": {},
   "source": [
    "Labels- convert annotations to the correct species label"
   ]
  },
  {
   "cell_type": "code",
   "execution_count": 4,
   "metadata": {},
   "outputs": [],
   "source": [
    "#IF needed\n",
    "os.mkdir('/Users/sleung2/Documents/MIDS Program/Capstone_local/snapshot_wisconsin/all/yolo_extract_expert')"
   ]
  },
  {
   "cell_type": "code",
   "execution_count": 2,
   "metadata": {},
   "outputs": [],
   "source": [
    "#ROUND 2 Labels\n",
    "labels = pd.DataFrame(['foxgray_foxred',\n",
    "              'cottontail_snowshoehare',\n",
    "              'raccoon',\n",
    "              'opossum',\n",
    "              'turkey',\n",
    "              'bear',\n",
    "              'elk',\n",
    "              'deer',\n",
    "              'coyote',\n",
    "              'wolf']).sort_values(0)\n",
    "labels = labels.rename(columns = {0: 'species'})\n",
    "labels.insert(0, 'label', range(0, len(labels)))"
   ]
  },
  {
   "cell_type": "code",
   "execution_count": null,
   "metadata": {},
   "outputs": [],
   "source": [
    "toppath = '/Users/sleung2/Documents/MIDS Program/Capstone_local/yolo_zips/'\n",
    "\n",
    "for index, row in labels.iterrows():\n",
    "  \n",
    "    #For species and label\n",
    "    species = row['species']\n",
    "    label = labels[labels['species'] == species]['label'].iloc[0]\n",
    "\n",
    "    for file in os.listdir(toppath):\n",
    "        if species in file:    \n",
    "            if '.zip' in file:\n",
    "                with zipfile.ZipFile(toppath + file, 'r') as zip_ref:\n",
    "                    zip_ref.extractall(toppath)\n",
    "                    print('Extracted {}'.format(file))\n",
    "                for txt_file in os.listdir(toppath):\n",
    "                    if '.txt' in txt_file:\n",
    "                        with open(toppath + txt_file, 'r') as f:\n",
    "                            original_lines = f.readlines()\n",
    "                        with open(toppath + txt_file, 'w') as out:\n",
    "                            for line in original_lines:\n",
    "                                line_list = line.split(' ')\n",
    "                                line_list[0] = str(label)\n",
    "\n",
    "                                new_line = ' '.join(line_list)\n",
    "                                out.write(new_line)\n",
    "                print (len([name for name in os.listdir(toppath) if '.txt' in name]))    \n",
    "                for txt_file in os.listdir(toppath):\n",
    "                    if '.txt' in txt_file:       \n",
    "                        shutil.move(toppath + txt_file, '/Users/sleung2/Documents/MIDS Program/Capstone/snapshot_wisconsin/all/yolo_extract/' + txt_file)\n",
    "                print('Rewrote and moved txt files associated with {}'.format(file))"
   ]
  },
  {
   "cell_type": "markdown",
   "metadata": {},
   "source": [
    "Images- move the correct images into the yolo images folder"
   ]
  },
  {
   "cell_type": "code",
   "execution_count": null,
   "metadata": {},
   "outputs": [],
   "source": [
    "labels_df = pd.DataFrame(['foxgray',\n",
    "              'cottontail',\n",
    "              'snowshoehare',\n",
    "              'raccoon',\n",
    "              'opossum',\n",
    "              'turkey',\n",
    "              'foxred',\n",
    "              'bear',\n",
    "              'elk',\n",
    "              'deer',\n",
    "              'coyote',\n",
    "                         'wolf']).sort_values(0)\n",
    "labels_df = labels_df.rename(columns = {0: 'species'})\n",
    "labels_df.insert(0, 'label', range(0, len(labels_df)))"
   ]
  },
  {
   "cell_type": "code",
   "execution_count": null,
   "metadata": {},
   "outputs": [],
   "source": [
    "#ROUND 2 Labels\n",
    "labels_df['label'] = [0,\n",
    "                     1,\n",
    "                     2,\n",
    "                     3,\n",
    "                     4,\n",
    "                     5,\n",
    "                     5,#combine foxgray foxred\n",
    "                     6,\n",
    "                     7,\n",
    "                     1,#combine ssh with cottontail\n",
    "                     8,\n",
    "                     9]"
   ]
  },
  {
   "cell_type": "code",
   "execution_count": null,
   "metadata": {},
   "outputs": [],
   "source": [
    "toppath = 'snapshot_wisconsin/all/'\n",
    "\n",
    "not_found_txt = []\n",
    "\n",
    "for file in os.listdir(toppath + 'yolo_extract'):\n",
    "\n",
    "    if file == '.DS_Store':\n",
    "        continue\n",
    "    with open(toppath + 'yolo_extract/' + file, 'r') as f:\n",
    "        lines = f.readlines()\n",
    "    \n",
    "    label = lines[0][0]\n",
    "    print(label)\n",
    "    \n",
    "    species = labels_df[labels_df['label'] == int(label)]['species']\n",
    "    \n",
    "    if species.shape[0] > 1:\n",
    "        for i in range(0,2):\n",
    "            species = labels_df[labels_df['label'] == int(label)]['species'].iloc[i].upper()\n",
    "               \n",
    "            for img_file in os.listdir(toppath + species):\n",
    "                result = 'image not found'\n",
    "\n",
    "                if img_file == file.split('.txt')[0] + '.jpeg':\n",
    "\n",
    "\n",
    "                    copyfile(toppath + species + '/' + img_file ,\n",
    "                             toppath + 'yolo_images/' + img_file)\n",
    "\n",
    "                    result = 'found'\n",
    "\n",
    "            if result == 'image not found':\n",
    "                not_found_txt.append(file)\n",
    "\n",
    "                print(result + ' ' + file + ' ' + species)\n",
    "                \n",
    "    else:\n",
    "        species = labels_df[labels_df['label'] == int(label)]['species'].iloc[0].upper()\n",
    "        \n",
    "        for img_file in os.listdir(toppath + species):\n",
    "            result = 'image not found'\n",
    "\n",
    "            if img_file == file.split('.txt')[0] + '.jpeg':\n",
    "\n",
    "\n",
    "                copyfile(toppath + species + '/' + img_file ,\n",
    "                         toppath + 'yolo_images/' + img_file)\n",
    "\n",
    "                result = 'found'\n",
    "\n",
    "        if result == 'image not found':\n",
    "            not_found_txt.append(file)\n",
    "\n",
    "            print(result + ' ' + file + ' ' + species)"
   ]
  },
  {
   "cell_type": "code",
   "execution_count": null,
   "metadata": {},
   "outputs": [],
   "source": [
    "#EXPERT WOLF SECTION\n",
    "\n",
    "yolo_wolf_extract_list = []\n",
    "yolo_wolf_image_list = []\n",
    "\n",
    "for file in os.listdir(toppath + 'yolo_extract'):\n",
    "    if 'SSWI' in file:\n",
    "        yolo_wolf_extract_list.append(file.split('.txt')[0])\n",
    "\n",
    "for image in os.listdir(toppath + 'WOLF'):\n",
    "     if image.split('.jpg')[0] in yolo_wolf_extract_list:\n",
    "            yolo_wolf_image_list.append(image)"
   ]
  },
  {
   "cell_type": "code",
   "execution_count": null,
   "metadata": {},
   "outputs": [],
   "source": [
    "for image in yolo_wolf_image_list:\n",
    "    copyfile(toppath + 'WOLF/' + image ,\n",
    "                         toppath + 'yolo_images/' + image)"
   ]
  },
  {
   "cell_type": "code",
   "execution_count": null,
   "metadata": {},
   "outputs": [],
   "source": [
    "background_image_num = 1000"
   ]
  },
  {
   "cell_type": "code",
   "execution_count": null,
   "metadata": {},
   "outputs": [],
   "source": [
    "toppath = 'snapshot_wisconsin/all/'\n",
    "blank_image_names = [name.split('_')[0] for name in os.listdir(toppath + 'blank')]\n",
    "\n",
    "blank_image_subset = blank_image_names[0:background_image_num]\n",
    "\n",
    "for blank_image in blank_image_subset:\n",
    "    try:\n",
    "        copyfile(toppath + 'blank' + '/' + blank_image + '_0.jpeg' ,\n",
    "         toppath + 'yolo_splits3/yolo_images/' + blank_image + '_0.jpeg')\n",
    "    except:\n",
    "        print('could not copy image ' + blank_image)\n",
    "\n",
    "len([name for name in os.listdir(toppath + 'yolo_splits3/yolo_images/')])"
   ]
  }
 ],
 "metadata": {
  "kernelspec": {
   "display_name": "Python 3",
   "language": "python",
   "name": "python3"
  },
  "language_info": {
   "codemirror_mode": {
    "name": "ipython",
    "version": 3
   },
   "file_extension": ".py",
   "mimetype": "text/x-python",
   "name": "python",
   "nbconvert_exporter": "python",
   "pygments_lexer": "ipython3",
   "version": "3.8.5"
  }
 },
 "nbformat": 4,
 "nbformat_minor": 4
}
