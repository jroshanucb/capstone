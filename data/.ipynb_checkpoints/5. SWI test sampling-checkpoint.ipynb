{
 "cells": [
  {
   "cell_type": "code",
   "execution_count": 2,
   "metadata": {},
   "outputs": [],
   "source": [
    "import os\n",
    "import random\n",
    "import shutil, os\n",
    "import pandas as pd\n",
    "\n",
    "from os import listdir\n",
    "from os.path import isfile, join"
   ]
  },
  {
   "cell_type": "code",
   "execution_count": 3,
   "metadata": {},
   "outputs": [],
   "source": [
    "# import df\n",
    "# take out 100 images for fisher, squirrels, grouse and copy to snapshot_wisconsin_expert_resized_yolo_test\n"
   ]
  },
  {
   "cell_type": "code",
   "execution_count": 4,
   "metadata": {},
   "outputs": [],
   "source": [
    "expert_label_df = pd.read_excel('Berkeley-sswi_metadata (1).xlsx')"
   ]
  },
  {
   "cell_type": "code",
   "execution_count": 9,
   "metadata": {},
   "outputs": [
    {
     "data": {
      "text/plain": [
       "0.010578857185427996"
      ]
     },
     "execution_count": 9,
     "metadata": {},
     "output_type": "execute_result"
    }
   ],
   "source": [
    "#Percent mulitple animal classes\n",
    "\n",
    "(len(expert_label_df.TRIGGER_ID) - expert_label_df.TRIGGER_ID.nunique())/(len(expert_label_df.TRIGGER_ID))"
   ]
  },
  {
   "cell_type": "code",
   "execution_count": 18,
   "metadata": {},
   "outputs": [],
   "source": [
    "sample_species = ['Fisher', 'Grouse, Ruffed', 'Squirrels and Chipmunks']\n",
    "\n",
    "i = 0\n",
    "for species in sample_species:\n",
    "    expert_label_df_sample_int = expert_label_df[expert_label_df['CLASS_SPECIES'] == species].sample(n=100, random_state=1)\n",
    "    \n",
    "    if i ==0:\n",
    "        expert_label_df_sample = expert_label_df_sample_int\n",
    "        \n",
    "    else:\n",
    "        expert_label_df_sample = pd.concat([expert_label_df_sample, expert_label_df_sample_int])\n",
    "        \n",
    "    i += 1"
   ]
  },
  {
   "cell_type": "code",
   "execution_count": 31,
   "metadata": {},
   "outputs": [],
   "source": [
    "\n",
    "for trigger, rows in expert_label_df_sample.iterrows():\n",
    "    trigger_id = rows['TRIGGER_ID']\n",
    "    \n",
    "    for image in ['A', 'B', 'C']:\n",
    "        try:\n",
    "            shutil.copy('snapshot_wisconsin_expert_resized/' + trigger_id + image + '.jpg',\n",
    "                        'snapshot_wisconsin_expert_resized_yolo_test')\n",
    "        except:\n",
    "            continue"
   ]
  },
  {
   "cell_type": "code",
   "execution_count": 9,
   "metadata": {},
   "outputs": [],
   "source": [
    "# move 1500 wolf images to train\n",
    "\n",
    "wolf_random = expert_label_df[expert_label_df['CLASS_SPECIES'] == 'Wolf'].sample(frac=1)['TRIGGER_ID']\n",
    "    "
   ]
  },
  {
   "cell_type": "code",
   "execution_count": 13,
   "metadata": {},
   "outputs": [],
   "source": [
    "batch = 150\n",
    "\n",
    "\n",
    "for i in range(1,4):\n",
    "    wolf_to_copy_list = list(wolf_random)[(i*batch - batch): (i*batch)]\n",
    "    \n",
    "    for event in wolf_to_copy_list:\n",
    "        for image in ['A', 'B', 'C']:\n",
    "            try:\n",
    "                shutil.copy('snapshot_wisconsin_expert_resized/' + event + image + '.jpg',\n",
    "                            'WOLF(EXPERT)/WOLF' + str(i + 1))\n",
    "            except:\n",
    "                continue"
   ]
  },
  {
   "cell_type": "code",
   "execution_count": null,
   "metadata": {},
   "outputs": [],
   "source": []
  },
  {
   "cell_type": "code",
   "execution_count": null,
   "metadata": {},
   "outputs": [],
   "source": [
    "# Adding additional deer, elk and coyote images to test set to give larger test size"
   ]
  },
  {
   "cell_type": "code",
   "execution_count": 4,
   "metadata": {},
   "outputs": [
    {
     "ename": "FileNotFoundError",
     "evalue": "[Errno 2] No such file or directory: '/snapshot_wisconsin_expert_resized/'",
     "output_type": "error",
     "traceback": [
      "\u001b[0;31m---------------------------------------------------------------------------\u001b[0m",
      "\u001b[0;31mFileNotFoundError\u001b[0m                         Traceback (most recent call last)",
      "\u001b[0;32m<ipython-input-4-57c4214e95ee>\u001b[0m in \u001b[0;36m<module>\u001b[0;34m\u001b[0m\n\u001b[0;32m----> 1\u001b[0;31m \u001b[0;32mfor\u001b[0m \u001b[0mimage\u001b[0m \u001b[0;32min\u001b[0m \u001b[0mos\u001b[0m\u001b[0;34m.\u001b[0m\u001b[0mlistdir\u001b[0m\u001b[0;34m(\u001b[0m\u001b[0;34m'/snapshot_wisconsin_expert_resized/'\u001b[0m\u001b[0;34m)\u001b[0m\u001b[0;34m:\u001b[0m\u001b[0;34m\u001b[0m\u001b[0;34m\u001b[0m\u001b[0m\n\u001b[0m\u001b[1;32m      2\u001b[0m     \u001b[0mprint\u001b[0m\u001b[0;34m(\u001b[0m\u001b[0mimage\u001b[0m\u001b[0;34m)\u001b[0m\u001b[0;34m\u001b[0m\u001b[0;34m\u001b[0m\u001b[0m\n",
      "\u001b[0;31mFileNotFoundError\u001b[0m: [Errno 2] No such file or directory: '/snapshot_wisconsin_expert_resized/'"
     ]
    }
   ],
   "source": [
    "for image in os.listdir('/snapshot_wisconsin_expert_resized/'):\n",
    "    print(image)"
   ]
  },
  {
   "cell_type": "code",
   "execution_count": null,
   "metadata": {},
   "outputs": [],
   "source": []
  }
 ],
 "metadata": {
  "kernelspec": {
   "display_name": "Python 3",
   "language": "python",
   "name": "python3"
  },
  "language_info": {
   "codemirror_mode": {
    "name": "ipython",
    "version": 3
   },
   "file_extension": ".py",
   "mimetype": "text/x-python",
   "name": "python",
   "nbconvert_exporter": "python",
   "pygments_lexer": "ipython3",
   "version": "3.8.5"
  }
 },
 "nbformat": 4,
 "nbformat_minor": 4
}
