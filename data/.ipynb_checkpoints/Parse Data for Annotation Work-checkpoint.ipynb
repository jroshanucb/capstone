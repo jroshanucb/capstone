{
 "cells": [
  {
   "cell_type": "markdown",
   "metadata": {},
   "source": [
    "Splitting out images for manual annotation work"
   ]
  },
  {
   "cell_type": "code",
   "execution_count": 1,
   "metadata": {},
   "outputs": [],
   "source": [
    "import os\n",
    "import random\n",
    "import shutil, os\n",
    "import pandas as pd\n",
    "\n",
    "\n",
    "from os import listdir\n",
    "from os.path import isfile, join"
   ]
  },
  {
   "cell_type": "code",
   "execution_count": null,
   "metadata": {},
   "outputs": [],
   "source": [
    "toppath = 'snapshot_wisconsin/all/'"
   ]
  },
  {
   "cell_type": "code",
   "execution_count": null,
   "metadata": {},
   "outputs": [],
   "source": [
    "images_done = []\n",
    "\n",
    "for file in os.listdir(toppath + 'yolo_extract'):\n",
    "    images_done.append(file.split('_')[0])\n",
    "    \n",
    "images_done = set(images_done)"
   ]
  },
  {
   "cell_type": "markdown",
   "metadata": {},
   "source": [
    "Round 1 Annotations: First 3000 images from Willi species folders"
   ]
  },
  {
   "cell_type": "code",
   "execution_count": null,
   "metadata": {},
   "outputs": [],
   "source": [
    "#Top 10 species\n",
    "\n",
    "for animal in [#'OPOSSUM',\n",
    "    #'PSSM'\n",
    "'DEER',\n",
    " #'SQUIRRELSANDCHIPMUNKS',\n",
    " 'RACCOON',\n",
    " 'TURKEY',\n",
    " 'COTTONTAIL',\n",
    " 'COYOTE',\n",
    " 'ELK']\n",
    " #'OTHERBIRD',\n",
    " #'BEAR',\n",
    " #'SNOWSHOEHARE']:\n",
    "    \n",
    "    #animal folder\n",
    "    toppath = 'snapshot_wisconsin/all/' + animal\n",
    "\n",
    "    file_list = []\n",
    "\n",
    "    for file in os.listdir(toppath):\n",
    "        file_list.append(file)\n",
    "\n",
    "\n",
    "    image_df = pd.DataFrame(file_list)\n",
    "\n",
    "\n",
    "    image_df = image_df.sort_values(by =0)\n",
    "    image_df_3k = image_df.iloc[:3000]\n",
    "\n",
    "    for i in range(1,7):\n",
    "        batch_size = 500\n",
    "\n",
    "        image_df_seg = image_df_3k.iloc[(i*batch_size) - batch_size: i*batch_size]\n",
    "        folder_name = 'snapshot_wisconsin/' + animal + str(i)\n",
    "\n",
    "        try:\n",
    "            os.mkdir(folder_name)\n",
    "        except:\n",
    "            pass\n",
    "\n",
    "        for index, row in image_df_seg.iterrows():\n",
    "\n",
    "            shutil.copy(toppath + '/' + row[0],\n",
    "                               folder_name)"
   ]
  },
  {
   "cell_type": "markdown",
   "metadata": {},
   "source": [
    "Round 2 Annotations: Randomly sampling from images we have not labelled yet"
   ]
  },
  {
   "cell_type": "code",
   "execution_count": null,
   "metadata": {},
   "outputs": [],
   "source": [
    "#ROUND 2- need to eliminate the images we already labelled\n",
    "\n",
    "for animal in [\n",
    "'DEER',\n",
    " 'RACCOON',\n",
    " 'TURKEY',\n",
    " 'COTTONTAIL',\n",
    " 'COYOTE',\n",
    " 'ELK']:\n",
    "    \n",
    "    #animal folder\n",
    "    toppath = 'snapshot_wisconsin/all/' + animal\n",
    "\n",
    "    file_set = set()\n",
    "\n",
    "    for file in os.listdir(toppath):\n",
    "        #If not in already labelled set\n",
    "        if file.split('_')[0] not in images_done:\n",
    "            file_set.add(file.split('_')[0])\n",
    "\n",
    "    image_df = pd.DataFrame(file_set)\n",
    "    \n",
    "    #random sort\n",
    "    image_df = image_df.sample(frac=1)\n",
    "            \n",
    "        \n",
    "    for i in range(7,13):\n",
    "        batch_size = 150\n",
    "\n",
    "        image_df_seg = image_df.iloc[(i*batch_size) - batch_size: i*batch_size]\n",
    "        folder_name = 'snapshot_wisconsin/' + animal + str(i)\n",
    "\n",
    "        try:\n",
    "            os.mkdir(folder_name)\n",
    "        except:\n",
    "            pass\n",
    "\n",
    "        for index, row in image_df_seg.iterrows():\n",
    "            for image_num in range(0,3):\n",
    "                try:\n",
    "                    shutil.copy(toppath + '/' + row[0] + '_' + str(image_num) + '.jpeg',\n",
    "                                   folder_name)\n",
    "                except:\n",
    "                    print(animal)\n",
    "                    print(row[0])\n",
    "                    print(image_num)"
   ]
  },
  {
   "cell_type": "markdown",
   "metadata": {},
   "source": [
    "Pull out additional WOlf images from expert labelled for us to annotate"
   ]
  },
  {
   "cell_type": "code",
   "execution_count": null,
   "metadata": {},
   "outputs": [],
   "source": [
    "expert_label_df = pd.read_excel('Berkeley-sswi_metadata (1).xlsx')"
   ]
  },
  {
   "cell_type": "code",
   "execution_count": null,
   "metadata": {},
   "outputs": [],
   "source": [
    "#Percent mulitple animal classes\n",
    "\n",
    "(len(expert_label_df.TRIGGER_ID) - expert_label_df.TRIGGER_ID.nunique())/(len(expert_label_df.TRIGGER_ID))"
   ]
  },
  {
   "cell_type": "code",
   "execution_count": null,
   "metadata": {},
   "outputs": [],
   "source": [
    "sample_species = ['Fisher', 'Grouse, Ruffed', 'Squirrels and Chipmunks']\n",
    "\n",
    "i = 0\n",
    "for species in sample_species:\n",
    "    expert_label_df_sample_int = expert_label_df[expert_label_df['CLASS_SPECIES'] == species].sample(n=100, random_state=1)\n",
    "    \n",
    "    if i ==0:\n",
    "        expert_label_df_sample = expert_label_df_sample_int\n",
    "        \n",
    "    else:\n",
    "        expert_label_df_sample = pd.concat([expert_label_df_sample, expert_label_df_sample_int])\n",
    "        \n",
    "    i += 1"
   ]
  },
  {
   "cell_type": "code",
   "execution_count": null,
   "metadata": {},
   "outputs": [],
   "source": [
    "for trigger, rows in expert_label_df_sample.iterrows():\n",
    "    trigger_id = rows['TRIGGER_ID']\n",
    "    \n",
    "    for image in ['A', 'B', 'C']:\n",
    "        try:\n",
    "            shutil.copy('snapshot_wisconsin_expert_resized/' + trigger_id + image + '.jpg',\n",
    "                        'snapshot_wisconsin_expert_resized_yolo_test')\n",
    "        except:\n",
    "            continue"
   ]
  },
  {
   "cell_type": "code",
   "execution_count": null,
   "metadata": {},
   "outputs": [],
   "source": [
    "# move 1500 wolf images to train\n",
    "\n",
    "wolf_random = expert_label_df[expert_label_df['CLASS_SPECIES'] == 'Wolf'].sample(frac=1)['TRIGGER_ID']\n",
    "    "
   ]
  },
  {
   "cell_type": "code",
   "execution_count": null,
   "metadata": {},
   "outputs": [],
   "source": [
    "batch = 150\n",
    "\n",
    "\n",
    "for i in range(1,4):\n",
    "    wolf_to_copy_list = list(wolf_random)[(i*batch - batch): (i*batch)]\n",
    "    \n",
    "    for event in wolf_to_copy_list:\n",
    "        for image in ['A', 'B', 'C']:\n",
    "            try:\n",
    "                shutil.copy('snapshot_wisconsin_expert_resized/' + event + image + '.jpg',\n",
    "                            'WOLF(EXPERT)/WOLF' + str(i + 1))\n",
    "            except:\n",
    "                continue"
   ]
  },
  {
   "cell_type": "code",
   "execution_count": null,
   "metadata": {},
   "outputs": [],
   "source": []
  }
 ],
 "metadata": {
  "kernelspec": {
   "display_name": "Python 3",
   "language": "python",
   "name": "python3"
  },
  "language_info": {
   "codemirror_mode": {
    "name": "ipython",
    "version": 3
   },
   "file_extension": ".py",
   "mimetype": "text/x-python",
   "name": "python",
   "nbconvert_exporter": "python",
   "pygments_lexer": "ipython3",
   "version": "3.8.5"
  }
 },
 "nbformat": 4,
 "nbformat_minor": 4
}
