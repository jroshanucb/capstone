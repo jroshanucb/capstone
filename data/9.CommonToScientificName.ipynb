{
  "nbformat": 4,
  "nbformat_minor": 0,
  "metadata": {
    "colab": {
      "name": "translator.ipynb",
      "private_outputs": true,
      "provenance": [],
      "collapsed_sections": []
    },
    "kernelspec": {
      "name": "python3",
      "display_name": "Python 3"
    },
    "language_info": {
      "name": "python"
    }
  },
  "cells": [
    {
      "cell_type": "code",
      "metadata": {
        "id": "B-6DmZ3nVxIF"
      },
      "source": [
        "! pip install EcoNameTranslator"
      ],
      "execution_count": null,
      "outputs": []
    },
    {
      "cell_type": "code",
      "metadata": {
        "id": "ul8Ad7q3V5uS"
      },
      "source": [
        "import EcoNameTranslator\n"
      ],
      "execution_count": null,
      "outputs": []
    },
    {
      "cell_type": "code",
      "metadata": {
        "id": "A9F6OhUCWSux"
      },
      "source": [
        "unstandardised_names = ['bear','wolf']\n",
        "stanard_name=['canadensis']\n",
        "translator = EcoNameTranslator.to_species(unstandardised_names)  \n",
        "translate_to_common= EcoNameTranslator.to_common(stanard_name)\n",
        "translate_to_scientific= EcoNameTranslator.to_scientific(unstandardised_names)\n",
        "\n",
        "#index = translator.translate(unstandardised_names)\n",
        "print(translate_to_scientific)\n",
        "print(translator)\n",
        "print(translate_to_common)"
      ],
      "execution_count": null,
      "outputs": []
    },
    {
      "cell_type": "code",
      "metadata": {
        "id": "l2xlHTk-quvF"
      },
      "source": [
        "speciesList = ['bear', 'rabbit', 'coyote', 'deer', 'elk', 'fox', 'opossum', 'raccoon', 'turkey', 'wolf']\n",
        "converted_d=EcoNameTranslator.to_species(speciesList)\n",
        "print(converted_d)"
      ],
      "execution_count": null,
      "outputs": []
    },
    {
      "cell_type": "code",
      "metadata": {
        "id": "gsUZtfiY08fb"
      },
      "source": [
        "import pandas as pd\n",
        "df = pd.DataFrame(converted_d.values(), columns=['common_name', 'scientific_name'])\n",
        "print(df.head())"
      ],
      "execution_count": null,
      "outputs": []
    },
    {
      "cell_type": "code",
      "metadata": {
        "id": "8HqmweDR-vLn"
      },
      "source": [
        "df = df.explode('scientific_name')\n",
        "df['s_name']=df['scientific_name'].str.lower()\n",
        "df=df.drop(['scientific_name'], axis = 1)\n",
        "df"
      ],
      "execution_count": null,
      "outputs": []
    },
    {
      "cell_type": "code",
      "metadata": {
        "id": "svFM4Nabo6j9"
      },
      "source": [
        "def get_speciesname_from_id(id):\n",
        "    speciesList = ['bear', 'cottontail','snowshoehare', 'coyote', 'deer', 'elk', 'foxgray_foxred', 'opossum', 'raccoon', 'turkey', 'wolf']\n",
        "    idx = int(id)\n",
        "    if idx > 9 or idx < 0:\n",
        "        speciesName = 'other'\n",
        "    else:\n",
        "        speciesName = speciesList[idx]\n",
        "    return speciesName"
      ],
      "execution_count": null,
      "outputs": []
    },
    {
      "cell_type": "code",
      "metadata": {
        "id": "21fonmE3_NNR"
      },
      "source": [
        "seren_labels_df = pd.read_csv(\"/content/drive/MyDrive/Capstone 2021/Data/serenLabels.csv\",names=[\"s_name\", \"drop\"])\n",
        "seren_labels_df.head()"
      ],
      "execution_count": null,
      "outputs": []
    },
    {
      "cell_type": "code",
      "metadata": {
        "id": "1U3kaDQ5_rjX"
      },
      "source": [
        "seren_labels_df = seren_labels_df.iloc[: , :-1]\n",
        "seren_labels_df.head()"
      ],
      "execution_count": null,
      "outputs": []
    },
    {
      "cell_type": "code",
      "metadata": {
        "id": "UQ8engdGS0qN"
      },
      "source": [
        ""
      ],
      "execution_count": null,
      "outputs": []
    },
    {
      "cell_type": "code",
      "metadata": {
        "id": "-yQmaRZGOe-j"
      },
      "source": [
        "df"
      ],
      "execution_count": null,
      "outputs": []
    },
    {
      "cell_type": "code",
      "metadata": {
        "id": "5rqwlm_LA6ca"
      },
      "source": [
        "class_df = pd.merge(df, seren_labels_df, on='s_name', how='inner')"
      ],
      "execution_count": null,
      "outputs": []
    },
    {
      "cell_type": "code",
      "metadata": {
        "id": "65ar0Y0NBHQQ"
      },
      "source": [
        "class_df"
      ],
      "execution_count": null,
      "outputs": []
    },
    {
      "cell_type": "code",
      "metadata": {
        "id": "l-d5Fq7SEGk1"
      },
      "source": [
        "class_df.T.agg([pd.unique])"
      ],
      "execution_count": null,
      "outputs": []
    },
    {
      "cell_type": "code",
      "metadata": {
        "id": "_PxVxTxzc_Lr"
      },
      "source": [
        "seren_main_df = pd.read_csv(\"/content/drive/MyDrive/Capstone 2021/Data/yoloData/categories.csv\")\n",
        "seren_main_df=seren_main_df.drop(['category_id'], axis = 1)\n",
        "seren_main_df.head()"
      ],
      "execution_count": null,
      "outputs": []
    },
    {
      "cell_type": "code",
      "metadata": {
        "id": "NAZS_BmmdvL2"
      },
      "source": [
        "seren_main_df = seren_main_df.rename(columns={'name_x': 's_name', 'new_category_id': 'category_id'})\n",
        "seren_main_df.head()"
      ],
      "execution_count": null,
      "outputs": []
    },
    {
      "cell_type": "code",
      "metadata": {
        "id": "_SGJQZeMeIKT"
      },
      "source": [
        "seren_main_df.size"
      ],
      "execution_count": null,
      "outputs": []
    },
    {
      "cell_type": "code",
      "metadata": {
        "id": "PxurUf4uf0qr"
      },
      "source": [
        "df1 = pd.merge(seren_main_df, class_df, on='s_name', how='inner')\n",
        "df1"
      ],
      "execution_count": null,
      "outputs": []
    },
    {
      "cell_type": "code",
      "metadata": {
        "id": "V9loWdnUgKPZ"
      },
      "source": [
        "df1.size"
      ],
      "execution_count": null,
      "outputs": []
    },
    {
      "cell_type": "code",
      "metadata": {
        "id": "8ceYp_z_hPaX"
      },
      "source": [
        "final_cat_file=\"/content/drive/MyDrive/Capstone 2021/Data/yoloData/merged_categories.csv\"\n",
        "df1.to_csv(final_cat_file, encoding='utf-8', index=False)"
      ],
      "execution_count": null,
      "outputs": []
    },
    {
      "cell_type": "code",
      "metadata": {
        "id": "-t0dIMHVm4Ac"
      },
      "source": [
        "!zip \"/content/drive/MyDrive/Capstone 2021/Data/yoloData/train/labels.zip\" \"/content/drive/MyDrive/Capstone 2021/Data/yoloData/train/labels\""
      ],
      "execution_count": null,
      "outputs": []
    }
  ]
}