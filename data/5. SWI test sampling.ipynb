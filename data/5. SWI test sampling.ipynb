{
 "cells": [
  {
   "cell_type": "code",
   "execution_count": 2,
   "metadata": {},
   "outputs": [],
   "source": [
    "import os\n",
    "import random\n",
    "import shutil, os\n",
    "import pandas as pd\n",
    "\n",
    "from os import listdir\n",
    "from os.path import isfile, join"
   ]
  },
  {
   "cell_type": "code",
   "execution_count": 3,
   "metadata": {},
   "outputs": [],
   "source": [
    "# import df\n",
    "# take out 100 images for fisher, squirrels, grouse and copy to snapshot_wisconsin_expert_resized_yolo_test\n"
   ]
  },
  {
   "cell_type": "code",
   "execution_count": 7,
   "metadata": {},
   "outputs": [],
   "source": [
    "expert_label_df = pd.read_excel('Berkeley-sswi_metadata (1).xlsx')"
   ]
  },
  {
   "cell_type": "code",
   "execution_count": 9,
   "metadata": {},
   "outputs": [
    {
     "data": {
      "text/plain": [
       "0.010578857185427996"
      ]
     },
     "execution_count": 9,
     "metadata": {},
     "output_type": "execute_result"
    }
   ],
   "source": [
    "#Percent mulitple animal classes\n",
    "\n",
    "(len(expert_label_df.TRIGGER_ID) - expert_label_df.TRIGGER_ID.nunique())/(len(expert_label_df.TRIGGER_ID))"
   ]
  },
  {
   "cell_type": "code",
   "execution_count": 18,
   "metadata": {},
   "outputs": [],
   "source": [
    "sample_species = ['Fisher', 'Grouse, Ruffed', 'Squirrels and Chipmunks']\n",
    "\n",
    "i = 0\n",
    "for species in sample_species:\n",
    "    expert_label_df_sample_int = expert_label_df[expert_label_df['CLASS_SPECIES'] == species].sample(n=100, random_state=1)\n",
    "    \n",
    "    if i ==0:\n",
    "        expert_label_df_sample = expert_label_df_sample_int\n",
    "        \n",
    "    else:\n",
    "        expert_label_df_sample = pd.concat([expert_label_df_sample, expert_label_df_sample_int])\n",
    "        \n",
    "    i += 1"
   ]
  },
  {
   "cell_type": "code",
   "execution_count": 31,
   "metadata": {},
   "outputs": [],
   "source": [
    "\n",
    "for trigger, rows in expert_label_df_sample.iterrows():\n",
    "    trigger_id = rows['TRIGGER_ID']\n",
    "    \n",
    "    for image in ['A', 'B', 'C']:\n",
    "        try:\n",
    "            shutil.copy('snapshot_wisconsin_expert_resized/' + trigger_id + image + '.jpg',\n",
    "                        'snapshot_wisconsin_expert_resized_yolo_test')\n",
    "        except:\n",
    "            continue"
   ]
  },
  {
   "cell_type": "code",
   "execution_count": 9,
   "metadata": {},
   "outputs": [],
   "source": [
    "# move 1500 wolf images to train\n",
    "\n",
    "wolf_random = expert_label_df[expert_label_df['CLASS_SPECIES'] == 'Wolf'].sample(frac=1)['TRIGGER_ID']\n",
    "    "
   ]
  },
  {
   "cell_type": "code",
   "execution_count": 13,
   "metadata": {},
   "outputs": [],
   "source": [
    "batch = 150\n",
    "\n",
    "\n",
    "for i in range(1,4):\n",
    "    wolf_to_copy_list = list(wolf_random)[(i*batch - batch): (i*batch)]\n",
    "    \n",
    "    for event in wolf_to_copy_list:\n",
    "        for image in ['A', 'B', 'C']:\n",
    "            try:\n",
    "                shutil.copy('snapshot_wisconsin_expert_resized/' + event + image + '.jpg',\n",
    "                            'WOLF(EXPERT)/WOLF' + str(i + 1))\n",
    "            except:\n",
    "                continue"
   ]
  },
  {
   "cell_type": "code",
   "execution_count": null,
   "metadata": {},
   "outputs": [],
   "source": []
  },
  {
   "cell_type": "code",
   "execution_count": null,
   "metadata": {},
   "outputs": [],
   "source": [
    "# Adding additional deer, elk and coyote images to test set to give larger test size"
   ]
  },
  {
   "cell_type": "code",
   "execution_count": 10,
   "metadata": {},
   "outputs": [],
   "source": []
  },
  {
   "cell_type": "code",
   "execution_count": 14,
   "metadata": {},
   "outputs": [],
   "source": [
    "used_triggers = []\n",
    "\n",
    "splits = ['train/', 'val/', 'test/']\n",
    "\n",
    "for split in splits:\n",
    "    for im in os.listdir('/Users/sleung2/Documents/MIDS Program/Capstone_local/snapshot_wisconsin/all/yolo_splits4/' + split + 'images/'):\n",
    "        used_triggers.append(im)\n",
    "        \n",
    "        "
   ]
  },
  {
   "cell_type": "code",
   "execution_count": 22,
   "metadata": {},
   "outputs": [],
   "source": [
    "used_triggers_SW = [im for im in used_triggers if 'SSWI' in im]\n",
    "\n",
    "used_trig_SW = [im[:-5] for im in used_triggers_SW]\n",
    "\n",
    "\n",
    "used_trig_SW_set = list(set(used_trig_SW))"
   ]
  },
  {
   "cell_type": "code",
   "execution_count": 29,
   "metadata": {},
   "outputs": [],
   "source": [
    "unused_trigger_df = expert_label_df[~expert_label_df['TRIGGER_ID'].isin(used_trig_SW_set)]"
   ]
  },
  {
   "cell_type": "code",
   "execution_count": 32,
   "metadata": {},
   "outputs": [],
   "source": [
    "species_remove = ['Fisher',\n",
    "                 'Skunk, Striped',\n",
    "                 'Grouse, Ruffed',\n",
    "                 'Otter',\n",
    "                 'Mink',\n",
    "                 'Weasel',\n",
    "                 'Porcupine',\n",
    "                 'Squirrels and Chipmunks']\n",
    "\n",
    "unused_trigger_df = unused_trigger_df[~unused_trigger_df['CLASS_SPECIES'].isin(species_remove)]"
   ]
  },
  {
   "cell_type": "code",
   "execution_count": 34,
   "metadata": {},
   "outputs": [
    {
     "data": {
      "text/plain": [
       "array(['Coyote', 'Deer', 'Cottontail', 'Fox, Red', 'Wolf', 'Elk',\n",
       "       'Raccoon', 'Snowshoe Hare', 'Opossum', 'Turkey', 'Fox, Gray',\n",
       "       'Bear'], dtype=object)"
      ]
     },
     "execution_count": 34,
     "metadata": {},
     "output_type": "execute_result"
    }
   ],
   "source": [
    "unused_trigger_df.CLASS_SPECIES.unique()"
   ]
  },
  {
   "cell_type": "code",
   "execution_count": 36,
   "metadata": {},
   "outputs": [
    {
     "data": {
      "text/html": [
       "<div>\n",
       "<style scoped>\n",
       "    .dataframe tbody tr th:only-of-type {\n",
       "        vertical-align: middle;\n",
       "    }\n",
       "\n",
       "    .dataframe tbody tr th {\n",
       "        vertical-align: top;\n",
       "    }\n",
       "\n",
       "    .dataframe thead th {\n",
       "        text-align: right;\n",
       "    }\n",
       "</style>\n",
       "<table border=\"1\" class=\"dataframe\">\n",
       "  <thead>\n",
       "    <tr style=\"text-align: right;\">\n",
       "      <th></th>\n",
       "      <th>TRIGGER_ID</th>\n",
       "      <th>Total</th>\n",
       "    </tr>\n",
       "    <tr>\n",
       "      <th>CLASS_SPECIES</th>\n",
       "      <th></th>\n",
       "      <th></th>\n",
       "    </tr>\n",
       "  </thead>\n",
       "  <tbody>\n",
       "    <tr>\n",
       "      <th>Bear</th>\n",
       "      <td>6</td>\n",
       "      <td>6</td>\n",
       "    </tr>\n",
       "    <tr>\n",
       "      <th>Cottontail</th>\n",
       "      <td>19</td>\n",
       "      <td>19</td>\n",
       "    </tr>\n",
       "    <tr>\n",
       "      <th>Coyote</th>\n",
       "      <td>297</td>\n",
       "      <td>297</td>\n",
       "    </tr>\n",
       "    <tr>\n",
       "      <th>Deer</th>\n",
       "      <td>3704</td>\n",
       "      <td>3704</td>\n",
       "    </tr>\n",
       "    <tr>\n",
       "      <th>Elk</th>\n",
       "      <td>1856</td>\n",
       "      <td>1856</td>\n",
       "    </tr>\n",
       "    <tr>\n",
       "      <th>Fox, Gray</th>\n",
       "      <td>2</td>\n",
       "      <td>2</td>\n",
       "    </tr>\n",
       "    <tr>\n",
       "      <th>Fox, Red</th>\n",
       "      <td>76</td>\n",
       "      <td>76</td>\n",
       "    </tr>\n",
       "    <tr>\n",
       "      <th>Opossum</th>\n",
       "      <td>16</td>\n",
       "      <td>16</td>\n",
       "    </tr>\n",
       "    <tr>\n",
       "      <th>Raccoon</th>\n",
       "      <td>16</td>\n",
       "      <td>16</td>\n",
       "    </tr>\n",
       "    <tr>\n",
       "      <th>Snowshoe Hare</th>\n",
       "      <td>139</td>\n",
       "      <td>139</td>\n",
       "    </tr>\n",
       "    <tr>\n",
       "      <th>Turkey</th>\n",
       "      <td>1</td>\n",
       "      <td>1</td>\n",
       "    </tr>\n",
       "    <tr>\n",
       "      <th>Wolf</th>\n",
       "      <td>2842</td>\n",
       "      <td>2842</td>\n",
       "    </tr>\n",
       "  </tbody>\n",
       "</table>\n",
       "</div>"
      ],
      "text/plain": [
       "               TRIGGER_ID  Total\n",
       "CLASS_SPECIES                   \n",
       "Bear                    6      6\n",
       "Cottontail             19     19\n",
       "Coyote                297    297\n",
       "Deer                 3704   3704\n",
       "Elk                  1856   1856\n",
       "Fox, Gray               2      2\n",
       "Fox, Red               76     76\n",
       "Opossum                16     16\n",
       "Raccoon                16     16\n",
       "Snowshoe Hare         139    139\n",
       "Turkey                  1      1\n",
       "Wolf                 2842   2842"
      ]
     },
     "execution_count": 36,
     "metadata": {},
     "output_type": "execute_result"
    }
   ],
   "source": [
    "unused_trigger_df.groupby('CLASS_SPECIES').count()"
   ]
  },
  {
   "cell_type": "code",
   "execution_count": 37,
   "metadata": {},
   "outputs": [],
   "source": [
    "unused_trigger_dce_df = unused_trigger_df[unused_trigger_df['CLASS_SPECIES'].isin(['Deer', 'Coyote', 'Elk'])]"
   ]
  },
  {
   "cell_type": "code",
   "execution_count": 39,
   "metadata": {},
   "outputs": [],
   "source": [
    "unused_trigger_dce_sample = unused_trigger_dce_df.sample(n=250)"
   ]
  },
  {
   "cell_type": "code",
   "execution_count": 41,
   "metadata": {},
   "outputs": [
    {
     "data": {
      "text/html": [
       "<div>\n",
       "<style scoped>\n",
       "    .dataframe tbody tr th:only-of-type {\n",
       "        vertical-align: middle;\n",
       "    }\n",
       "\n",
       "    .dataframe tbody tr th {\n",
       "        vertical-align: top;\n",
       "    }\n",
       "\n",
       "    .dataframe thead th {\n",
       "        text-align: right;\n",
       "    }\n",
       "</style>\n",
       "<table border=\"1\" class=\"dataframe\">\n",
       "  <thead>\n",
       "    <tr style=\"text-align: right;\">\n",
       "      <th></th>\n",
       "      <th>TRIGGER_ID</th>\n",
       "      <th>Total</th>\n",
       "    </tr>\n",
       "    <tr>\n",
       "      <th>CLASS_SPECIES</th>\n",
       "      <th></th>\n",
       "      <th></th>\n",
       "    </tr>\n",
       "  </thead>\n",
       "  <tbody>\n",
       "    <tr>\n",
       "      <th>Coyote</th>\n",
       "      <td>15</td>\n",
       "      <td>15</td>\n",
       "    </tr>\n",
       "    <tr>\n",
       "      <th>Deer</th>\n",
       "      <td>161</td>\n",
       "      <td>161</td>\n",
       "    </tr>\n",
       "    <tr>\n",
       "      <th>Elk</th>\n",
       "      <td>74</td>\n",
       "      <td>74</td>\n",
       "    </tr>\n",
       "  </tbody>\n",
       "</table>\n",
       "</div>"
      ],
      "text/plain": [
       "               TRIGGER_ID  Total\n",
       "CLASS_SPECIES                   \n",
       "Coyote                 15     15\n",
       "Deer                  161    161\n",
       "Elk                    74     74"
      ]
     },
     "execution_count": 41,
     "metadata": {},
     "output_type": "execute_result"
    }
   ],
   "source": [
    "unused_trigger_dce_sample.groupby('CLASS_SPECIES').count()"
   ]
  },
  {
   "cell_type": "code",
   "execution_count": 44,
   "metadata": {},
   "outputs": [],
   "source": [
    "top_path = '/Users/sleung2/Documents/MIDS Program/Capstone_local/snapshot_wisconsin/all/'\n",
    "\n",
    "for row, values in unused_trigger_dce_sample.iterrows():\n",
    "    event = values['TRIGGER_ID']\n",
    "    \n",
    "    for letter in ['A', 'B', 'C']:\n",
    "        img_file = '/Users/sleung2/Documents/MIDS Program/Capstone_local/snapshot_wisconsin_expert_resized/' + event + letter + '.jpg'\n",
    "            \n",
    "        try:\n",
    "            shutil.copy(img_file,\n",
    "                     top_path + 'yolo_splits4/test/images/' +  event + letter + '.jpg')\n",
    "         \n",
    "\n",
    "        except:\n",
    "            print(event)\n",
    "            "
   ]
  },
  {
   "cell_type": "code",
   "execution_count": 45,
   "metadata": {},
   "outputs": [],
   "source": [
    "#NEW LIST of test images\n",
    "\n",
    "new_test_triggers = []\n",
    "\n",
    "splits = ['test/']\n",
    "\n",
    "for split in splits:\n",
    "    for im in os.listdir('/Users/sleung2/Documents/MIDS Program/Capstone_local/snapshot_wisconsin/all/yolo_splits4/' + split + 'images/'):\n",
    "        new_test_triggers.append(im)"
   ]
  },
  {
   "cell_type": "code",
   "execution_count": 47,
   "metadata": {},
   "outputs": [],
   "source": [
    "\n",
    "\n",
    "new_trig_SW = [im[:-5] for im in new_test_triggers]\n",
    "\n",
    "\n",
    "new_trig_SW_set = list(set(new_trig_SW))"
   ]
  },
  {
   "cell_type": "code",
   "execution_count": 55,
   "metadata": {},
   "outputs": [],
   "source": [
    "expert_label_used_df = expert_label_df[expert_label_df['TRIGGER_ID'].isin(new_trig_SW_set)]"
   ]
  },
  {
   "cell_type": "code",
   "execution_count": 53,
   "metadata": {},
   "outputs": [],
   "source": [
    "species_dist_df = pd.read_excel('species_distribution_test.xlsx')\n",
    "\n",
    "\n"
   ]
  },
  {
   "cell_type": "code",
   "execution_count": 61,
   "metadata": {},
   "outputs": [],
   "source": [
    "test_labels = pd.merge(expert_label_used_df, species_dist_df[['CLASS_SPECIES','CLASS_SPECIES_RESTATED']],\n",
    "        how = 'left',\n",
    "        on = 'CLASS_SPECIES')#.to_csv('test_labels.csv')"
   ]
  },
  {
   "cell_type": "code",
   "execution_count": 63,
   "metadata": {},
   "outputs": [],
   "source": [
    "test_dist = test_labels.groupby('CLASS_SPECIES_RESTATED').count().reset_index()"
   ]
  },
  {
   "cell_type": "code",
   "execution_count": 65,
   "metadata": {},
   "outputs": [],
   "source": [
    "test_dist['perc'] = test_dist['CLASS_SPECIES']/test_dist['CLASS_SPECIES'].sum()"
   ]
  },
  {
   "cell_type": "code",
   "execution_count": 67,
   "metadata": {},
   "outputs": [
    {
     "data": {
      "text/html": [
       "<div>\n",
       "<style scoped>\n",
       "    .dataframe tbody tr th:only-of-type {\n",
       "        vertical-align: middle;\n",
       "    }\n",
       "\n",
       "    .dataframe tbody tr th {\n",
       "        vertical-align: top;\n",
       "    }\n",
       "\n",
       "    .dataframe thead th {\n",
       "        text-align: right;\n",
       "    }\n",
       "</style>\n",
       "<table border=\"1\" class=\"dataframe\">\n",
       "  <thead>\n",
       "    <tr style=\"text-align: right;\">\n",
       "      <th></th>\n",
       "      <th>CLASS_SPECIES_RESTATED</th>\n",
       "      <th>TRIGGER_ID</th>\n",
       "      <th>CLASS_SPECIES</th>\n",
       "      <th>Total</th>\n",
       "      <th>perc</th>\n",
       "    </tr>\n",
       "  </thead>\n",
       "  <tbody>\n",
       "    <tr>\n",
       "      <th>6</th>\n",
       "      <td>opossum</td>\n",
       "      <td>52</td>\n",
       "      <td>52</td>\n",
       "      <td>52</td>\n",
       "      <td>0.035254</td>\n",
       "    </tr>\n",
       "    <tr>\n",
       "      <th>5</th>\n",
       "      <td>foxgray_foxred</td>\n",
       "      <td>70</td>\n",
       "      <td>70</td>\n",
       "      <td>70</td>\n",
       "      <td>0.047458</td>\n",
       "    </tr>\n",
       "    <tr>\n",
       "      <th>9</th>\n",
       "      <td>turkey</td>\n",
       "      <td>74</td>\n",
       "      <td>74</td>\n",
       "      <td>74</td>\n",
       "      <td>0.050169</td>\n",
       "    </tr>\n",
       "    <tr>\n",
       "      <th>7</th>\n",
       "      <td>other</td>\n",
       "      <td>83</td>\n",
       "      <td>83</td>\n",
       "      <td>83</td>\n",
       "      <td>0.056271</td>\n",
       "    </tr>\n",
       "    <tr>\n",
       "      <th>8</th>\n",
       "      <td>raccoon</td>\n",
       "      <td>119</td>\n",
       "      <td>119</td>\n",
       "      <td>119</td>\n",
       "      <td>0.080678</td>\n",
       "    </tr>\n",
       "    <tr>\n",
       "      <th>1</th>\n",
       "      <td>cottontail_snowshoehare</td>\n",
       "      <td>122</td>\n",
       "      <td>122</td>\n",
       "      <td>122</td>\n",
       "      <td>0.082712</td>\n",
       "    </tr>\n",
       "    <tr>\n",
       "      <th>10</th>\n",
       "      <td>wolf</td>\n",
       "      <td>126</td>\n",
       "      <td>126</td>\n",
       "      <td>126</td>\n",
       "      <td>0.085424</td>\n",
       "    </tr>\n",
       "    <tr>\n",
       "      <th>0</th>\n",
       "      <td>bear</td>\n",
       "      <td>130</td>\n",
       "      <td>130</td>\n",
       "      <td>130</td>\n",
       "      <td>0.088136</td>\n",
       "    </tr>\n",
       "    <tr>\n",
       "      <th>2</th>\n",
       "      <td>coyote</td>\n",
       "      <td>150</td>\n",
       "      <td>150</td>\n",
       "      <td>150</td>\n",
       "      <td>0.101695</td>\n",
       "    </tr>\n",
       "    <tr>\n",
       "      <th>4</th>\n",
       "      <td>elk</td>\n",
       "      <td>197</td>\n",
       "      <td>197</td>\n",
       "      <td>197</td>\n",
       "      <td>0.133559</td>\n",
       "    </tr>\n",
       "    <tr>\n",
       "      <th>3</th>\n",
       "      <td>deer</td>\n",
       "      <td>352</td>\n",
       "      <td>352</td>\n",
       "      <td>352</td>\n",
       "      <td>0.238644</td>\n",
       "    </tr>\n",
       "  </tbody>\n",
       "</table>\n",
       "</div>"
      ],
      "text/plain": [
       "     CLASS_SPECIES_RESTATED  TRIGGER_ID  CLASS_SPECIES  Total      perc\n",
       "6                   opossum          52             52     52  0.035254\n",
       "5            foxgray_foxred          70             70     70  0.047458\n",
       "9                    turkey          74             74     74  0.050169\n",
       "7                     other          83             83     83  0.056271\n",
       "8                   raccoon         119            119    119  0.080678\n",
       "1   cottontail_snowshoehare         122            122    122  0.082712\n",
       "10                     wolf         126            126    126  0.085424\n",
       "0                      bear         130            130    130  0.088136\n",
       "2                    coyote         150            150    150  0.101695\n",
       "4                       elk         197            197    197  0.133559\n",
       "3                      deer         352            352    352  0.238644"
      ]
     },
     "execution_count": 67,
     "metadata": {},
     "output_type": "execute_result"
    }
   ],
   "source": [
    "test_dist.sort_values(by = 'perc')"
   ]
  },
  {
   "cell_type": "code",
   "execution_count": null,
   "metadata": {},
   "outputs": [],
   "source": []
  }
 ],
 "metadata": {
  "kernelspec": {
   "display_name": "Python 3",
   "language": "python",
   "name": "python3"
  },
  "language_info": {
   "codemirror_mode": {
    "name": "ipython",
    "version": 3
   },
   "file_extension": ".py",
   "mimetype": "text/x-python",
   "name": "python",
   "nbconvert_exporter": "python",
   "pygments_lexer": "ipython3",
   "version": "3.8.5"
  }
 },
 "nbformat": 4,
 "nbformat_minor": 4
}
