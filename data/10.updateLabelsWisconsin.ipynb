{
  "nbformat": 4,
  "nbformat_minor": 0,
  "metadata": {
    "colab": {
      "name": "updateLabels.ipynb",
      "private_outputs": true,
      "provenance": []
    },
    "kernelspec": {
      "name": "python3",
      "display_name": "Python 3"
    },
    "language_info": {
      "name": "python"
    }
  },
  "cells": [
    {
      "cell_type": "code",
      "metadata": {
        "id": "8Kwf6IIqqSHL"
      },
      "source": [
        "import pandas as pd\n",
        "import glob\n",
        "import os"
      ],
      "execution_count": null,
      "outputs": []
    },
    {
      "cell_type": "code",
      "metadata": {
        "id": "YluznRnxoPRG"
      },
      "source": [
        "!unrar x \"/content/drive/MyDrive/Capstone 2021/Data/yoloData/val/labels.rar\" \"/content/drive/MyDrive/Capstone 2021/Data/yoloData/val/labels/\""
      ],
      "execution_count": null,
      "outputs": []
    },
    {
      "cell_type": "code",
      "metadata": {
        "id": "l82mMKW8pHC2"
      },
      "source": [
        "! cp -r \"/content/drive/MyDrive/Capstone 2021/Data/yoloData/val/labels/\" \"/content/drive/MyDrive/Capstone 2021/Data/yoloData/val/labels_bkp/\""
      ],
      "execution_count": null,
      "outputs": []
    },
    {
      "cell_type": "code",
      "metadata": {
        "id": "4mBNpWVPrCtS"
      },
      "source": [
        "path = r'/content/drive/MyDrive/Capstone 2021/Data/yoloData/val/labels/labels' # use your path\n",
        "all_files = glob.glob(path + \"/*.txt\")\n",
        "print(len(all_files))"
      ],
      "execution_count": null,
      "outputs": []
    },
    {
      "cell_type": "code",
      "metadata": {
        "id": "G4YWsD8MmUN_"
      },
      "source": [
        "from google.colab import drive\n",
        "drive.mount('/content/drive')"
      ],
      "execution_count": null,
      "outputs": []
    },
    {
      "cell_type": "code",
      "metadata": {
        "id": "8Q7NGoWNq03o"
      },
      "source": [
        "list1 = []\n",
        "\n",
        "for filename in all_files:\n",
        "    df = pd.read_csv(filename, index_col=None, names=[\"cat\",\"file\"])\n",
        "    df['file'] = filename\n",
        "    list1.append(df)\n",
        "df1 = pd.concat(list1, axis=0, ignore_index=True)"
      ],
      "execution_count": null,
      "outputs": []
    },
    {
      "cell_type": "code",
      "metadata": {
        "id": "DralSrku3kXO"
      },
      "source": [
        "df1"
      ],
      "execution_count": null,
      "outputs": []
    },
    {
      "cell_type": "code",
      "metadata": {
        "id": "Yx-9rY8ouYA8"
      },
      "source": [
        "df1['path']=\"/content/drive/MyDrive/Capstone 2021/Data/yoloData/val/labels/\"+df1.file.str.split('/').str[-1]"
      ],
      "execution_count": null,
      "outputs": []
    },
    {
      "cell_type": "code",
      "metadata": {
        "id": "g47rcjXAvEj6"
      },
      "source": [
        "df1.head()"
      ],
      "execution_count": null,
      "outputs": []
    },
    {
      "cell_type": "code",
      "metadata": {
        "id": "qI0KVZNL-YIt"
      },
      "source": [
        "df1[['cat','res']] = df1[\"cat\"].str.split(\" \", 1, expand=True)"
      ],
      "execution_count": null,
      "outputs": []
    },
    {
      "cell_type": "code",
      "metadata": {
        "id": "7fQeQmLx-nDh"
      },
      "source": [
        "df1"
      ],
      "execution_count": null,
      "outputs": []
    },
    {
      "cell_type": "code",
      "metadata": {
        "id": "NgnqAQ-UGFXw"
      },
      "source": [
        "print(len(all_files))"
      ],
      "execution_count": null,
      "outputs": []
    },
    {
      "cell_type": "code",
      "metadata": {
        "id": "Rs-7Hyq0_ayy"
      },
      "source": [
        "df1['cat'].replace([7], 162)\n",
        "df1['cat'].replace([9], 26)\n",
        "df1['cat'].replace([0], 73)\n",
        "df1['cat'].replace([5], 101)\n",
        "df1['cat'].replace([3], 163)\n",
        "df1['cat'].replace([2], 191)"
      ],
      "execution_count": null,
      "outputs": []
    },
    {
      "cell_type": "code",
      "metadata": {
        "id": "AqHt5MHNA2nf"
      },
      "source": [
        "df1['dategory'] = df1['cat'] + ' ' + df1['res']"
      ],
      "execution_count": null,
      "outputs": []
    },
    {
      "cell_type": "code",
      "metadata": {
        "id": "Rra5GO-qA-Xc"
      },
      "source": [
        "df1"
      ],
      "execution_count": null,
      "outputs": []
    },
    {
      "cell_type": "code",
      "metadata": {
        "id": "OOuBPgXbGG72"
      },
      "source": [
        "for index, row in df1.iterrows():\n",
        "    print(row[\"file\"])\n",
        "    with open((str(row[\"path\"]) ), \"a+\") as f:\n",
        "        f.write(str(row[\"dategory\"]))"
      ],
      "execution_count": null,
      "outputs": []
    },
    {
      "cell_type": "code",
      "metadata": {
        "id": "pKBbsmKrHb5l"
      },
      "source": [
        "path = r'/content/drive/MyDrive/Capstone 2021/Data/yoloData/train/labels' # use your path\n",
        "all_files1 = glob.glob(path + \"/*.txt\")\n",
        "len(all_files1)"
      ],
      "execution_count": null,
      "outputs": []
    },
    {
      "cell_type": "code",
      "metadata": {
        "id": "8IXgW0mM-D87"
      },
      "source": [
        "!unzip \"/content/drive/MyDrive/Capstone 2021/Data/yolo_splits3.zip\" -d \"/content/drive/MyDrive/Capstone 2021/Data/yolo_splits3\""
      ],
      "execution_count": null,
      "outputs": []
    }
  ]
}