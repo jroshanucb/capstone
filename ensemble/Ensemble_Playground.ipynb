{
  "nbformat": 4,
  "nbformat_minor": 0,
  "metadata": {
    "colab": {
      "name": "Ensemble_Playground.ipynb",
      "provenance": [],
      "collapsed_sections": [
        "QjFTL5GPCiXS",
        "lrQCdI4KMNn0",
        "ZKpuiZMg61NT"
      ],
      "toc_visible": true,
      "authorship_tag": "ABX9TyNt8aDmWDh0zpujdkDMIRwj",
      "include_colab_link": true
    },
    "kernelspec": {
      "name": "python3",
      "display_name": "Python 3"
    },
    "language_info": {
      "name": "python"
    }
  },
  "cells": [
    {
      "cell_type": "markdown",
      "metadata": {
        "id": "view-in-github",
        "colab_type": "text"
      },
      "source": [
        "<a href=\"https://colab.research.google.com/github/juliantsang1/capstone/blob/main/ensemble/Ensemble_Playground.ipynb\" target=\"_parent\"><img src=\"https://colab.research.google.com/assets/colab-badge.svg\" alt=\"Open In Colab\"/></a>"
      ]
    },
    {
      "cell_type": "code",
      "metadata": {
        "colab": {
          "base_uri": "https://localhost:8080/"
        },
        "id": "thF5kSFNs39A",
        "outputId": "3aa29507-6948-4cb9-d91e-b4da77bb33df"
      },
      "source": [
        "from google.colab import drive\n",
        "drive.mount('/content/gdrive')"
      ],
      "execution_count": null,
      "outputs": [
        {
          "output_type": "stream",
          "name": "stdout",
          "text": [
            "Mounted at /content/gdrive\n"
          ]
        }
      ]
    },
    {
      "cell_type": "code",
      "metadata": {
        "id": "PvYIwzjOtLV0"
      },
      "source": [
        "import pandas as pd\n",
        "pd.options.mode.chained_assignment = None  # default='warn'"
      ],
      "execution_count": null,
      "outputs": []
    },
    {
      "cell_type": "markdown",
      "metadata": {
        "id": "QjFTL5GPCiXS"
      },
      "source": [
        "### load test data"
      ]
    },
    {
      "cell_type": "code",
      "metadata": {
        "colab": {
          "base_uri": "https://localhost:8080/",
          "height": 81
        },
        "id": "pcgrVfDcCTRB",
        "outputId": "37effd43-c694-47f1-9d1b-7b2b1ea7b140"
      },
      "source": [
        "test_data = pd.read_csv('/content/gdrive/My Drive/Colab Notebooks/w210_capstone/yolo_splits_3/yolo_splits3/test/test_labels.csv')\n",
        "test_data[test_data.TRIGGER_ID == 'SSWI000000013549996']"
      ],
      "execution_count": null,
      "outputs": [
        {
          "output_type": "execute_result",
          "data": {
            "text/html": [
              "<div>\n",
              "<style scoped>\n",
              "    .dataframe tbody tr th:only-of-type {\n",
              "        vertical-align: middle;\n",
              "    }\n",
              "\n",
              "    .dataframe tbody tr th {\n",
              "        vertical-align: top;\n",
              "    }\n",
              "\n",
              "    .dataframe thead th {\n",
              "        text-align: right;\n",
              "    }\n",
              "</style>\n",
              "<table border=\"1\" class=\"dataframe\">\n",
              "  <thead>\n",
              "    <tr style=\"text-align: right;\">\n",
              "      <th></th>\n",
              "      <th>TRIGGER_ID</th>\n",
              "      <th>CLASS_SPECIES</th>\n",
              "      <th>Total</th>\n",
              "      <th>CLASS_SPECIES_RESTATED</th>\n",
              "    </tr>\n",
              "  </thead>\n",
              "  <tbody>\n",
              "    <tr>\n",
              "      <th>203</th>\n",
              "      <td>SSWI000000013549996</td>\n",
              "      <td>Wolf</td>\n",
              "      <td>1</td>\n",
              "      <td>wolf</td>\n",
              "    </tr>\n",
              "  </tbody>\n",
              "</table>\n",
              "</div>"
            ],
            "text/plain": [
              "              TRIGGER_ID CLASS_SPECIES  Total CLASS_SPECIES_RESTATED\n",
              "203  SSWI000000013549996          Wolf      1                   wolf"
            ]
          },
          "metadata": {},
          "execution_count": 80
        }
      ]
    },
    {
      "cell_type": "code",
      "metadata": {
        "id": "dO0HJWeg4kib"
      },
      "source": [
        "#YOLO Species Logic\n",
        "# Species\n",
        "#\n",
        "# Events with multiple images of same class will be labeled the majority class\n",
        "#   For event to be labeled Blank, all images must be blank\n",
        "# Events with all different labels will get labelled with highest confidence score\n",
        "#\n",
        "#Counts\n",
        "# Events with multiple images of same class- we will take the max of the majority class\n",
        "# Events with all different labels will get labelled with the count of highest conf score label\n",
        "\n",
        "\"\"\"\n",
        "output:\n",
        "event level: event_id, species class name, count, bounding boxes, top3 dict (species name: confidence)\n",
        "scale yolo top1 by 1.5x\n",
        "\"\"\""
      ],
      "execution_count": null,
      "outputs": []
    },
    {
      "cell_type": "code",
      "metadata": {
        "id": "umjlLuOq-xYU"
      },
      "source": [
        "\"\"\"\n",
        "output: format:\n",
        "\n",
        "  { event_id: ######\n",
        "      {\n",
        "        species_class: 0\n",
        "        species_name: deer\n",
        "        count: 1\n",
        "        bbox: [\n",
        "          [x, y, w, h]\n",
        "        ]\n",
        "        conf: 0.79\n",
        "        top3: {\n",
        "          deer: 0.79,\n",
        "          elk: 0.4\n",
        "          fox: 0.1\n",
        "        }\n",
        "      }\n",
        "\n",
        "  }\n",
        "\"\"\""
      ],
      "execution_count": null,
      "outputs": []
    },
    {
      "cell_type": "markdown",
      "metadata": {
        "id": "Rx-spC2DMNYM"
      },
      "source": [
        "## Full Evaluation"
      ]
    },
    {
      "cell_type": "code",
      "metadata": {
        "id": "0V8s7nvrPo8V"
      },
      "source": [
        "sample_input = pd.read_csv('/content/gdrive/My Drive/Colab Notebooks/w210_capstone/ensemble_playground/model_output (2).csv', sep=';')"
      ],
      "execution_count": null,
      "outputs": []
    },
    {
      "cell_type": "code",
      "metadata": {
        "id": "VSUTddpaP2Um"
      },
      "source": [
        "df_model_id3 = sample_input[sample_input.model_id == 3]\n",
        "df_model_id4 = sample_input[sample_input.model_id == 4]"
      ],
      "execution_count": null,
      "outputs": []
    },
    {
      "cell_type": "code",
      "metadata": {
        "id": "TqfUisyLP2OV"
      },
      "source": [
        "def create_species_conf_dict(x, y):\n",
        "  \"\"\"\n",
        "  zip class predictions and confidence scores together into a dictionary\n",
        "  at the image level\n",
        "  \"\"\"\n",
        "  if isinstance(x, float):\n",
        "    pass\n",
        "  else:\n",
        "    species_list = list(x.split(\",\"))\n",
        "    conf_list = list(y.split(\",\"))\n",
        "    return dict(zip(species_list, conf_list))\n",
        "\n",
        "\n",
        "def merge_species_conf_dict_top3(x, y, z):\n",
        "  \"\"\"\n",
        "  merge image-level dictionaries into event level\n",
        "  only gets the top prediction for each image\n",
        "  \"\"\"\n",
        "  if x is None:\n",
        "    x = {'None': 0}\n",
        "  if y is None:\n",
        "    y = {'None': 0}\n",
        "  if z is None:\n",
        "    z = {'None': 0}\n",
        "\n",
        "  dict_list = [list(x.items())[0],list(y.items())[0],list(z.items())[0]]\n",
        "  #print(dict_list)\n",
        "  preds_dict = {}\n",
        "\n",
        "  for item in dict_list:\n",
        "    if item is None:\n",
        "      pass\n",
        "    else:\n",
        "      if item[0] in preds_dict:\n",
        "        preds_dict[item[0]].append(float(item[1]))\n",
        "      else:\n",
        "        preds_dict[item[0]] = [float(item[1])]\n",
        "\n",
        "      \n",
        "  return preds_dict\n",
        "\n",
        "def get_topk(x, k):\n",
        "  \"\"\"\n",
        "  get top k entries in dictionary according to confidence score\n",
        "  \"\"\"\n",
        "  topk_event_dict = {}\n",
        "  top_ind = sorted(x, key=x.get, reverse=True)[:k]\n",
        "  conf_scores = {}\n",
        "  for i in top_ind:\n",
        "    conf_scores[i] = max(x[i])\n",
        "  \n",
        "  return conf_scores\n",
        "\n",
        "def get_pred_from_top3(consol_dict):\n",
        "\n",
        "  ## if all 3 predictions are different classes, defer to class with highest confidence\n",
        "  if len(consol_dict) == 3:\n",
        "    return get_topk(consol_dict, 1)\n",
        "\n",
        "  ## if there is an even number of predictions (2), defer to class with more appearances (has a longer list)\n",
        "  elif len(consol_dict) == 2:\n",
        "    max_key = max(consol_dict, key= lambda x: len(set(consol_dict[x])))\n",
        "    return {max_key: max(consol_dict[max_key])}\n",
        "  \n",
        "  ## if there is only one class of predictions, return the class with highest confidence\n",
        "  else:\n",
        "    return get_topk(consol_dict, 1)\n",
        "\n",
        "def merge_species_conf_dict(x, y, z):\n",
        "  \"\"\"\n",
        "  combine full confidence dictionaries across images in an event\n",
        "  \"\"\"\n",
        "  dict_list = [x,y,z]\n",
        "  #print(dict_list)\n",
        "  preds_dict = {}\n",
        "\n",
        "  for item in dict_list:\n",
        "    if item is None:\n",
        "      pass\n",
        "    else:\n",
        "      for key, value in item.items():\n",
        "        if key in preds_dict:\n",
        "          preds_dict[key].append(value)\n",
        "        else:\n",
        "          preds_dict[key] = [value]\n",
        "      \n",
        "  return preds_dict\n",
        "\n",
        "\n",
        "\n",
        "df_model_id3['img1_species_conf_dict'] = df_model_id3.apply(lambda x: create_species_conf_dict(x.image_id_1_species_name, x.image_id_1_conf), axis=1)\n",
        "df_model_id3['img2_species_conf_dict'] = df_model_id3.apply(lambda x: create_species_conf_dict(x.image_id_2_species_name, x.image_id_2_conf), axis=1)\n",
        "df_model_id3['img3_species_conf_dict'] = df_model_id3.apply(lambda x: create_species_conf_dict(x.image_id_3_species_name, x.image_id_3_conf), axis=1)\n",
        "\n",
        "df_model_id4['img1_species_conf_dict'] = df_model_id4.apply(lambda x: create_species_conf_dict(x.image_id_1_species_name, x.image_id_1_conf), axis=1)\n",
        "df_model_id4['img2_species_conf_dict'] = df_model_id4.apply(lambda x: create_species_conf_dict(x.image_id_2_species_name, x.image_id_2_conf), axis=1)\n",
        "df_model_id4['img3_species_conf_dict'] = df_model_id4.apply(lambda x: create_species_conf_dict(x.image_id_3_species_name, x.image_id_3_conf), axis=1)\n",
        "\n",
        "\n",
        "df_model_id3['consol_dict'] = df_model_id3.apply(lambda x: merge_species_conf_dict_top3(x.img1_species_conf_dict, x.img2_species_conf_dict, x.img3_species_conf_dict), axis=1)\n",
        "df_model_id4['consol_dict'] = df_model_id4.apply(lambda x: merge_species_conf_dict_top3(x.img1_species_conf_dict, x.img2_species_conf_dict, x.img3_species_conf_dict), axis=1)\n",
        "\n",
        "df_model_id3['top_pred'] = df_model_id3.apply(lambda x: get_pred_from_top3(x.consol_dict), axis=1)\n",
        "df_model_id4['top_pred'] = df_model_id4.apply(lambda x: get_pred_from_top3(x.consol_dict), axis=1)\n",
        "\n",
        "df_model_id3['top3_dict'] = df_model_id3.apply(lambda x: get_topk(merge_species_conf_dict(x.img1_species_conf_dict, x.img2_species_conf_dict, x.img3_species_conf_dict),3), axis=1)\n",
        "df_model_id4['top3_dict'] = df_model_id4.apply(lambda x: get_topk(merge_species_conf_dict(x.img1_species_conf_dict, x.img2_species_conf_dict, x.img3_species_conf_dict),3), axis=1)"
      ],
      "execution_count": null,
      "outputs": []
    },
    {
      "cell_type": "code",
      "metadata": {
        "id": "2AqkX-yoQa6F"
      },
      "source": [
        "\"\"\"\n",
        "merge model_id3 and model_id4 at the event level\n",
        "the final prediction dictionaries from both models can be on the same row\n",
        "\"\"\"\n",
        "df_merge = pd.merge(df_model_id3, df_model_id4, how='inner', on=\"image_group_id\", suffixes=('_3', '_4'))\n",
        "df_merge = df_merge[['image_group_id', 'top_pred_3', 'top3_dict_3', 'top_pred_4', 'top3_dict_4']]\n",
        "#df_merge.head()"
      ],
      "execution_count": null,
      "outputs": []
    },
    {
      "cell_type": "code",
      "metadata": {
        "id": "8UzI42b0Qa6G"
      },
      "source": [
        "\"\"\"\n",
        "before we combine scores, we should weight the predictions between model_id3 and model_id4\n",
        "to slightly bias the scores towards model_id3\n",
        "\n",
        "80/67 = 1.2\n",
        "\n",
        "multiply topk_conf_3 by 1.2\n",
        "divide topk_conf_4 by 1.2\n",
        "\"\"\"\n",
        "\n",
        "def scale_model_id3(x):\n",
        "  ## x is a dictionary\n",
        "  intermed_dict = {key: float(value) * 1.2 for key, value in x.items()}\n",
        "  ## cap maximum possible score at 0.99\n",
        "  output_dict = {key: (0.99 if float(value) > 1 else float(value)) for key, value in intermed_dict.items()}\n",
        "  return output_dict\n",
        "\n",
        "def scale_model_id4(x):\n",
        "  ## x is a dictionary\n",
        "  return {key: float(value) / 1.2 for key, value in x.items()}\n",
        "\n",
        "df_merge['topk_conf_3_scaled'] = df_merge.apply(lambda x: scale_model_id3(x.top3_dict_3), axis=1)\n",
        "df_merge['topk_conf_4_scaled'] = df_merge.apply(lambda x: scale_model_id4(x.top3_dict_4), axis=1)"
      ],
      "execution_count": null,
      "outputs": []
    },
    {
      "cell_type": "code",
      "metadata": {
        "id": "vKIRrMgcQa6G"
      },
      "source": [
        "\"\"\"\n",
        "output final topk dictionary of species predictions and their confidence scores\n",
        "\"\"\"\n",
        "\n",
        "def combine_topk_conf(x, y):\n",
        "  dict_list = [x,y]\n",
        "  #print(dict_list)\n",
        "  preds_dict = {}\n",
        "\n",
        "  for item in dict_list:\n",
        "    if item is None:\n",
        "      pass\n",
        "    else:\n",
        "      for key, value in item.items():\n",
        "        if key in preds_dict:\n",
        "          preds_dict[key].append(value)\n",
        "        else:\n",
        "          preds_dict[key] = [value]\n",
        "      \n",
        "  return preds_dict\n",
        "\n",
        "def get_final_topk(x, k):\n",
        "  topk_event_dict = {}\n",
        "  top_ind = sorted(x, key=x.get, reverse=True)[:k]\n",
        "  conf_scores = {}\n",
        "  for i in top_ind:\n",
        "    conf_scores[i] = max(x[i])\n",
        "  \n",
        "  return conf_scores\n",
        "\n",
        "\"\"\"\n",
        "output final event prediction, conf score\n",
        "\"\"\"\n",
        "def output_final_pred_species(x):\n",
        "  if not x:\n",
        "    return None\n",
        "  else:\n",
        "    intermed_dict = {key: float(value) for key, value in x.items()}\n",
        "    top_ind = sorted(intermed_dict, key=intermed_dict.get, reverse=True)[:1]\n",
        "    #print(top_ind)\n",
        "    return top_ind[0]\n",
        "\n",
        "def output_final_pred_conf(x):\n",
        "  if not x:\n",
        "    return None\n",
        "  else:\n",
        "    intermed_dict = {key: float(value) for key, value in x.items()}\n",
        "    top_ind = sorted(intermed_dict, key=intermed_dict.get, reverse=True)[:1]\n",
        "    #print(top_ind)\n",
        "    return x[top_ind[0]]\n",
        "\n",
        "df_merge['event_final_topk_conf'] = df_merge.apply(lambda x: get_final_topk(combine_topk_conf(x.topk_conf_3_scaled, x.topk_conf_4_scaled),3), axis=1)\n",
        "df_merge['event_final_pred'] = df_merge.apply(lambda x: output_final_pred_species(x.event_final_topk_conf), axis=1)\n",
        "df_merge['event_final_pred_conf'] = df_merge.apply(lambda x: output_final_pred_conf(x.event_final_topk_conf), axis=1)\n",
        "#df_merge.head()"
      ],
      "execution_count": null,
      "outputs": []
    },
    {
      "cell_type": "code",
      "metadata": {
        "id": "FUzDv2KdUaIf"
      },
      "source": [
        "df_merge[df_merge.event_final_topk_conf == {}]"
      ],
      "execution_count": null,
      "outputs": []
    },
    {
      "cell_type": "markdown",
      "metadata": {
        "id": "zdtxZTIpWe92"
      },
      "source": [
        "### Compare Against Test True Labels"
      ]
    },
    {
      "cell_type": "code",
      "metadata": {
        "id": "23u8W4eHP11f"
      },
      "source": [
        "test_data = pd.read_csv('/content/gdrive/My Drive/Colab Notebooks/w210_capstone/yolo_splits4/yolo_splits4/test/test_labels.csv')\n",
        "test_data = test_data[test_data.CLASS_SPECIES_RESTATED != \"other\"]\n",
        "#test_data.head()"
      ],
      "execution_count": null,
      "outputs": []
    },
    {
      "cell_type": "code",
      "metadata": {
        "id": "u4tsHkFYP1tr"
      },
      "source": [
        "comparison_df = pd.merge(df_merge, test_data, how = \"inner\", left_on='image_group_id', right_on=\"TRIGGER_ID\")\n",
        "#comparison_df.head()"
      ],
      "execution_count": null,
      "outputs": []
    },
    {
      "cell_type": "code",
      "metadata": {
        "id": "gvGW94r2P1lE"
      },
      "source": [
        "test_actuals = comparison_df['CLASS_SPECIES_RESTATED'].values\n",
        "test_preds = comparison_df['event_final_pred'].values"
      ],
      "execution_count": null,
      "outputs": []
    },
    {
      "cell_type": "code",
      "metadata": {
        "colab": {
          "base_uri": "https://localhost:8080/"
        },
        "id": "Wrjt3Aw3P1bo",
        "outputId": "d3aeeef2-5dbc-4a98-8502-f4ee2164f3e8"
      },
      "source": [
        "from sklearn.metrics import confusion_matrix\n",
        "class_names = ['bear',\n",
        " 'cottontail_snowshoehare',\n",
        " 'coyote',\n",
        " 'deer',\n",
        " 'elk',\n",
        " 'foxgray_foxred',\n",
        " 'opossum',\n",
        " 'raccoon',\n",
        " 'turkey',\n",
        " 'wolf']\n",
        "confusion_matrix(test_actuals, test_preds, labels=class_names)"
      ],
      "execution_count": null,
      "outputs": [
        {
          "output_type": "execute_result",
          "data": {
            "text/plain": [
              "array([[118,   0,   0,   0,   7,   1,   1,   0,   0,   3],\n",
              "       [  2,  77,   2,   1,   0,  15,   1,   5,   4,  14],\n",
              "       [  3,   2,  22,   2,   0,  40,   1,   2,  12,  51],\n",
              "       [ 17,   3,  15,  57,   1,   9,   2,   2,  16,  69],\n",
              "       [ 13,   2,   3,  27,  47,   0,   1,   0,   2,  28],\n",
              "       [  0,   2,   3,   0,   0,  53,   1,   4,   0,   7],\n",
              "       [  1,   7,   0,   0,   0,   5,  31,   1,   0,   7],\n",
              "       [ 12,  14,   1,   0,   0,  12,  17,  40,   3,  20],\n",
              "       [  6,   3,   2,   0,   0,   2,   0,   0,  51,  10],\n",
              "       [  4,   0,  11,   5,   0,  17,   0,   0,   1,  88]])"
            ]
          },
          "metadata": {},
          "execution_count": 205
        }
      ]
    },
    {
      "cell_type": "code",
      "metadata": {
        "colab": {
          "base_uri": "https://localhost:8080/"
        },
        "id": "g_6xyKyAP1Pn",
        "outputId": "56bec556-091a-4b8a-d091-6b8bb544db6c"
      },
      "source": [
        "from sklearn.metrics import classification_report, confusion_matrix\n",
        "print(classification_report(test_actuals, test_preds, digits = 4))"
      ],
      "execution_count": null,
      "outputs": [
        {
          "output_type": "stream",
          "name": "stdout",
          "text": [
            "                         precision    recall  f1-score   support\n",
            "\n",
            "                   bear     0.6705    0.9077    0.7712       130\n",
            "cottontail_snowshoehare     0.7000    0.6364    0.6667       121\n",
            "                 coyote     0.3729    0.1630    0.2268       135\n",
            "                   deer     0.6196    0.2984    0.4028       191\n",
            "                    elk     0.8545    0.3821    0.5281       123\n",
            "         foxgray_foxred     0.3442    0.7571    0.4732        70\n",
            "                opossum     0.5636    0.5962    0.5794        52\n",
            "                raccoon     0.7407    0.3361    0.4624       119\n",
            "                 turkey     0.5730    0.6892    0.6258        74\n",
            "                   wolf     0.2963    0.6984    0.4161       126\n",
            "\n",
            "               accuracy                         0.5118      1141\n",
            "              macro avg     0.5735    0.5465    0.5153      1141\n",
            "           weighted avg     0.5845    0.5118    0.5000      1141\n",
            "\n"
          ]
        }
      ]
    },
    {
      "cell_type": "code",
      "metadata": {
        "colab": {
          "base_uri": "https://localhost:8080/",
          "height": 519
        },
        "id": "NhLXJLz2XViN",
        "outputId": "42f6346a-d96b-4277-f926-c3690d8fb8f0"
      },
      "source": [
        "import seaborn as sns\n",
        "import matplotlib.pyplot as plt\n",
        "\n",
        "index = class_names\n",
        "columns = class_names\n",
        "\n",
        "cm = confusion_matrix(test_actuals, test_preds)\n",
        "cm_df = pd.DataFrame(cm, columns, index)\n",
        "plt.figure(figsize = (10,6))\n",
        "ax = sns.heatmap(cm_df, annot = True, fmt='d', cmap = \"Blues\")\n",
        "plt.ylabel('True Label')\n",
        "plt.xlabel('Predicted Label')\n",
        "#ax.get_ylim()\n",
        "ax.set_ylim(11, 0)"
      ],
      "execution_count": null,
      "outputs": [
        {
          "output_type": "execute_result",
          "data": {
            "text/plain": [
              "(11.0, 0.0)"
            ]
          },
          "metadata": {},
          "execution_count": 164
        },
        {
          "output_type": "display_data",
          "data": {
            "image/png": "[encoded data removed]",
            "text/plain": [
              "<Figure size 720x432 with 2 Axes>"
            ]
          },
          "metadata": {
            "needs_background": "light"
          }
        }
      ]
    },
    {
      "cell_type": "markdown",
      "metadata": {
        "id": "OxjFVAFYab0P"
      },
      "source": [
        "### Top 3 Accuracy"
      ]
    },
    {
      "cell_type": "code",
      "metadata": {
        "colab": {
          "base_uri": "https://localhost:8080/",
          "height": 400
        },
        "id": "YFffmn6eaj5b",
        "outputId": "4d2bb738-a209-45f5-c080-6f74103bd90e"
      },
      "source": [
        "comparison_df.head()"
      ],
      "execution_count": null,
      "outputs": [
        {
          "output_type": "execute_result",
          "data": {
            "text/html": [
              "<div>\n",
              "<style scoped>\n",
              "    .dataframe tbody tr th:only-of-type {\n",
              "        vertical-align: middle;\n",
              "    }\n",
              "\n",
              "    .dataframe tbody tr th {\n",
              "        vertical-align: top;\n",
              "    }\n",
              "\n",
              "    .dataframe thead th {\n",
              "        text-align: right;\n",
              "    }\n",
              "</style>\n",
              "<table border=\"1\" class=\"dataframe\">\n",
              "  <thead>\n",
              "    <tr style=\"text-align: right;\">\n",
              "      <th></th>\n",
              "      <th>image_group_id</th>\n",
              "      <th>top_pred_3</th>\n",
              "      <th>top3_dict_3</th>\n",
              "      <th>top_pred_4</th>\n",
              "      <th>top3_dict_4</th>\n",
              "      <th>topk_conf_3_scaled</th>\n",
              "      <th>topk_conf_4_scaled</th>\n",
              "      <th>event_final_topk_conf</th>\n",
              "      <th>event_final_pred</th>\n",
              "      <th>event_final_pred_conf</th>\n",
              "      <th>Unnamed: 0</th>\n",
              "      <th>TRIGGER_ID</th>\n",
              "      <th>CLASS_SPECIES</th>\n",
              "      <th>Total</th>\n",
              "      <th>CLASS_SPECIES_RESTATED</th>\n",
              "    </tr>\n",
              "  </thead>\n",
              "  <tbody>\n",
              "    <tr>\n",
              "      <th>0</th>\n",
              "      <td>SSWI000000019158997</td>\n",
              "      <td>{'None': 0.0}</td>\n",
              "      <td>{}</td>\n",
              "      <td>{'cottontail_snowshoehare': 0.6963155269622803}</td>\n",
              "      <td>{'cottontail_snowshoehare': '0.696315526962280...</td>\n",
              "      <td>{}</td>\n",
              "      <td>{'cottontail_snowshoehare': 0.5802629391352336...</td>\n",
              "      <td>{'cottontail_snowshoehare': 0.5802629391352336...</td>\n",
              "      <td>cottontail_snowshoehare</td>\n",
              "      <td>0.580263</td>\n",
              "      <td>701</td>\n",
              "      <td>SSWI000000019158997</td>\n",
              "      <td>Snowshoe Hare</td>\n",
              "      <td>1</td>\n",
              "      <td>cottontail_snowshoehare</td>\n",
              "    </tr>\n",
              "    <tr>\n",
              "      <th>1</th>\n",
              "      <td>SSWI000000012863544</td>\n",
              "      <td>{'None': 0.0}</td>\n",
              "      <td>{}</td>\n",
              "      <td>{'turkey': 0.8526954650878906}</td>\n",
              "      <td>{'turkey': '0.8526954650878906', 'wolf': '0.12...</td>\n",
              "      <td>{}</td>\n",
              "      <td>{'turkey': 0.7105795542399089, 'wolf': 0.10510...</td>\n",
              "      <td>{'turkey': 0.7105795542399089, 'wolf': 0.10510...</td>\n",
              "      <td>turkey</td>\n",
              "      <td>0.710580</td>\n",
              "      <td>200</td>\n",
              "      <td>SSWI000000012863544</td>\n",
              "      <td>Turkey</td>\n",
              "      <td>1</td>\n",
              "      <td>turkey</td>\n",
              "    </tr>\n",
              "    <tr>\n",
              "      <th>2</th>\n",
              "      <td>SSWI000000015060930</td>\n",
              "      <td>{'None': 0.0}</td>\n",
              "      <td>{'bear': '0.5193208456039429'}</td>\n",
              "      <td>{'foxgray_foxred': 0.2720596492290497}</td>\n",
              "      <td>{'elk': '0.4370231628417969', 'deer': '0.28611...</td>\n",
              "      <td>{'bear': 0.6231850147247314}</td>\n",
              "      <td>{'elk': 0.36418596903483075, 'deer': 0.2384258...</td>\n",
              "      <td>{'bear': 0.6231850147247314, 'elk': 0.36418596...</td>\n",
              "      <td>bear</td>\n",
              "      <td>0.623185</td>\n",
              "      <td>282</td>\n",
              "      <td>SSWI000000015060930</td>\n",
              "      <td>Elk</td>\n",
              "      <td>1</td>\n",
              "      <td>elk</td>\n",
              "    </tr>\n",
              "    <tr>\n",
              "      <th>3</th>\n",
              "      <td>SSWI000000020163661</td>\n",
              "      <td>{'cottontail_snowshoehare': 0.41720232367515564}</td>\n",
              "      <td>{'cottontail_snowshoehare': '0.417202323675155...</td>\n",
              "      <td>{'turkey': 0.8804661631584167}</td>\n",
              "      <td>{'turkey': '0.8804661631584167', 'wolf': '0.09...</td>\n",
              "      <td>{'cottontail_snowshoehare': 0.5006427884101867...</td>\n",
              "      <td>{'turkey': 0.733721802632014, 'wolf': 0.076691...</td>\n",
              "      <td>{'turkey': 0.733721802632014, 'cottontail_snow...</td>\n",
              "      <td>turkey</td>\n",
              "      <td>0.733722</td>\n",
              "      <td>986</td>\n",
              "      <td>SSWI000000020163661</td>\n",
              "      <td>Deer</td>\n",
              "      <td>1</td>\n",
              "      <td>deer</td>\n",
              "    </tr>\n",
              "    <tr>\n",
              "      <th>4</th>\n",
              "      <td>SSWI000000013549996</td>\n",
              "      <td>{'deer': 0.8169369697570801}</td>\n",
              "      <td>{'coyote': '0.8594738841056824', 'deer': '0.81...</td>\n",
              "      <td>{'wolf': 0.9886847138404846}</td>\n",
              "      <td>{'wolf': '0.9886847138404846', 'coyote': '0.03...</td>\n",
              "      <td>{'coyote': 0.99, 'deer': 0.9803243637084961}</td>\n",
              "      <td>{'wolf': 0.8239039282004039, 'coyote': 0.03056...</td>\n",
              "      <td>{'coyote': 0.99, 'deer': 0.9803243637084961, '...</td>\n",
              "      <td>coyote</td>\n",
              "      <td>0.990000</td>\n",
              "      <td>224</td>\n",
              "      <td>SSWI000000013549996</td>\n",
              "      <td>Wolf</td>\n",
              "      <td>1</td>\n",
              "      <td>wolf</td>\n",
              "    </tr>\n",
              "  </tbody>\n",
              "</table>\n",
              "</div>"
            ],
            "text/plain": [
              "        image_group_id  ...   CLASS_SPECIES_RESTATED\n",
              "0  SSWI000000019158997  ...  cottontail_snowshoehare\n",
              "1  SSWI000000012863544  ...                   turkey\n",
              "2  SSWI000000015060930  ...                      elk\n",
              "3  SSWI000000020163661  ...                     deer\n",
              "4  SSWI000000013549996  ...                     wolf\n",
              "\n",
              "[5 rows x 15 columns]"
            ]
          },
          "metadata": {},
          "execution_count": 166
        }
      ]
    },
    {
      "cell_type": "code",
      "metadata": {
        "id": "VkiKT4Q-aecr"
      },
      "source": [
        "def check_species_present(x,y):\n",
        "  if x in y:\n",
        "    return 1\n",
        "  else:\n",
        "    return 0\n",
        "\n",
        "comparison_df['top3_present'] = comparison_df.apply(lambda x: check_species_present(x.CLASS_SPECIES_RESTATED, x.event_final_topk_conf), axis=1)"
      ],
      "execution_count": null,
      "outputs": []
    },
    {
      "cell_type": "code",
      "metadata": {
        "id": "qyo5YChiaev7"
      },
      "source": [
        "def confirm_top3_species(x, y, z):\n",
        "  if x == 1:\n",
        "    ## return top5 pred, which is the true label\n",
        "    return y\n",
        "  else:\n",
        "    ## return top1 pred (probably incorrect pred)\n",
        "    return z\n",
        "\n",
        "comparison_df['top3_species_pred'] = comparison_df.apply(lambda x: confirm_top3_species(x.top3_present, x.CLASS_SPECIES_RESTATED, x.event_final_pred), axis=1)"
      ],
      "execution_count": null,
      "outputs": []
    },
    {
      "cell_type": "code",
      "metadata": {
        "id": "PHLgu8jwae9y"
      },
      "source": [
        "test_actuals = comparison_df['CLASS_SPECIES_RESTATED'].values\n",
        "test_preds = comparison_df['top3_species_pred'].values"
      ],
      "execution_count": null,
      "outputs": []
    },
    {
      "cell_type": "code",
      "metadata": {
        "colab": {
          "base_uri": "https://localhost:8080/"
        },
        "id": "cEyoZbypafOf",
        "outputId": "eb86553d-b51b-4b70-b573-aee0e779af8c"
      },
      "source": [
        "from sklearn.metrics import confusion_matrix\n",
        "\n",
        "confusion_matrix(test_actuals, test_preds, labels=class_names)"
      ],
      "execution_count": null,
      "outputs": [
        {
          "output_type": "execute_result",
          "data": {
            "text/plain": [
              "array([[126,   0,   0,   0,   1,   1,   1,   0,   0,   1],\n",
              "       [  1,  95,   2,   0,   0,   9,   1,   3,   3,   7],\n",
              "       [  3,   1,  86,   0,   0,  22,   0,   0,   8,  15],\n",
              "       [  8,   2,   6, 116,   1,   7,   2,   1,  12,  36],\n",
              "       [  4,   2,   3,   7,  95,   1,   1,   0,   1,   9],\n",
              "       [  0,   1,   1,   0,   0,  65,   0,   0,   0,   3],\n",
              "       [  1,   3,   0,   0,   0,   2,  42,   0,   0,   4],\n",
              "       [  5,   9,   0,   0,   0,   6,   5,  75,   2,  17],\n",
              "       [  3,   1,   1,   1,   0,   0,   0,   0,  65,   3],\n",
              "       [  1,   0,   2,   0,   0,   4,   0,   0,   0, 119]])"
            ]
          },
          "metadata": {},
          "execution_count": 172
        }
      ]
    },
    {
      "cell_type": "code",
      "metadata": {
        "colab": {
          "base_uri": "https://localhost:8080/"
        },
        "id": "KUJ2PpMFa8KD",
        "outputId": "3fced6a1-4f0b-4c82-c0ac-88528557f485"
      },
      "source": [
        "from sklearn.metrics import classification_report, confusion_matrix\n",
        "print(classification_report(test_actuals, test_preds, digits = 4))"
      ],
      "execution_count": null,
      "outputs": [
        {
          "output_type": "stream",
          "name": "stdout",
          "text": [
            "                         precision    recall  f1-score   support\n",
            "\n",
            "                   bear     0.8289    0.9692    0.8936       130\n",
            "cottontail_snowshoehare     0.8333    0.7851    0.8085       121\n",
            "                 coyote     0.8515    0.6370    0.7288       135\n",
            "                   deer     0.9355    0.6073    0.7365       191\n",
            "                    elk     0.9794    0.7724    0.8636       123\n",
            "         foxgray_foxred     0.5556    0.9286    0.6952        70\n",
            "                opossum     0.8077    0.8077    0.8077        52\n",
            "                raccoon     0.9494    0.6303    0.7576       119\n",
            "                 turkey     0.7143    0.8784    0.7879        74\n",
            "                   wolf     0.5561    0.9444    0.7000       126\n",
            "\n",
            "               accuracy                         0.7748      1141\n",
            "              macro avg     0.8012    0.7960    0.7779      1141\n",
            "           weighted avg     0.8234    0.7748    0.7770      1141\n",
            "\n"
          ]
        }
      ]
    },
    {
      "cell_type": "code",
      "metadata": {
        "colab": {
          "base_uri": "https://localhost:8080/",
          "height": 519
        },
        "id": "0cJhR47wa8T3",
        "outputId": "d4dac553-beb2-4879-d3ea-bff61e074c18"
      },
      "source": [
        "import seaborn as sns\n",
        "\n",
        "index = class_names\n",
        "columns = class_names\n",
        "\n",
        "cm = confusion_matrix(test_actuals, test_preds)\n",
        "cm_df = pd.DataFrame(cm, columns, index)\n",
        "plt.figure(figsize = (10,6))\n",
        "ax = sns.heatmap(cm_df, annot = True, fmt='d', cmap = \"Blues\")\n",
        "plt.ylabel('True Label')\n",
        "plt.xlabel('Predicted Label')\n",
        "#ax.get_ylim()\n",
        "ax.set_ylim(11, 0)"
      ],
      "execution_count": null,
      "outputs": [
        {
          "output_type": "execute_result",
          "data": {
            "text/plain": [
              "(11.0, 0.0)"
            ]
          },
          "metadata": {},
          "execution_count": 174
        },
        {
          "output_type": "display_data",
          "data": {
            "image/png": "[encoded data removed]",
            "text/plain": [
              "<Figure size 720x432 with 2 Axes>"
            ]
          },
          "metadata": {
            "needs_background": "light"
          }
        }
      ]
    },
    {
      "cell_type": "code",
      "metadata": {
        "id": "35cUgf5ha8dz"
      },
      "source": [
        ""
      ],
      "execution_count": null,
      "outputs": []
    },
    {
      "cell_type": "markdown",
      "metadata": {
        "id": "emaLRgbK6-6Q"
      },
      "source": [
        "## dataframe method (playground)\n",
        "\n",
        "prioritize yolo classification <br>\n",
        "fill out top3 classes with efficientnet <br>\n",
        "(ignore bbox for now) <br>"
      ]
    },
    {
      "cell_type": "code",
      "metadata": {
        "colab": {
          "base_uri": "https://localhost:8080/",
          "height": 233
        },
        "id": "NLVc8oYb5lKc",
        "outputId": "6638908f-480a-49bd-8c45-ef2855e26e81"
      },
      "source": [
        "## check for blank: SSWI000000005175003\n",
        "## for playground: SSWI000000013549996\n",
        "test_df = sample_input[sample_input['image_group_id'] == 'SSWI000000013549996']\n",
        "test_df"
      ],
      "execution_count": null,
      "outputs": [
        {
          "output_type": "execute_result",
          "data": {
            "text/html": [
              "<div>\n",
              "<style scoped>\n",
              "    .dataframe tbody tr th:only-of-type {\n",
              "        vertical-align: middle;\n",
              "    }\n",
              "\n",
              "    .dataframe tbody tr th {\n",
              "        vertical-align: top;\n",
              "    }\n",
              "\n",
              "    .dataframe thead th {\n",
              "        text-align: right;\n",
              "    }\n",
              "</style>\n",
              "<table border=\"1\" class=\"dataframe\">\n",
              "  <thead>\n",
              "    <tr style=\"text-align: right;\">\n",
              "      <th></th>\n",
              "      <th>Unnamed: 0</th>\n",
              "      <th>model_output_id</th>\n",
              "      <th>model_id</th>\n",
              "      <th>image_group_id</th>\n",
              "      <th>image_id_1</th>\n",
              "      <th>image_id_1_species_name</th>\n",
              "      <th>image_id_1_conf</th>\n",
              "      <th>image_id_1_count</th>\n",
              "      <th>image_id_1_blank</th>\n",
              "      <th>image_id_1_detectable</th>\n",
              "      <th>image_id_2</th>\n",
              "      <th>image_id_2_species_name</th>\n",
              "      <th>image_id_2_conf</th>\n",
              "      <th>image_id_2_count</th>\n",
              "      <th>image_id_2_blank</th>\n",
              "      <th>image_id_2_detectable</th>\n",
              "      <th>image_id_3</th>\n",
              "      <th>image_id_3_species_name</th>\n",
              "      <th>image_id_3_conf</th>\n",
              "      <th>image_id_3_count</th>\n",
              "      <th>image_id_3_blank</th>\n",
              "      <th>image_id_3_detectable</th>\n",
              "      <th>load_date</th>\n",
              "      <th>image_id_1_bbox</th>\n",
              "      <th>image_id_2_bbox</th>\n",
              "      <th>image_id_3_bbox</th>\n",
              "    </tr>\n",
              "  </thead>\n",
              "  <tbody>\n",
              "    <tr>\n",
              "      <th>15</th>\n",
              "      <td>15</td>\n",
              "      <td>5016</td>\n",
              "      <td>5</td>\n",
              "      <td>SSWI000000013549996</td>\n",
              "      <td>A</td>\n",
              "      <td>NaN</td>\n",
              "      <td>NaN</td>\n",
              "      <td>1</td>\n",
              "      <td>False</td>\n",
              "      <td>False</td>\n",
              "      <td>B</td>\n",
              "      <td>NaN</td>\n",
              "      <td>NaN</td>\n",
              "      <td>1</td>\n",
              "      <td>False</td>\n",
              "      <td>False</td>\n",
              "      <td>C</td>\n",
              "      <td>NaN</td>\n",
              "      <td>NaN</td>\n",
              "      <td>1</td>\n",
              "      <td>False</td>\n",
              "      <td>False</td>\n",
              "      <td>2021-11-10</td>\n",
              "      <td>0.8558,0.7205,0.2855,0.2616</td>\n",
              "      <td>0.4317,0.6485,0.205,0.1656</td>\n",
              "      <td>0.4223,0.6498,0.1556,0.1678</td>\n",
              "    </tr>\n",
              "    <tr>\n",
              "      <th>1222</th>\n",
              "      <td>1222</td>\n",
              "      <td>3766</td>\n",
              "      <td>4</td>\n",
              "      <td>SSWI000000013549996</td>\n",
              "      <td>A</td>\n",
              "      <td>wolf,coyote,deer,bear,turkey</td>\n",
              "      <td>0.9680646061897278,0.02201225608587265,0.00935...</td>\n",
              "      <td>0</td>\n",
              "      <td>False</td>\n",
              "      <td>False</td>\n",
              "      <td>B</td>\n",
              "      <td>wolf,coyote,turkey,deer,bear</td>\n",
              "      <td>0.9886847138404846,0.010487456806004047,0.0005...</td>\n",
              "      <td>0</td>\n",
              "      <td>False</td>\n",
              "      <td>False</td>\n",
              "      <td>C</td>\n",
              "      <td>wolf,coyote,deer,turkey,elk</td>\n",
              "      <td>0.9619928002357483,0.03667626157402992,0.00088...</td>\n",
              "      <td>0</td>\n",
              "      <td>False</td>\n",
              "      <td>False</td>\n",
              "      <td>2021-11-10</td>\n",
              "      <td>NaN</td>\n",
              "      <td>NaN</td>\n",
              "      <td>NaN</td>\n",
              "    </tr>\n",
              "    <tr>\n",
              "      <th>1274</th>\n",
              "      <td>1274</td>\n",
              "      <td>2516</td>\n",
              "      <td>3</td>\n",
              "      <td>SSWI000000013549996</td>\n",
              "      <td>A</td>\n",
              "      <td>deer</td>\n",
              "      <td>0.7408024072647095</td>\n",
              "      <td>1</td>\n",
              "      <td>False</td>\n",
              "      <td>False</td>\n",
              "      <td>B</td>\n",
              "      <td>coyote</td>\n",
              "      <td>0.8594738841056824</td>\n",
              "      <td>1</td>\n",
              "      <td>False</td>\n",
              "      <td>False</td>\n",
              "      <td>C</td>\n",
              "      <td>deer</td>\n",
              "      <td>0.8169369697570801</td>\n",
              "      <td>1</td>\n",
              "      <td>False</td>\n",
              "      <td>False</td>\n",
              "      <td>2021-11-10</td>\n",
              "      <td>0.8556231260299683,0.7097264528274536,0.288753...</td>\n",
              "      <td>0.4331307113170624,0.6443768739700317,0.209726...</td>\n",
              "      <td>0.424012154340744,0.6443768739700317,0.1671732...</td>\n",
              "    </tr>\n",
              "  </tbody>\n",
              "</table>\n",
              "</div>"
            ],
            "text/plain": [
              "      Unnamed: 0  ...                                    image_id_3_bbox\n",
              "15            15  ...                        0.4223,0.6498,0.1556,0.1678\n",
              "1222        1222  ...                                                NaN\n",
              "1274        1274  ...  0.424012154340744,0.6443768739700317,0.1671732...\n",
              "\n",
              "[3 rows x 26 columns]"
            ]
          },
          "metadata": {},
          "execution_count": 154
        }
      ]
    },
    {
      "cell_type": "code",
      "metadata": {
        "id": "v4Nw3x847Abr"
      },
      "source": [
        "df_model_id3 = test_df[test_df.model_id == 3]\n",
        "df_model_id4 = test_df[test_df.model_id == 4]\n",
        "df_model_id5 = test_df[test_df.model_id == 5]\n",
        "df_model_id5 = df_model_id5[['image_group_id', 'image_id_1_bbox', 'image_id_2_bbox', 'image_id_3_bbox']]"
      ],
      "execution_count": null,
      "outputs": []
    },
    {
      "cell_type": "code",
      "metadata": {
        "id": "wLde81He7Asa"
      },
      "source": [
        "\"\"\"\n",
        "in any given event, there are 3 images with predictions\n",
        "for each image, return a dictionary of species and confidence scores\n",
        "\n",
        "ex:\n",
        "{'bear': '0.15524305403232574',\n",
        " 'deer': '0.148423969745636',\n",
        " 'elk': '0.14720852673053741',\n",
        " 'foxgray_foxred': '0.0765981450676918',\n",
        " 'turkey': '0.32857051491737366'}\n",
        "\"\"\"\n",
        "\n",
        "import math\n",
        "def create_species_conf_dict(x, y):\n",
        "  if isinstance(x, float):\n",
        "    pass\n",
        "  else:\n",
        "    species_list = list(x.split(\",\"))\n",
        "    conf_list = list(y.split(\",\"))\n",
        "    return dict(zip(species_list, conf_list))\n",
        "\n",
        "\n",
        "df_model_id3['img1_species_conf_dict'] = df_model_id3.apply(lambda x: create_species_conf_dict(x.image_id_1_species_name, x.image_id_1_conf), axis=1)\n",
        "df_model_id3['img2_species_conf_dict'] = df_model_id3.apply(lambda x: create_species_conf_dict(x.image_id_2_species_name, x.image_id_2_conf), axis=1)\n",
        "df_model_id3['img3_species_conf_dict'] = df_model_id3.apply(lambda x: create_species_conf_dict(x.image_id_3_species_name, x.image_id_3_conf), axis=1)\n",
        "\n",
        "df_model_id4['img1_species_conf_dict'] = df_model_id4.apply(lambda x: create_species_conf_dict(x.image_id_1_species_name, x.image_id_1_conf), axis=1)\n",
        "df_model_id4['img2_species_conf_dict'] = df_model_id4.apply(lambda x: create_species_conf_dict(x.image_id_2_species_name, x.image_id_2_conf), axis=1)\n",
        "df_model_id4['img3_species_conf_dict'] = df_model_id4.apply(lambda x: create_species_conf_dict(x.image_id_3_species_name, x.image_id_3_conf), axis=1)\n",
        "\n",
        "# df_model_id4['img1_species_conf_dict'][1206]"
      ],
      "execution_count": null,
      "outputs": []
    },
    {
      "cell_type": "code",
      "metadata": {
        "colab": {
          "base_uri": "https://localhost:8080/",
          "height": 153
        },
        "id": "Fb1T8EKY_luB",
        "outputId": "67cf1f1b-7a39-4c08-fb69-53e5900b1434"
      },
      "source": [
        "df_model_id4"
      ],
      "execution_count": null,
      "outputs": [
        {
          "output_type": "execute_result",
          "data": {
            "text/html": [
              "<div>\n",
              "<style scoped>\n",
              "    .dataframe tbody tr th:only-of-type {\n",
              "        vertical-align: middle;\n",
              "    }\n",
              "\n",
              "    .dataframe tbody tr th {\n",
              "        vertical-align: top;\n",
              "    }\n",
              "\n",
              "    .dataframe thead th {\n",
              "        text-align: right;\n",
              "    }\n",
              "</style>\n",
              "<table border=\"1\" class=\"dataframe\">\n",
              "  <thead>\n",
              "    <tr style=\"text-align: right;\">\n",
              "      <th></th>\n",
              "      <th>Unnamed: 0</th>\n",
              "      <th>model_output_id</th>\n",
              "      <th>model_id</th>\n",
              "      <th>image_group_id</th>\n",
              "      <th>image_id_1</th>\n",
              "      <th>image_id_1_species_name</th>\n",
              "      <th>image_id_1_conf</th>\n",
              "      <th>image_id_1_count</th>\n",
              "      <th>image_id_1_blank</th>\n",
              "      <th>image_id_1_detectable</th>\n",
              "      <th>image_id_2</th>\n",
              "      <th>image_id_2_species_name</th>\n",
              "      <th>image_id_2_conf</th>\n",
              "      <th>image_id_2_count</th>\n",
              "      <th>image_id_2_blank</th>\n",
              "      <th>image_id_2_detectable</th>\n",
              "      <th>image_id_3</th>\n",
              "      <th>image_id_3_species_name</th>\n",
              "      <th>image_id_3_conf</th>\n",
              "      <th>image_id_3_count</th>\n",
              "      <th>image_id_3_blank</th>\n",
              "      <th>image_id_3_detectable</th>\n",
              "      <th>load_date</th>\n",
              "      <th>image_id_1_bbox</th>\n",
              "      <th>image_id_2_bbox</th>\n",
              "      <th>image_id_3_bbox</th>\n",
              "      <th>img1_species_conf_dict</th>\n",
              "      <th>img2_species_conf_dict</th>\n",
              "      <th>img3_species_conf_dict</th>\n",
              "    </tr>\n",
              "  </thead>\n",
              "  <tbody>\n",
              "    <tr>\n",
              "      <th>1222</th>\n",
              "      <td>1222</td>\n",
              "      <td>3766</td>\n",
              "      <td>4</td>\n",
              "      <td>SSWI000000013549996</td>\n",
              "      <td>A</td>\n",
              "      <td>wolf,coyote,deer,bear,turkey</td>\n",
              "      <td>0.9680646061897278,0.02201225608587265,0.00935...</td>\n",
              "      <td>0</td>\n",
              "      <td>False</td>\n",
              "      <td>False</td>\n",
              "      <td>B</td>\n",
              "      <td>wolf,coyote,turkey,deer,bear</td>\n",
              "      <td>0.9886847138404846,0.010487456806004047,0.0005...</td>\n",
              "      <td>0</td>\n",
              "      <td>False</td>\n",
              "      <td>False</td>\n",
              "      <td>C</td>\n",
              "      <td>wolf,coyote,deer,turkey,elk</td>\n",
              "      <td>0.9619928002357483,0.03667626157402992,0.00088...</td>\n",
              "      <td>0</td>\n",
              "      <td>False</td>\n",
              "      <td>False</td>\n",
              "      <td>2021-11-10</td>\n",
              "      <td>NaN</td>\n",
              "      <td>NaN</td>\n",
              "      <td>NaN</td>\n",
              "      <td>{'wolf': '0.9680646061897278', 'coyote': '0.02...</td>\n",
              "      <td>{'wolf': '0.9886847138404846', 'coyote': '0.01...</td>\n",
              "      <td>{'wolf': '0.9619928002357483', 'coyote': '0.03...</td>\n",
              "    </tr>\n",
              "  </tbody>\n",
              "</table>\n",
              "</div>"
            ],
            "text/plain": [
              "      Unnamed: 0  ...                             img3_species_conf_dict\n",
              "1222        1222  ...  {'wolf': '0.9619928002357483', 'coyote': '0.03...\n",
              "\n",
              "[1 rows x 29 columns]"
            ]
          },
          "metadata": {},
          "execution_count": 80
        }
      ]
    },
    {
      "cell_type": "code",
      "metadata": {
        "id": "L15IrbSI--G5"
      },
      "source": [
        "\"\"\"\n",
        "since there are 3 images in an event, each image has a dictionary\n",
        "for each event, return a combined dictionary of species and list of confidence scores\n",
        "\n",
        "ex:\n",
        "{'bear': ['0.15524305403232574', '0.16207468509674072'],\n",
        " 'coyote': ['0.04405967891216278', '0.050556182861328125'],\n",
        " 'deer': ['0.148423969745636', '0.2770918905735016'],\n",
        " 'elk': ['0.14720852673053741', '0.022372109815478325'],\n",
        " 'foxgray_foxred': ['0.0765981450676918', '0.02164595201611519'],\n",
        " 'raccoon': ['0.064368836581707'],\n",
        " 'turkey': ['0.32857051491737366', '0.8158956170082092', '0.31233787536621094'],\n",
        " 'wolf': ['0.06660380959510803']}\n",
        "\"\"\"\n",
        "\n",
        "\n",
        "\n",
        "## v2: outputs top1 predictions from each image in the event\n",
        "def merge_species_conf_dict_top3(x, y, z):\n",
        "\n",
        "  if x is None:\n",
        "    x = {'None': 0}\n",
        "  if y is None:\n",
        "    y = {'None': 0}\n",
        "  if z is None:\n",
        "    z = {'None': 0}\n",
        "    \n",
        "  dict_list = [list(x.items())[0],list(y.items())[0],list(z.items())[0]]\n",
        "\n",
        "  #print(dict_list)\n",
        "  preds_dict = {}\n",
        "\n",
        "  for item in dict_list:\n",
        "    if item is None:\n",
        "      pass\n",
        "    else:\n",
        "      if item[0] in preds_dict:\n",
        "        preds_dict[item[0]].append(float(item[1]))\n",
        "      else:\n",
        "        preds_dict[item[0]] = [float(item[1])]\n",
        "\n",
        "      \n",
        "  return preds_dict\n",
        "\n",
        "df_model_id3['consol_dict'] = df_model_id3.apply(lambda x: merge_species_conf_dict_top3(x.img1_species_conf_dict, x.img2_species_conf_dict, x.img3_species_conf_dict), axis=1)\n",
        "df_model_id4['consol_dict'] = df_model_id4.apply(lambda x: merge_species_conf_dict_top3(x.img1_species_conf_dict, x.img2_species_conf_dict, x.img3_species_conf_dict), axis=1)"
      ],
      "execution_count": null,
      "outputs": []
    },
    {
      "cell_type": "code",
      "metadata": {
        "colab": {
          "base_uri": "https://localhost:8080/"
        },
        "id": "j1kGL_CIcnO6",
        "outputId": "eaf58e5e-4850-4333-be57-b9105c7cfa3f"
      },
      "source": [
        "df_model_id4['consol_dict'][1222]"
      ],
      "execution_count": null,
      "outputs": [
        {
          "output_type": "execute_result",
          "data": {
            "text/plain": [
              "{'wolf': [0.9680646061897278, 0.9886847138404846, 0.9619928002357483]}"
            ]
          },
          "metadata": {},
          "execution_count": 132
        }
      ]
    },
    {
      "cell_type": "code",
      "metadata": {
        "colab": {
          "base_uri": "https://localhost:8080/"
        },
        "id": "VePyB5gaKzUH",
        "outputId": "e30f8932-46e3-4a91-ec53-1e836033ed57"
      },
      "source": [
        "df_model_id3['consol_dict'][1274]"
      ],
      "execution_count": null,
      "outputs": [
        {
          "output_type": "execute_result",
          "data": {
            "text/plain": [
              "{'coyote': [0.8594738841056824],\n",
              " 'deer': [0.7408024072647095, 0.8169369697570801]}"
            ]
          },
          "metadata": {},
          "execution_count": 133
        }
      ]
    },
    {
      "cell_type": "code",
      "metadata": {
        "id": "hlLy6CLs6Bs-"
      },
      "source": [
        "## case 3\n",
        "dummy_dict = {\n",
        "    'coyote': [0.5],\n",
        "    'deer': [0.7],\n",
        "    'bear': [0.65]\n",
        "}\n",
        "\n",
        "## case 1\n",
        "dummy_dict = {\n",
        "    'deer': ['0.7408024072647095', '0.8169369697570801', '0.5']\n",
        "}\n",
        "\n",
        "## case 2\n",
        "dummy_dict = {\n",
        "    'coyote': ['0.8594738841056824'],\n",
        "    'deer': ['0.7408024072647095', '0.8169369697570801']\n",
        "    }"
      ],
      "execution_count": null,
      "outputs": []
    },
    {
      "cell_type": "code",
      "metadata": {
        "id": "09zJLsG83KwS"
      },
      "source": [
        "def get_topk(x, k):\n",
        "  topk_event_dict = {}\n",
        "  top_ind = sorted(x, key=x.get, reverse=True)[:k]\n",
        "  conf_scores = {}\n",
        "  for i in top_ind:\n",
        "    conf_scores[i] = max(x[i])\n",
        "  \n",
        "  return conf_scores\n",
        "\n",
        "def get_pred_from_top3(consol_dict):\n",
        "\n",
        "  ## if all 3 predictions are different classes, defer to class with highest confidence\n",
        "  if len(consol_dict) == 3:\n",
        "    return get_topk(consol_dict, 1)\n",
        "\n",
        "  ## if there is an even number of predictions (2), defer to class with more appearances (has a longer list)\n",
        "  elif len(consol_dict) == 2:\n",
        "    max_key = max(consol_dict, key= lambda x: len(set(consol_dict[x])))\n",
        "    return {max_key: max(consol_dict[max_key])}\n",
        "  \n",
        "  ## if there is only one class of predictions, return the class with highest confidence\n",
        "  else:\n",
        "    return get_topk(consol_dict, 1)"
      ],
      "execution_count": null,
      "outputs": []
    },
    {
      "cell_type": "code",
      "metadata": {
        "id": "mNXZbF2tJbLC"
      },
      "source": [
        "df_model_id3['top_pred'] = df_model_id3.apply(lambda x: get_pred_from_top3(x.consol_dict), axis=1)\n",
        "df_model_id4['top_pred'] = df_model_id4.apply(lambda x: get_pred_from_top3(x.consol_dict), axis=1)"
      ],
      "execution_count": null,
      "outputs": []
    },
    {
      "cell_type": "code",
      "metadata": {
        "colab": {
          "base_uri": "https://localhost:8080/",
          "height": 153
        },
        "id": "cSFvYSPIJbVV",
        "outputId": "df5b6d5f-c8c0-4403-a964-36fba995891e"
      },
      "source": [
        "df_model_id3"
      ],
      "execution_count": null,
      "outputs": [
        {
          "output_type": "execute_result",
          "data": {
            "text/html": [
              "<div>\n",
              "<style scoped>\n",
              "    .dataframe tbody tr th:only-of-type {\n",
              "        vertical-align: middle;\n",
              "    }\n",
              "\n",
              "    .dataframe tbody tr th {\n",
              "        vertical-align: top;\n",
              "    }\n",
              "\n",
              "    .dataframe thead th {\n",
              "        text-align: right;\n",
              "    }\n",
              "</style>\n",
              "<table border=\"1\" class=\"dataframe\">\n",
              "  <thead>\n",
              "    <tr style=\"text-align: right;\">\n",
              "      <th></th>\n",
              "      <th>Unnamed: 0</th>\n",
              "      <th>model_output_id</th>\n",
              "      <th>model_id</th>\n",
              "      <th>image_group_id</th>\n",
              "      <th>image_id_1</th>\n",
              "      <th>image_id_1_species_name</th>\n",
              "      <th>image_id_1_conf</th>\n",
              "      <th>image_id_1_count</th>\n",
              "      <th>image_id_1_blank</th>\n",
              "      <th>image_id_1_detectable</th>\n",
              "      <th>image_id_2</th>\n",
              "      <th>image_id_2_species_name</th>\n",
              "      <th>image_id_2_conf</th>\n",
              "      <th>image_id_2_count</th>\n",
              "      <th>image_id_2_blank</th>\n",
              "      <th>image_id_2_detectable</th>\n",
              "      <th>image_id_3</th>\n",
              "      <th>image_id_3_species_name</th>\n",
              "      <th>image_id_3_conf</th>\n",
              "      <th>image_id_3_count</th>\n",
              "      <th>image_id_3_blank</th>\n",
              "      <th>image_id_3_detectable</th>\n",
              "      <th>load_date</th>\n",
              "      <th>image_id_1_bbox</th>\n",
              "      <th>image_id_2_bbox</th>\n",
              "      <th>image_id_3_bbox</th>\n",
              "      <th>img1_species_conf_dict</th>\n",
              "      <th>img2_species_conf_dict</th>\n",
              "      <th>img3_species_conf_dict</th>\n",
              "      <th>consol_dict</th>\n",
              "      <th>top_pred</th>\n",
              "    </tr>\n",
              "  </thead>\n",
              "  <tbody>\n",
              "    <tr>\n",
              "      <th>1274</th>\n",
              "      <td>1274</td>\n",
              "      <td>2516</td>\n",
              "      <td>3</td>\n",
              "      <td>SSWI000000013549996</td>\n",
              "      <td>A</td>\n",
              "      <td>deer</td>\n",
              "      <td>0.7408024072647095</td>\n",
              "      <td>1</td>\n",
              "      <td>False</td>\n",
              "      <td>False</td>\n",
              "      <td>B</td>\n",
              "      <td>coyote</td>\n",
              "      <td>0.8594738841056824</td>\n",
              "      <td>1</td>\n",
              "      <td>False</td>\n",
              "      <td>False</td>\n",
              "      <td>C</td>\n",
              "      <td>deer</td>\n",
              "      <td>0.8169369697570801</td>\n",
              "      <td>1</td>\n",
              "      <td>False</td>\n",
              "      <td>False</td>\n",
              "      <td>2021-11-10</td>\n",
              "      <td>0.8556231260299683,0.7097264528274536,0.288753...</td>\n",
              "      <td>0.4331307113170624,0.6443768739700317,0.209726...</td>\n",
              "      <td>0.424012154340744,0.6443768739700317,0.1671732...</td>\n",
              "      <td>{'deer': '0.7408024072647095'}</td>\n",
              "      <td>{'coyote': '0.8594738841056824'}</td>\n",
              "      <td>{'deer': '0.8169369697570801'}</td>\n",
              "      <td>{'deer': [0.7408024072647095, 0.81693696975708...</td>\n",
              "      <td>{'deer': 0.8169369697570801}</td>\n",
              "    </tr>\n",
              "  </tbody>\n",
              "</table>\n",
              "</div>"
            ],
            "text/plain": [
              "      Unnamed: 0  ...                      top_pred\n",
              "1274        1274  ...  {'deer': 0.8169369697570801}\n",
              "\n",
              "[1 rows x 31 columns]"
            ]
          },
          "metadata": {},
          "execution_count": 109
        }
      ]
    },
    {
      "cell_type": "code",
      "metadata": {
        "colab": {
          "base_uri": "https://localhost:8080/",
          "height": 153
        },
        "id": "plMGGH4_JbgZ",
        "outputId": "c1363482-4c28-4304-8855-6cc56dece124"
      },
      "source": [
        "df_model_id4"
      ],
      "execution_count": null,
      "outputs": [
        {
          "output_type": "execute_result",
          "data": {
            "text/html": [
              "<div>\n",
              "<style scoped>\n",
              "    .dataframe tbody tr th:only-of-type {\n",
              "        vertical-align: middle;\n",
              "    }\n",
              "\n",
              "    .dataframe tbody tr th {\n",
              "        vertical-align: top;\n",
              "    }\n",
              "\n",
              "    .dataframe thead th {\n",
              "        text-align: right;\n",
              "    }\n",
              "</style>\n",
              "<table border=\"1\" class=\"dataframe\">\n",
              "  <thead>\n",
              "    <tr style=\"text-align: right;\">\n",
              "      <th></th>\n",
              "      <th>Unnamed: 0</th>\n",
              "      <th>model_output_id</th>\n",
              "      <th>model_id</th>\n",
              "      <th>image_group_id</th>\n",
              "      <th>image_id_1</th>\n",
              "      <th>image_id_1_species_name</th>\n",
              "      <th>image_id_1_conf</th>\n",
              "      <th>image_id_1_count</th>\n",
              "      <th>image_id_1_blank</th>\n",
              "      <th>image_id_1_detectable</th>\n",
              "      <th>image_id_2</th>\n",
              "      <th>image_id_2_species_name</th>\n",
              "      <th>image_id_2_conf</th>\n",
              "      <th>image_id_2_count</th>\n",
              "      <th>image_id_2_blank</th>\n",
              "      <th>image_id_2_detectable</th>\n",
              "      <th>image_id_3</th>\n",
              "      <th>image_id_3_species_name</th>\n",
              "      <th>image_id_3_conf</th>\n",
              "      <th>image_id_3_count</th>\n",
              "      <th>image_id_3_blank</th>\n",
              "      <th>image_id_3_detectable</th>\n",
              "      <th>load_date</th>\n",
              "      <th>image_id_1_bbox</th>\n",
              "      <th>image_id_2_bbox</th>\n",
              "      <th>image_id_3_bbox</th>\n",
              "      <th>img1_species_conf_dict</th>\n",
              "      <th>img2_species_conf_dict</th>\n",
              "      <th>img3_species_conf_dict</th>\n",
              "      <th>consol_dict</th>\n",
              "      <th>top_pred</th>\n",
              "    </tr>\n",
              "  </thead>\n",
              "  <tbody>\n",
              "    <tr>\n",
              "      <th>1222</th>\n",
              "      <td>1222</td>\n",
              "      <td>3766</td>\n",
              "      <td>4</td>\n",
              "      <td>SSWI000000013549996</td>\n",
              "      <td>A</td>\n",
              "      <td>wolf,coyote,deer,bear,turkey</td>\n",
              "      <td>0.9680646061897278,0.02201225608587265,0.00935...</td>\n",
              "      <td>0</td>\n",
              "      <td>False</td>\n",
              "      <td>False</td>\n",
              "      <td>B</td>\n",
              "      <td>wolf,coyote,turkey,deer,bear</td>\n",
              "      <td>0.9886847138404846,0.010487456806004047,0.0005...</td>\n",
              "      <td>0</td>\n",
              "      <td>False</td>\n",
              "      <td>False</td>\n",
              "      <td>C</td>\n",
              "      <td>wolf,coyote,deer,turkey,elk</td>\n",
              "      <td>0.9619928002357483,0.03667626157402992,0.00088...</td>\n",
              "      <td>0</td>\n",
              "      <td>False</td>\n",
              "      <td>False</td>\n",
              "      <td>2021-11-10</td>\n",
              "      <td>NaN</td>\n",
              "      <td>NaN</td>\n",
              "      <td>NaN</td>\n",
              "      <td>{'wolf': '0.9680646061897278', 'coyote': '0.02...</td>\n",
              "      <td>{'wolf': '0.9886847138404846', 'coyote': '0.01...</td>\n",
              "      <td>{'wolf': '0.9619928002357483', 'coyote': '0.03...</td>\n",
              "      <td>{'wolf': [0.9680646061897278, 0.98868471384048...</td>\n",
              "      <td>{'wolf': 0.9886847138404846}</td>\n",
              "    </tr>\n",
              "  </tbody>\n",
              "</table>\n",
              "</div>"
            ],
            "text/plain": [
              "      Unnamed: 0  ...                      top_pred\n",
              "1222        1222  ...  {'wolf': 0.9886847138404846}\n",
              "\n",
              "[1 rows x 31 columns]"
            ]
          },
          "metadata": {},
          "execution_count": 110
        }
      ]
    },
    {
      "cell_type": "code",
      "metadata": {
        "id": "A0g5Sb9ZJ1xo"
      },
      "source": [
        "## generate top3_dict for each model\n",
        "\n",
        "def merge_species_conf_dict(x, y, z):\n",
        "  dict_list = [x,y,z]\n",
        "  #print(dict_list)\n",
        "  preds_dict = {}\n",
        "\n",
        "  for item in dict_list:\n",
        "    if item is None:\n",
        "      pass\n",
        "    else:\n",
        "      for key, value in item.items():\n",
        "        if key in preds_dict:\n",
        "          preds_dict[key].append(value)\n",
        "        else:\n",
        "          preds_dict[key] = [value]\n",
        "      \n",
        "  return preds_dict\n",
        "\n",
        "df_model_id3['top3_dict'] = df_model_id3.apply(lambda x: get_topk(merge_species_conf_dict(x.img1_species_conf_dict, x.img2_species_conf_dict, x.img3_species_conf_dict),3), axis=1)\n",
        "df_model_id4['top3_dict'] = df_model_id4.apply(lambda x: get_topk(merge_species_conf_dict(x.img1_species_conf_dict, x.img2_species_conf_dict, x.img3_species_conf_dict),3), axis=1)"
      ],
      "execution_count": null,
      "outputs": []
    },
    {
      "cell_type": "code",
      "metadata": {
        "colab": {
          "base_uri": "https://localhost:8080/",
          "height": 153
        },
        "id": "qnen0hmEJ18t",
        "outputId": "4383dc7d-b87a-405f-f4ec-95a9590fa6ba"
      },
      "source": [
        "df_model_id3"
      ],
      "execution_count": null,
      "outputs": [
        {
          "output_type": "execute_result",
          "data": {
            "text/html": [
              "<div>\n",
              "<style scoped>\n",
              "    .dataframe tbody tr th:only-of-type {\n",
              "        vertical-align: middle;\n",
              "    }\n",
              "\n",
              "    .dataframe tbody tr th {\n",
              "        vertical-align: top;\n",
              "    }\n",
              "\n",
              "    .dataframe thead th {\n",
              "        text-align: right;\n",
              "    }\n",
              "</style>\n",
              "<table border=\"1\" class=\"dataframe\">\n",
              "  <thead>\n",
              "    <tr style=\"text-align: right;\">\n",
              "      <th></th>\n",
              "      <th>Unnamed: 0</th>\n",
              "      <th>model_output_id</th>\n",
              "      <th>model_id</th>\n",
              "      <th>image_group_id</th>\n",
              "      <th>image_id_1</th>\n",
              "      <th>image_id_1_species_name</th>\n",
              "      <th>image_id_1_conf</th>\n",
              "      <th>image_id_1_count</th>\n",
              "      <th>image_id_1_blank</th>\n",
              "      <th>image_id_1_detectable</th>\n",
              "      <th>image_id_2</th>\n",
              "      <th>image_id_2_species_name</th>\n",
              "      <th>image_id_2_conf</th>\n",
              "      <th>image_id_2_count</th>\n",
              "      <th>image_id_2_blank</th>\n",
              "      <th>image_id_2_detectable</th>\n",
              "      <th>image_id_3</th>\n",
              "      <th>image_id_3_species_name</th>\n",
              "      <th>image_id_3_conf</th>\n",
              "      <th>image_id_3_count</th>\n",
              "      <th>image_id_3_blank</th>\n",
              "      <th>image_id_3_detectable</th>\n",
              "      <th>load_date</th>\n",
              "      <th>image_id_1_bbox</th>\n",
              "      <th>image_id_2_bbox</th>\n",
              "      <th>image_id_3_bbox</th>\n",
              "      <th>img1_species_conf_dict</th>\n",
              "      <th>img2_species_conf_dict</th>\n",
              "      <th>img3_species_conf_dict</th>\n",
              "      <th>consol_dict</th>\n",
              "      <th>top_pred</th>\n",
              "      <th>top3_dict</th>\n",
              "    </tr>\n",
              "  </thead>\n",
              "  <tbody>\n",
              "    <tr>\n",
              "      <th>1274</th>\n",
              "      <td>1274</td>\n",
              "      <td>2516</td>\n",
              "      <td>3</td>\n",
              "      <td>SSWI000000013549996</td>\n",
              "      <td>A</td>\n",
              "      <td>deer</td>\n",
              "      <td>0.7408024072647095</td>\n",
              "      <td>1</td>\n",
              "      <td>False</td>\n",
              "      <td>False</td>\n",
              "      <td>B</td>\n",
              "      <td>coyote</td>\n",
              "      <td>0.8594738841056824</td>\n",
              "      <td>1</td>\n",
              "      <td>False</td>\n",
              "      <td>False</td>\n",
              "      <td>C</td>\n",
              "      <td>deer</td>\n",
              "      <td>0.8169369697570801</td>\n",
              "      <td>1</td>\n",
              "      <td>False</td>\n",
              "      <td>False</td>\n",
              "      <td>2021-11-10</td>\n",
              "      <td>0.8556231260299683,0.7097264528274536,0.288753...</td>\n",
              "      <td>0.4331307113170624,0.6443768739700317,0.209726...</td>\n",
              "      <td>0.424012154340744,0.6443768739700317,0.1671732...</td>\n",
              "      <td>{'deer': '0.7408024072647095'}</td>\n",
              "      <td>{'coyote': '0.8594738841056824'}</td>\n",
              "      <td>{'deer': '0.8169369697570801'}</td>\n",
              "      <td>{'deer': [0.7408024072647095, 0.81693696975708...</td>\n",
              "      <td>{'deer': 0.8169369697570801}</td>\n",
              "      <td>{'coyote': '0.8594738841056824', 'deer': '0.81...</td>\n",
              "    </tr>\n",
              "  </tbody>\n",
              "</table>\n",
              "</div>"
            ],
            "text/plain": [
              "      Unnamed: 0  ...                                          top3_dict\n",
              "1274        1274  ...  {'coyote': '0.8594738841056824', 'deer': '0.81...\n",
              "\n",
              "[1 rows x 32 columns]"
            ]
          },
          "metadata": {},
          "execution_count": 112
        }
      ]
    },
    {
      "cell_type": "code",
      "metadata": {
        "colab": {
          "base_uri": "https://localhost:8080/",
          "height": 153
        },
        "id": "XuSU87LqJ2JZ",
        "outputId": "e5fcd3cf-bb0f-43e2-f5aa-1775c4bd876e"
      },
      "source": [
        "df_model_id4"
      ],
      "execution_count": null,
      "outputs": [
        {
          "output_type": "execute_result",
          "data": {
            "text/html": [
              "<div>\n",
              "<style scoped>\n",
              "    .dataframe tbody tr th:only-of-type {\n",
              "        vertical-align: middle;\n",
              "    }\n",
              "\n",
              "    .dataframe tbody tr th {\n",
              "        vertical-align: top;\n",
              "    }\n",
              "\n",
              "    .dataframe thead th {\n",
              "        text-align: right;\n",
              "    }\n",
              "</style>\n",
              "<table border=\"1\" class=\"dataframe\">\n",
              "  <thead>\n",
              "    <tr style=\"text-align: right;\">\n",
              "      <th></th>\n",
              "      <th>Unnamed: 0</th>\n",
              "      <th>model_output_id</th>\n",
              "      <th>model_id</th>\n",
              "      <th>image_group_id</th>\n",
              "      <th>image_id_1</th>\n",
              "      <th>image_id_1_species_name</th>\n",
              "      <th>image_id_1_conf</th>\n",
              "      <th>image_id_1_count</th>\n",
              "      <th>image_id_1_blank</th>\n",
              "      <th>image_id_1_detectable</th>\n",
              "      <th>image_id_2</th>\n",
              "      <th>image_id_2_species_name</th>\n",
              "      <th>image_id_2_conf</th>\n",
              "      <th>image_id_2_count</th>\n",
              "      <th>image_id_2_blank</th>\n",
              "      <th>image_id_2_detectable</th>\n",
              "      <th>image_id_3</th>\n",
              "      <th>image_id_3_species_name</th>\n",
              "      <th>image_id_3_conf</th>\n",
              "      <th>image_id_3_count</th>\n",
              "      <th>image_id_3_blank</th>\n",
              "      <th>image_id_3_detectable</th>\n",
              "      <th>load_date</th>\n",
              "      <th>image_id_1_bbox</th>\n",
              "      <th>image_id_2_bbox</th>\n",
              "      <th>image_id_3_bbox</th>\n",
              "      <th>img1_species_conf_dict</th>\n",
              "      <th>img2_species_conf_dict</th>\n",
              "      <th>img3_species_conf_dict</th>\n",
              "      <th>consol_dict</th>\n",
              "      <th>top_pred</th>\n",
              "      <th>top3_dict</th>\n",
              "    </tr>\n",
              "  </thead>\n",
              "  <tbody>\n",
              "    <tr>\n",
              "      <th>1222</th>\n",
              "      <td>1222</td>\n",
              "      <td>3766</td>\n",
              "      <td>4</td>\n",
              "      <td>SSWI000000013549996</td>\n",
              "      <td>A</td>\n",
              "      <td>wolf,coyote,deer,bear,turkey</td>\n",
              "      <td>0.9680646061897278,0.02201225608587265,0.00935...</td>\n",
              "      <td>0</td>\n",
              "      <td>False</td>\n",
              "      <td>False</td>\n",
              "      <td>B</td>\n",
              "      <td>wolf,coyote,turkey,deer,bear</td>\n",
              "      <td>0.9886847138404846,0.010487456806004047,0.0005...</td>\n",
              "      <td>0</td>\n",
              "      <td>False</td>\n",
              "      <td>False</td>\n",
              "      <td>C</td>\n",
              "      <td>wolf,coyote,deer,turkey,elk</td>\n",
              "      <td>0.9619928002357483,0.03667626157402992,0.00088...</td>\n",
              "      <td>0</td>\n",
              "      <td>False</td>\n",
              "      <td>False</td>\n",
              "      <td>2021-11-10</td>\n",
              "      <td>NaN</td>\n",
              "      <td>NaN</td>\n",
              "      <td>NaN</td>\n",
              "      <td>{'wolf': '0.9680646061897278', 'coyote': '0.02...</td>\n",
              "      <td>{'wolf': '0.9886847138404846', 'coyote': '0.01...</td>\n",
              "      <td>{'wolf': '0.9619928002357483', 'coyote': '0.03...</td>\n",
              "      <td>{'wolf': [0.9680646061897278, 0.98868471384048...</td>\n",
              "      <td>{'wolf': 0.9886847138404846}</td>\n",
              "      <td>{'wolf': '0.9886847138404846', 'coyote': '0.03...</td>\n",
              "    </tr>\n",
              "  </tbody>\n",
              "</table>\n",
              "</div>"
            ],
            "text/plain": [
              "      Unnamed: 0  ...                                          top3_dict\n",
              "1222        1222  ...  {'wolf': '0.9886847138404846', 'coyote': '0.03...\n",
              "\n",
              "[1 rows x 32 columns]"
            ]
          },
          "metadata": {},
          "execution_count": 113
        }
      ]
    },
    {
      "cell_type": "code",
      "metadata": {
        "colab": {
          "base_uri": "https://localhost:8080/",
          "height": 153
        },
        "id": "agod89ycNCcB",
        "outputId": "757ab34e-67fe-471b-ffbc-0668d89e60e6"
      },
      "source": [
        "\"\"\"\n",
        "merge model_id3 and model_id4 at the event level\n",
        "the final prediction dictionaries from both models can be on the same row\n",
        "\"\"\"\n",
        "df_merge = pd.merge(df_model_id3, df_model_id4, how='inner', on=\"image_group_id\", suffixes=('_3', '_4'))\n",
        "df_merge"
      ],
      "execution_count": null,
      "outputs": [
        {
          "output_type": "execute_result",
          "data": {
            "text/html": [
              "<div>\n",
              "<style scoped>\n",
              "    .dataframe tbody tr th:only-of-type {\n",
              "        vertical-align: middle;\n",
              "    }\n",
              "\n",
              "    .dataframe tbody tr th {\n",
              "        vertical-align: top;\n",
              "    }\n",
              "\n",
              "    .dataframe thead th {\n",
              "        text-align: right;\n",
              "    }\n",
              "</style>\n",
              "<table border=\"1\" class=\"dataframe\">\n",
              "  <thead>\n",
              "    <tr style=\"text-align: right;\">\n",
              "      <th></th>\n",
              "      <th>Unnamed: 0_3</th>\n",
              "      <th>model_output_id_3</th>\n",
              "      <th>model_id_3</th>\n",
              "      <th>image_group_id</th>\n",
              "      <th>image_id_1_3</th>\n",
              "      <th>image_id_1_species_name_3</th>\n",
              "      <th>image_id_1_conf_3</th>\n",
              "      <th>image_id_1_count_3</th>\n",
              "      <th>image_id_1_blank_3</th>\n",
              "      <th>image_id_1_detectable_3</th>\n",
              "      <th>image_id_2_3</th>\n",
              "      <th>image_id_2_species_name_3</th>\n",
              "      <th>image_id_2_conf_3</th>\n",
              "      <th>image_id_2_count_3</th>\n",
              "      <th>image_id_2_blank_3</th>\n",
              "      <th>image_id_2_detectable_3</th>\n",
              "      <th>image_id_3_3</th>\n",
              "      <th>image_id_3_species_name_3</th>\n",
              "      <th>image_id_3_conf_3</th>\n",
              "      <th>image_id_3_count_3</th>\n",
              "      <th>image_id_3_blank_3</th>\n",
              "      <th>image_id_3_detectable_3</th>\n",
              "      <th>load_date_3</th>\n",
              "      <th>image_id_1_bbox_3</th>\n",
              "      <th>image_id_2_bbox_3</th>\n",
              "      <th>image_id_3_bbox_3</th>\n",
              "      <th>img1_species_conf_dict_3</th>\n",
              "      <th>img2_species_conf_dict_3</th>\n",
              "      <th>img3_species_conf_dict_3</th>\n",
              "      <th>consol_dict_3</th>\n",
              "      <th>top_pred_3</th>\n",
              "      <th>top3_dict_3</th>\n",
              "      <th>Unnamed: 0_4</th>\n",
              "      <th>model_output_id_4</th>\n",
              "      <th>model_id_4</th>\n",
              "      <th>image_id_1_4</th>\n",
              "      <th>image_id_1_species_name_4</th>\n",
              "      <th>image_id_1_conf_4</th>\n",
              "      <th>image_id_1_count_4</th>\n",
              "      <th>image_id_1_blank_4</th>\n",
              "      <th>image_id_1_detectable_4</th>\n",
              "      <th>image_id_2_4</th>\n",
              "      <th>image_id_2_species_name_4</th>\n",
              "      <th>image_id_2_conf_4</th>\n",
              "      <th>image_id_2_count_4</th>\n",
              "      <th>image_id_2_blank_4</th>\n",
              "      <th>image_id_2_detectable_4</th>\n",
              "      <th>image_id_3_4</th>\n",
              "      <th>image_id_3_species_name_4</th>\n",
              "      <th>image_id_3_conf_4</th>\n",
              "      <th>image_id_3_count_4</th>\n",
              "      <th>image_id_3_blank_4</th>\n",
              "      <th>image_id_3_detectable_4</th>\n",
              "      <th>load_date_4</th>\n",
              "      <th>image_id_1_bbox_4</th>\n",
              "      <th>image_id_2_bbox_4</th>\n",
              "      <th>image_id_3_bbox_4</th>\n",
              "      <th>img1_species_conf_dict_4</th>\n",
              "      <th>img2_species_conf_dict_4</th>\n",
              "      <th>img3_species_conf_dict_4</th>\n",
              "      <th>consol_dict_4</th>\n",
              "      <th>top_pred_4</th>\n",
              "      <th>top3_dict_4</th>\n",
              "    </tr>\n",
              "  </thead>\n",
              "  <tbody>\n",
              "    <tr>\n",
              "      <th>0</th>\n",
              "      <td>1274</td>\n",
              "      <td>2516</td>\n",
              "      <td>3</td>\n",
              "      <td>SSWI000000013549996</td>\n",
              "      <td>A</td>\n",
              "      <td>deer</td>\n",
              "      <td>0.7408024072647095</td>\n",
              "      <td>1</td>\n",
              "      <td>False</td>\n",
              "      <td>False</td>\n",
              "      <td>B</td>\n",
              "      <td>coyote</td>\n",
              "      <td>0.8594738841056824</td>\n",
              "      <td>1</td>\n",
              "      <td>False</td>\n",
              "      <td>False</td>\n",
              "      <td>C</td>\n",
              "      <td>deer</td>\n",
              "      <td>0.8169369697570801</td>\n",
              "      <td>1</td>\n",
              "      <td>False</td>\n",
              "      <td>False</td>\n",
              "      <td>2021-11-10</td>\n",
              "      <td>0.8556231260299683,0.7097264528274536,0.288753...</td>\n",
              "      <td>0.4331307113170624,0.6443768739700317,0.209726...</td>\n",
              "      <td>0.424012154340744,0.6443768739700317,0.1671732...</td>\n",
              "      <td>{'deer': '0.7408024072647095'}</td>\n",
              "      <td>{'coyote': '0.8594738841056824'}</td>\n",
              "      <td>{'deer': '0.8169369697570801'}</td>\n",
              "      <td>{'deer': [0.7408024072647095, 0.81693696975708...</td>\n",
              "      <td>{'deer': 0.8169369697570801}</td>\n",
              "      <td>{'coyote': '0.8594738841056824', 'deer': '0.81...</td>\n",
              "      <td>1222</td>\n",
              "      <td>3766</td>\n",
              "      <td>4</td>\n",
              "      <td>A</td>\n",
              "      <td>wolf,coyote,deer,bear,turkey</td>\n",
              "      <td>0.9680646061897278,0.02201225608587265,0.00935...</td>\n",
              "      <td>0</td>\n",
              "      <td>False</td>\n",
              "      <td>False</td>\n",
              "      <td>B</td>\n",
              "      <td>wolf,coyote,turkey,deer,bear</td>\n",
              "      <td>0.9886847138404846,0.010487456806004047,0.0005...</td>\n",
              "      <td>0</td>\n",
              "      <td>False</td>\n",
              "      <td>False</td>\n",
              "      <td>C</td>\n",
              "      <td>wolf,coyote,deer,turkey,elk</td>\n",
              "      <td>0.9619928002357483,0.03667626157402992,0.00088...</td>\n",
              "      <td>0</td>\n",
              "      <td>False</td>\n",
              "      <td>False</td>\n",
              "      <td>2021-11-10</td>\n",
              "      <td>NaN</td>\n",
              "      <td>NaN</td>\n",
              "      <td>NaN</td>\n",
              "      <td>{'wolf': '0.9680646061897278', 'coyote': '0.02...</td>\n",
              "      <td>{'wolf': '0.9886847138404846', 'coyote': '0.01...</td>\n",
              "      <td>{'wolf': '0.9619928002357483', 'coyote': '0.03...</td>\n",
              "      <td>{'wolf': [0.9680646061897278, 0.98868471384048...</td>\n",
              "      <td>{'wolf': 0.9886847138404846}</td>\n",
              "      <td>{'wolf': '0.9886847138404846', 'coyote': '0.03...</td>\n",
              "    </tr>\n",
              "  </tbody>\n",
              "</table>\n",
              "</div>"
            ],
            "text/plain": [
              "   Unnamed: 0_3  ...                                        top3_dict_4\n",
              "0          1274  ...  {'wolf': '0.9886847138404846', 'coyote': '0.03...\n",
              "\n",
              "[1 rows x 63 columns]"
            ]
          },
          "metadata": {},
          "execution_count": 114
        }
      ]
    },
    {
      "cell_type": "code",
      "metadata": {
        "colab": {
          "base_uri": "https://localhost:8080/",
          "height": 81
        },
        "id": "ynICEKAnNCmB",
        "outputId": "c79ae82e-f4a4-4140-9176-47ce84c8e836"
      },
      "source": [
        "\"\"\"\n",
        "clean-up columns\n",
        "\"\"\"\n",
        "df_merge = df_merge[['image_group_id', 'top_pred_3', 'top3_dict_3', 'top_pred_4', 'top3_dict_4']]\n",
        "df_merge"
      ],
      "execution_count": null,
      "outputs": [
        {
          "output_type": "execute_result",
          "data": {
            "text/html": [
              "<div>\n",
              "<style scoped>\n",
              "    .dataframe tbody tr th:only-of-type {\n",
              "        vertical-align: middle;\n",
              "    }\n",
              "\n",
              "    .dataframe tbody tr th {\n",
              "        vertical-align: top;\n",
              "    }\n",
              "\n",
              "    .dataframe thead th {\n",
              "        text-align: right;\n",
              "    }\n",
              "</style>\n",
              "<table border=\"1\" class=\"dataframe\">\n",
              "  <thead>\n",
              "    <tr style=\"text-align: right;\">\n",
              "      <th></th>\n",
              "      <th>image_group_id</th>\n",
              "      <th>top_pred_3</th>\n",
              "      <th>top3_dict_3</th>\n",
              "      <th>top_pred_4</th>\n",
              "      <th>top3_dict_4</th>\n",
              "    </tr>\n",
              "  </thead>\n",
              "  <tbody>\n",
              "    <tr>\n",
              "      <th>0</th>\n",
              "      <td>SSWI000000013549996</td>\n",
              "      <td>{'deer': 0.8169369697570801}</td>\n",
              "      <td>{'coyote': '0.8594738841056824', 'deer': '0.81...</td>\n",
              "      <td>{'wolf': 0.9886847138404846}</td>\n",
              "      <td>{'wolf': '0.9886847138404846', 'coyote': '0.03...</td>\n",
              "    </tr>\n",
              "  </tbody>\n",
              "</table>\n",
              "</div>"
            ],
            "text/plain": [
              "        image_group_id  ...                                        top3_dict_4\n",
              "0  SSWI000000013549996  ...  {'wolf': '0.9886847138404846', 'coyote': '0.03...\n",
              "\n",
              "[1 rows x 5 columns]"
            ]
          },
          "metadata": {},
          "execution_count": 115
        }
      ]
    },
    {
      "cell_type": "code",
      "metadata": {
        "id": "baPwmaljNq99"
      },
      "source": [
        "\"\"\"\n",
        "before we combine scores, we should weight the predictions between model_id3 and model_id4\n",
        "to slightly bias the scores towards model_id3\n",
        "\n",
        "80/67 = 1.2\n",
        "\n",
        "multiply topk_conf_3 by 1.2\n",
        "divide topk_conf_4 by 1.2\n",
        "\"\"\"\n",
        "\n",
        "def scale_model_id3(x):\n",
        "  ## x is a dictionary\n",
        "  intermed_dict = {key: float(value) * 1.2 for key, value in x.items()}\n",
        "  ## cap maximum possible score at 0.99\n",
        "  output_dict = {key: (0.99 if float(value) > 1 else float(value)) for key, value in intermed_dict.items()}\n",
        "  return output_dict\n",
        "\n",
        "def scale_model_id4(x):\n",
        "  ## x is a dictionary\n",
        "  return {key: float(value) / 1.2 for key, value in x.items()}\n",
        "\n",
        "df_merge['topk_conf_3_scaled'] = df_merge.apply(lambda x: scale_model_id3(x.top3_dict_3), axis=1)\n",
        "df_merge['topk_conf_4_scaled'] = df_merge.apply(lambda x: scale_model_id4(x.top3_dict_4), axis=1)"
      ],
      "execution_count": null,
      "outputs": []
    },
    {
      "cell_type": "code",
      "metadata": {
        "colab": {
          "base_uri": "https://localhost:8080/",
          "height": 98
        },
        "id": "6844Hr9jOLqf",
        "outputId": "374fcd46-9faf-4f51-d123-8c22a74f4124"
      },
      "source": [
        "df_merge"
      ],
      "execution_count": null,
      "outputs": [
        {
          "output_type": "execute_result",
          "data": {
            "text/html": [
              "<div>\n",
              "<style scoped>\n",
              "    .dataframe tbody tr th:only-of-type {\n",
              "        vertical-align: middle;\n",
              "    }\n",
              "\n",
              "    .dataframe tbody tr th {\n",
              "        vertical-align: top;\n",
              "    }\n",
              "\n",
              "    .dataframe thead th {\n",
              "        text-align: right;\n",
              "    }\n",
              "</style>\n",
              "<table border=\"1\" class=\"dataframe\">\n",
              "  <thead>\n",
              "    <tr style=\"text-align: right;\">\n",
              "      <th></th>\n",
              "      <th>image_group_id</th>\n",
              "      <th>top_pred_3</th>\n",
              "      <th>top3_dict_3</th>\n",
              "      <th>top_pred_4</th>\n",
              "      <th>top3_dict_4</th>\n",
              "      <th>topk_conf_3_scaled</th>\n",
              "      <th>topk_conf_4_scaled</th>\n",
              "    </tr>\n",
              "  </thead>\n",
              "  <tbody>\n",
              "    <tr>\n",
              "      <th>0</th>\n",
              "      <td>SSWI000000013549996</td>\n",
              "      <td>{'deer': 0.8169369697570801}</td>\n",
              "      <td>{'coyote': '0.8594738841056824', 'deer': '0.81...</td>\n",
              "      <td>{'wolf': 0.9886847138404846}</td>\n",
              "      <td>{'wolf': '0.9886847138404846', 'coyote': '0.03...</td>\n",
              "      <td>{'coyote': 0.99, 'deer': 0.9803243637084961}</td>\n",
              "      <td>{'wolf': 0.8239039282004039, 'coyote': 0.03056...</td>\n",
              "    </tr>\n",
              "  </tbody>\n",
              "</table>\n",
              "</div>"
            ],
            "text/plain": [
              "        image_group_id  ...                                 topk_conf_4_scaled\n",
              "0  SSWI000000013549996  ...  {'wolf': 0.8239039282004039, 'coyote': 0.03056...\n",
              "\n",
              "[1 rows x 7 columns]"
            ]
          },
          "metadata": {},
          "execution_count": 117
        }
      ]
    },
    {
      "cell_type": "code",
      "metadata": {
        "colab": {
          "base_uri": "https://localhost:8080/"
        },
        "id": "h6qXF_wjNq-I",
        "outputId": "c17a481f-3c85-4389-c519-730b89b17cfe"
      },
      "source": [
        "\"\"\"\n",
        "output final topk dictionary of species predictions and their confidence scores\n",
        "\"\"\"\n",
        "\n",
        "def combine_topk_conf(x, y):\n",
        "  dict_list = [x,y]\n",
        "  #print(dict_list)\n",
        "  preds_dict = {}\n",
        "\n",
        "  for item in dict_list:\n",
        "    if item is None:\n",
        "      pass\n",
        "    else:\n",
        "      for key, value in item.items():\n",
        "        if key in preds_dict:\n",
        "          preds_dict[key].append(value)\n",
        "        else:\n",
        "          preds_dict[key] = [value]\n",
        "      \n",
        "  return preds_dict\n",
        "\n",
        "def get_final_topk(x, k):\n",
        "  topk_event_dict = {}\n",
        "  top_ind = sorted(x, key=x.get, reverse=True)[:k]\n",
        "  conf_scores = {}\n",
        "  for i in top_ind:\n",
        "    conf_scores[i] = max(x[i])\n",
        "  \n",
        "  return conf_scores\n",
        "\n",
        "df_merge['event_final_topk_conf'] = df_merge.apply(lambda x: get_final_topk(combine_topk_conf(x.topk_conf_3_scaled, x.topk_conf_4_scaled),3), axis=1)\n",
        "df_merge['event_final_topk_conf'][0]"
      ],
      "execution_count": null,
      "outputs": [
        {
          "output_type": "execute_result",
          "data": {
            "text/plain": [
              "{'coyote': 0.99, 'deer': 0.9803243637084961, 'wolf': 0.8239039282004039}"
            ]
          },
          "metadata": {},
          "execution_count": 118
        }
      ]
    },
    {
      "cell_type": "code",
      "metadata": {
        "colab": {
          "base_uri": "https://localhost:8080/"
        },
        "id": "fnWtNDi_Nq-J",
        "outputId": "d7801333-ec79-44c2-a1f3-538f83cb4d19"
      },
      "source": [
        "## confirm top3\n",
        "print(\"{}\\n{}\".format(df_merge['topk_conf_4_scaled'][0], df_merge['topk_conf_3_scaled'][0]))"
      ],
      "execution_count": null,
      "outputs": [
        {
          "output_type": "stream",
          "name": "stdout",
          "text": [
            "{'wolf': 0.8239039282004039, 'coyote': 0.030563551311691604, 'deer': 0.007793215724329154}\n",
            "{'coyote': 0.99, 'deer': 0.9803243637084961}\n"
          ]
        }
      ]
    },
    {
      "cell_type": "code",
      "metadata": {
        "colab": {
          "base_uri": "https://localhost:8080/",
          "height": 115
        },
        "id": "-K0lUFWZNC4C",
        "outputId": "144dd680-be51-42ca-815b-20e214e8d5b1"
      },
      "source": [
        "df_merge"
      ],
      "execution_count": null,
      "outputs": [
        {
          "output_type": "execute_result",
          "data": {
            "text/html": [
              "<div>\n",
              "<style scoped>\n",
              "    .dataframe tbody tr th:only-of-type {\n",
              "        vertical-align: middle;\n",
              "    }\n",
              "\n",
              "    .dataframe tbody tr th {\n",
              "        vertical-align: top;\n",
              "    }\n",
              "\n",
              "    .dataframe thead th {\n",
              "        text-align: right;\n",
              "    }\n",
              "</style>\n",
              "<table border=\"1\" class=\"dataframe\">\n",
              "  <thead>\n",
              "    <tr style=\"text-align: right;\">\n",
              "      <th></th>\n",
              "      <th>image_group_id</th>\n",
              "      <th>top_pred_3</th>\n",
              "      <th>top3_dict_3</th>\n",
              "      <th>top_pred_4</th>\n",
              "      <th>top3_dict_4</th>\n",
              "      <th>topk_conf_3_scaled</th>\n",
              "      <th>topk_conf_4_scaled</th>\n",
              "      <th>event_final_topk_conf</th>\n",
              "    </tr>\n",
              "  </thead>\n",
              "  <tbody>\n",
              "    <tr>\n",
              "      <th>0</th>\n",
              "      <td>SSWI000000013549996</td>\n",
              "      <td>{'deer': 0.8169369697570801}</td>\n",
              "      <td>{'coyote': '0.8594738841056824', 'deer': '0.81...</td>\n",
              "      <td>{'wolf': 0.9886847138404846}</td>\n",
              "      <td>{'wolf': '0.9886847138404846', 'coyote': '0.03...</td>\n",
              "      <td>{'coyote': 0.99, 'deer': 0.9803243637084961}</td>\n",
              "      <td>{'wolf': 0.8239039282004039, 'coyote': 0.03056...</td>\n",
              "      <td>{'coyote': 0.99, 'deer': 0.9803243637084961, '...</td>\n",
              "    </tr>\n",
              "  </tbody>\n",
              "</table>\n",
              "</div>"
            ],
            "text/plain": [
              "        image_group_id  ...                              event_final_topk_conf\n",
              "0  SSWI000000013549996  ...  {'coyote': 0.99, 'deer': 0.9803243637084961, '...\n",
              "\n",
              "[1 rows x 8 columns]"
            ]
          },
          "metadata": {},
          "execution_count": 120
        }
      ]
    },
    {
      "cell_type": "code",
      "metadata": {
        "colab": {
          "base_uri": "https://localhost:8080/",
          "height": 135
        },
        "id": "ZM8XSqd4OtG3",
        "outputId": "1c8f8b06-286d-46fa-c1c2-3eb3c7b7604d"
      },
      "source": [
        "\"\"\"\n",
        "output final event prediction, conf score, and bbox\n",
        "\"\"\"\n",
        "def output_final_pred_species(x):\n",
        "  intermed_dict = {key: float(value) for key, value in x.items()}\n",
        "  top_ind = sorted(intermed_dict, key=intermed_dict.get, reverse=True)[:1]\n",
        "  #print(top_ind)\n",
        "  return top_ind[0]\n",
        "\n",
        "df_merge['event_final_pred'] = df_merge.apply(lambda x: output_final_pred_species(x.event_final_topk_conf), axis=1)\n",
        "df_merge['event_final_pred_conf'] = df_merge.apply(lambda x: output_final_pred_conf(x.event_final_topk_conf), axis=1)\n",
        "df_merge"
      ],
      "execution_count": null,
      "outputs": [
        {
          "output_type": "execute_result",
          "data": {
            "text/html": [
              "<div>\n",
              "<style scoped>\n",
              "    .dataframe tbody tr th:only-of-type {\n",
              "        vertical-align: middle;\n",
              "    }\n",
              "\n",
              "    .dataframe tbody tr th {\n",
              "        vertical-align: top;\n",
              "    }\n",
              "\n",
              "    .dataframe thead th {\n",
              "        text-align: right;\n",
              "    }\n",
              "</style>\n",
              "<table border=\"1\" class=\"dataframe\">\n",
              "  <thead>\n",
              "    <tr style=\"text-align: right;\">\n",
              "      <th></th>\n",
              "      <th>image_group_id</th>\n",
              "      <th>top_pred_3</th>\n",
              "      <th>top3_dict_3</th>\n",
              "      <th>top_pred_4</th>\n",
              "      <th>top3_dict_4</th>\n",
              "      <th>topk_conf_3_scaled</th>\n",
              "      <th>topk_conf_4_scaled</th>\n",
              "      <th>event_final_topk_conf</th>\n",
              "      <th>event_final_pred</th>\n",
              "      <th>event_final_pred_conf</th>\n",
              "    </tr>\n",
              "  </thead>\n",
              "  <tbody>\n",
              "    <tr>\n",
              "      <th>0</th>\n",
              "      <td>SSWI000000013549996</td>\n",
              "      <td>{'deer': 0.8169369697570801}</td>\n",
              "      <td>{'coyote': '0.8594738841056824', 'deer': '0.81...</td>\n",
              "      <td>{'wolf': 0.9886847138404846}</td>\n",
              "      <td>{'wolf': '0.9886847138404846', 'coyote': '0.03...</td>\n",
              "      <td>{'coyote': 0.99, 'deer': 0.9803243637084961}</td>\n",
              "      <td>{'wolf': 0.8239039282004039, 'coyote': 0.03056...</td>\n",
              "      <td>{'coyote': 0.99, 'deer': 0.9803243637084961, '...</td>\n",
              "      <td>coyote</td>\n",
              "      <td>0.99</td>\n",
              "    </tr>\n",
              "  </tbody>\n",
              "</table>\n",
              "</div>"
            ],
            "text/plain": [
              "        image_group_id  ... event_final_pred_conf\n",
              "0  SSWI000000013549996  ...                  0.99\n",
              "\n",
              "[1 rows x 10 columns]"
            ]
          },
          "metadata": {},
          "execution_count": 121
        }
      ]
    },
    {
      "cell_type": "markdown",
      "metadata": {
        "id": "lrQCdI4KMNn0"
      },
      "source": [
        "## ignore"
      ]
    },
    {
      "cell_type": "code",
      "metadata": {
        "id": "JpMsBk9zBWtS"
      },
      "source": [
        "### get top 5 for each event\n",
        "\"\"\"\n",
        "for each event, consolidate the combined dictionary to output a topk result by confidence scores\n",
        "\n",
        "ex:\n",
        "k = 5\n",
        "{'bear': '0.16207468509674072',\n",
        " 'deer': '0.2770918905735016',\n",
        " 'elk': '0.14720852673053741',\n",
        " 'foxgray_foxred': '0.0765981450676918',\n",
        " 'turkey': '0.8158956170082092'}\n",
        "\"\"\"\n",
        "\n",
        "def get_topk(x, k):\n",
        "  topk_event_dict = {}\n",
        "  top_ind = sorted(x, key=x.get, reverse=True)[:k]\n",
        "  conf_scores = {}\n",
        "  for i in top_ind:\n",
        "    conf_scores[i] = max(x[i])\n",
        "  \n",
        "  return conf_scores\n",
        "\n",
        "df_model_id3['topk_conf'] = df_model_id3.apply(lambda x: get_topk(x.consol_dict, 5), axis=1)\n",
        "df_model_id4['topk_conf'] = df_model_id4.apply(lambda x: get_topk(x.consol_dict, 5), axis=1)\n",
        "#df_model_id4['topk_conf'][1206]"
      ],
      "execution_count": null,
      "outputs": []
    },
    {
      "cell_type": "code",
      "metadata": {
        "colab": {
          "base_uri": "https://localhost:8080/"
        },
        "id": "ZaSNdII0Le4E",
        "outputId": "f18d99a1-9dcc-4e6f-f1b7-18758a1764e4"
      },
      "source": [
        "print(df_model_id3['topk_conf'][1274])\n",
        "print(df_model_id4['topk_conf'][1222])"
      ],
      "execution_count": null,
      "outputs": [
        {
          "output_type": "stream",
          "name": "stdout",
          "text": [
            "{'coyote': '0.8594738841056824', 'deer': '0.8169369697570801'}\n",
            "{'wolf': '0.9886847138404846', 'coyote': '0.03667626157402992', 'deer': '0.009351858869194984', 'bear': '6.45634499960579e-05', 'turkey': '0.000521707464940846'}\n"
          ]
        }
      ]
    },
    {
      "cell_type": "code",
      "metadata": {
        "colab": {
          "base_uri": "https://localhost:8080/",
          "height": 153
        },
        "id": "b4ReziX8E8TY",
        "outputId": "dd3045a0-15b4-4a33-e99e-b4febbb3933f"
      },
      "source": [
        "\"\"\"\n",
        "output final prediction based on highest confidence: class and corresponding confidence score\n",
        "\"\"\"\n",
        "\n",
        "def output_final_pred_species(x):\n",
        "  intermed_dict = {key: float(value) for key, value in x.items()}\n",
        "  top_ind = sorted(intermed_dict, key=intermed_dict.get, reverse=True)[:1]\n",
        "  #print(top_ind)\n",
        "  return top_ind[0]\n",
        "\n",
        "def output_final_pred_conf(x):\n",
        "  intermed_dict = {key: float(value) for key, value in x.items()}\n",
        "  top_ind = sorted(intermed_dict, key=intermed_dict.get, reverse=True)[:1]\n",
        "  #print(top_ind)\n",
        "  return x[top_ind[0]]\n",
        "\n",
        "df_model_id4['final_pred'] = df_model_id4.apply(lambda x: output_final_pred_species(x.topk_conf), axis=1)\n",
        "df_model_id4['final_pred_conf'] = df_model_id4.apply(lambda x: output_final_pred_conf(x.topk_conf), axis=1)\n",
        "\n",
        "df_model_id3['final_pred'] = df_model_id3.apply(lambda x: output_final_pred_species(x.topk_conf), axis=1)\n",
        "df_model_id3['final_pred_conf'] = df_model_id3.apply(lambda x: output_final_pred_conf(x.topk_conf), axis=1)\n",
        "\n",
        "df_model_id4"
      ],
      "execution_count": null,
      "outputs": [
        {
          "output_type": "execute_result",
          "data": {
            "text/html": [
              "<div>\n",
              "<style scoped>\n",
              "    .dataframe tbody tr th:only-of-type {\n",
              "        vertical-align: middle;\n",
              "    }\n",
              "\n",
              "    .dataframe tbody tr th {\n",
              "        vertical-align: top;\n",
              "    }\n",
              "\n",
              "    .dataframe thead th {\n",
              "        text-align: right;\n",
              "    }\n",
              "</style>\n",
              "<table border=\"1\" class=\"dataframe\">\n",
              "  <thead>\n",
              "    <tr style=\"text-align: right;\">\n",
              "      <th></th>\n",
              "      <th>Unnamed: 0</th>\n",
              "      <th>model_output_id</th>\n",
              "      <th>model_id</th>\n",
              "      <th>image_group_id</th>\n",
              "      <th>image_id_1</th>\n",
              "      <th>image_id_1_species_name</th>\n",
              "      <th>image_id_1_conf</th>\n",
              "      <th>image_id_1_count</th>\n",
              "      <th>image_id_1_blank</th>\n",
              "      <th>image_id_1_detectable</th>\n",
              "      <th>image_id_2</th>\n",
              "      <th>image_id_2_species_name</th>\n",
              "      <th>image_id_2_conf</th>\n",
              "      <th>image_id_2_count</th>\n",
              "      <th>image_id_2_blank</th>\n",
              "      <th>image_id_2_detectable</th>\n",
              "      <th>image_id_3</th>\n",
              "      <th>image_id_3_species_name</th>\n",
              "      <th>image_id_3_conf</th>\n",
              "      <th>image_id_3_count</th>\n",
              "      <th>image_id_3_blank</th>\n",
              "      <th>image_id_3_detectable</th>\n",
              "      <th>load_date</th>\n",
              "      <th>image_id_1_bbox</th>\n",
              "      <th>image_id_2_bbox</th>\n",
              "      <th>image_id_3_bbox</th>\n",
              "      <th>img1_species_conf_dict</th>\n",
              "      <th>img2_species_conf_dict</th>\n",
              "      <th>img3_species_conf_dict</th>\n",
              "      <th>consol_dict</th>\n",
              "      <th>topk_conf</th>\n",
              "      <th>final_pred</th>\n",
              "      <th>final_pred_conf</th>\n",
              "    </tr>\n",
              "  </thead>\n",
              "  <tbody>\n",
              "    <tr>\n",
              "      <th>1222</th>\n",
              "      <td>1222</td>\n",
              "      <td>3766</td>\n",
              "      <td>4</td>\n",
              "      <td>SSWI000000013549996</td>\n",
              "      <td>A</td>\n",
              "      <td>wolf,coyote,deer,bear,turkey</td>\n",
              "      <td>0.9680646061897278,0.02201225608587265,0.00935...</td>\n",
              "      <td>0</td>\n",
              "      <td>False</td>\n",
              "      <td>False</td>\n",
              "      <td>B</td>\n",
              "      <td>wolf,coyote,turkey,deer,bear</td>\n",
              "      <td>0.9886847138404846,0.010487456806004047,0.0005...</td>\n",
              "      <td>0</td>\n",
              "      <td>False</td>\n",
              "      <td>False</td>\n",
              "      <td>C</td>\n",
              "      <td>wolf,coyote,deer,turkey,elk</td>\n",
              "      <td>0.9619928002357483,0.03667626157402992,0.00088...</td>\n",
              "      <td>0</td>\n",
              "      <td>False</td>\n",
              "      <td>False</td>\n",
              "      <td>2021-11-10</td>\n",
              "      <td>NaN</td>\n",
              "      <td>NaN</td>\n",
              "      <td>NaN</td>\n",
              "      <td>{'wolf': '0.9680646061897278', 'coyote': '0.02...</td>\n",
              "      <td>{'wolf': '0.9886847138404846', 'coyote': '0.01...</td>\n",
              "      <td>{'wolf': '0.9619928002357483', 'coyote': '0.03...</td>\n",
              "      <td>{'wolf': ['0.9680646061897278', '0.98868471384...</td>\n",
              "      <td>{'wolf': '0.9886847138404846', 'coyote': '0.03...</td>\n",
              "      <td>wolf</td>\n",
              "      <td>0.9886847138404846</td>\n",
              "    </tr>\n",
              "  </tbody>\n",
              "</table>\n",
              "</div>"
            ],
            "text/plain": [
              "      Unnamed: 0  model_output_id  ...  final_pred     final_pred_conf\n",
              "1222        1222             3766  ...        wolf  0.9886847138404846\n",
              "\n",
              "[1 rows x 33 columns]"
            ]
          },
          "metadata": {},
          "execution_count": 29
        }
      ]
    },
    {
      "cell_type": "code",
      "metadata": {
        "colab": {
          "base_uri": "https://localhost:8080/",
          "height": 153
        },
        "id": "1FXQbdRDLp9g",
        "outputId": "75d154bd-b55f-47d9-e31a-f5085c6d9f61"
      },
      "source": [
        "df_model_id3"
      ],
      "execution_count": null,
      "outputs": [
        {
          "output_type": "execute_result",
          "data": {
            "text/html": [
              "<div>\n",
              "<style scoped>\n",
              "    .dataframe tbody tr th:only-of-type {\n",
              "        vertical-align: middle;\n",
              "    }\n",
              "\n",
              "    .dataframe tbody tr th {\n",
              "        vertical-align: top;\n",
              "    }\n",
              "\n",
              "    .dataframe thead th {\n",
              "        text-align: right;\n",
              "    }\n",
              "</style>\n",
              "<table border=\"1\" class=\"dataframe\">\n",
              "  <thead>\n",
              "    <tr style=\"text-align: right;\">\n",
              "      <th></th>\n",
              "      <th>Unnamed: 0</th>\n",
              "      <th>model_output_id</th>\n",
              "      <th>model_id</th>\n",
              "      <th>image_group_id</th>\n",
              "      <th>image_id_1</th>\n",
              "      <th>image_id_1_species_name</th>\n",
              "      <th>image_id_1_conf</th>\n",
              "      <th>image_id_1_count</th>\n",
              "      <th>image_id_1_blank</th>\n",
              "      <th>image_id_1_detectable</th>\n",
              "      <th>image_id_2</th>\n",
              "      <th>image_id_2_species_name</th>\n",
              "      <th>image_id_2_conf</th>\n",
              "      <th>image_id_2_count</th>\n",
              "      <th>image_id_2_blank</th>\n",
              "      <th>image_id_2_detectable</th>\n",
              "      <th>image_id_3</th>\n",
              "      <th>image_id_3_species_name</th>\n",
              "      <th>image_id_3_conf</th>\n",
              "      <th>image_id_3_count</th>\n",
              "      <th>image_id_3_blank</th>\n",
              "      <th>image_id_3_detectable</th>\n",
              "      <th>load_date</th>\n",
              "      <th>image_id_1_bbox</th>\n",
              "      <th>image_id_2_bbox</th>\n",
              "      <th>image_id_3_bbox</th>\n",
              "      <th>img1_species_conf_dict</th>\n",
              "      <th>img2_species_conf_dict</th>\n",
              "      <th>img3_species_conf_dict</th>\n",
              "      <th>consol_dict</th>\n",
              "      <th>topk_conf</th>\n",
              "      <th>final_pred</th>\n",
              "      <th>final_pred_conf</th>\n",
              "    </tr>\n",
              "  </thead>\n",
              "  <tbody>\n",
              "    <tr>\n",
              "      <th>1274</th>\n",
              "      <td>1274</td>\n",
              "      <td>2516</td>\n",
              "      <td>3</td>\n",
              "      <td>SSWI000000013549996</td>\n",
              "      <td>A</td>\n",
              "      <td>deer</td>\n",
              "      <td>0.7408024072647095</td>\n",
              "      <td>1</td>\n",
              "      <td>False</td>\n",
              "      <td>False</td>\n",
              "      <td>B</td>\n",
              "      <td>coyote</td>\n",
              "      <td>0.8594738841056824</td>\n",
              "      <td>1</td>\n",
              "      <td>False</td>\n",
              "      <td>False</td>\n",
              "      <td>C</td>\n",
              "      <td>deer</td>\n",
              "      <td>0.8169369697570801</td>\n",
              "      <td>1</td>\n",
              "      <td>False</td>\n",
              "      <td>False</td>\n",
              "      <td>2021-11-10</td>\n",
              "      <td>0.8556231260299683,0.7097264528274536,0.288753...</td>\n",
              "      <td>0.4331307113170624,0.6443768739700317,0.209726...</td>\n",
              "      <td>0.424012154340744,0.6443768739700317,0.1671732...</td>\n",
              "      <td>{'deer': '0.7408024072647095'}</td>\n",
              "      <td>{'coyote': '0.8594738841056824'}</td>\n",
              "      <td>{'deer': '0.8169369697570801'}</td>\n",
              "      <td>{'deer': ['0.7408024072647095', '0.81693696975...</td>\n",
              "      <td>{'coyote': '0.8594738841056824', 'deer': '0.81...</td>\n",
              "      <td>coyote</td>\n",
              "      <td>0.8594738841056824</td>\n",
              "    </tr>\n",
              "  </tbody>\n",
              "</table>\n",
              "</div>"
            ],
            "text/plain": [
              "      Unnamed: 0  model_output_id  ...  final_pred     final_pred_conf\n",
              "1274        1274             2516  ...      coyote  0.8594738841056824\n",
              "\n",
              "[1 rows x 33 columns]"
            ]
          },
          "metadata": {},
          "execution_count": 30
        }
      ]
    },
    {
      "cell_type": "code",
      "metadata": {
        "colab": {
          "base_uri": "https://localhost:8080/",
          "height": 153
        },
        "id": "XsNRK9Z7oD3X",
        "outputId": "9da22c8d-f065-4390-a1b7-c22d7159b570"
      },
      "source": [
        "\"\"\"\n",
        "based on the resulting class, get the corresponding bbox\n",
        "\"\"\"\n",
        "\n",
        "def get_bbox_imgNo(pred_class, pred_conf, img1_conf_dict, img2_conf_dict, img3_conf_dict):\n",
        "\n",
        "  key, value = pred_class, pred_conf\n",
        "  if key in img1_conf_dict and value == img1_conf_dict[key]:\n",
        "    return \"img1\"\n",
        "  elif key in img2_conf_dict and value == img2_conf_dict[key]:\n",
        "    return \"img2\"\n",
        "  else:\n",
        "    return \"img3\"\n",
        "\n",
        "def get_bbox(x, img1_bbox, img2_bbox, img3_bbox):\n",
        "  if x == \"img1\":\n",
        "    return img1_bbox\n",
        "  elif x == \"img2\":\n",
        "    return img2_bbox\n",
        "  else:\n",
        "    return img3_bbox\n",
        "\n",
        "df_model_id3['bbox_img'] = df_model_id3.apply(lambda x: get_bbox(get_bbox_imgNo(x.final_pred, x.final_pred_conf, x.img1_species_conf_dict, x.img2_species_conf_dict,\n",
        "                                                                        x.img3_species_conf_dict), x.image_id_1_bbox, x.image_id_2_bbox, x.image_id_3_bbox), axis=1)\n",
        "\n",
        "df_model_id3"
      ],
      "execution_count": null,
      "outputs": [
        {
          "output_type": "execute_result",
          "data": {
            "text/html": [
              "<div>\n",
              "<style scoped>\n",
              "    .dataframe tbody tr th:only-of-type {\n",
              "        vertical-align: middle;\n",
              "    }\n",
              "\n",
              "    .dataframe tbody tr th {\n",
              "        vertical-align: top;\n",
              "    }\n",
              "\n",
              "    .dataframe thead th {\n",
              "        text-align: right;\n",
              "    }\n",
              "</style>\n",
              "<table border=\"1\" class=\"dataframe\">\n",
              "  <thead>\n",
              "    <tr style=\"text-align: right;\">\n",
              "      <th></th>\n",
              "      <th>Unnamed: 0</th>\n",
              "      <th>model_output_id</th>\n",
              "      <th>model_id</th>\n",
              "      <th>image_group_id</th>\n",
              "      <th>image_id_1</th>\n",
              "      <th>image_id_1_species_name</th>\n",
              "      <th>image_id_1_conf</th>\n",
              "      <th>image_id_1_count</th>\n",
              "      <th>image_id_1_blank</th>\n",
              "      <th>image_id_1_detectable</th>\n",
              "      <th>image_id_2</th>\n",
              "      <th>image_id_2_species_name</th>\n",
              "      <th>image_id_2_conf</th>\n",
              "      <th>image_id_2_count</th>\n",
              "      <th>image_id_2_blank</th>\n",
              "      <th>image_id_2_detectable</th>\n",
              "      <th>image_id_3</th>\n",
              "      <th>image_id_3_species_name</th>\n",
              "      <th>image_id_3_conf</th>\n",
              "      <th>image_id_3_count</th>\n",
              "      <th>image_id_3_blank</th>\n",
              "      <th>image_id_3_detectable</th>\n",
              "      <th>load_date</th>\n",
              "      <th>image_id_1_bbox</th>\n",
              "      <th>image_id_2_bbox</th>\n",
              "      <th>image_id_3_bbox</th>\n",
              "      <th>img1_species_conf_dict</th>\n",
              "      <th>img2_species_conf_dict</th>\n",
              "      <th>img3_species_conf_dict</th>\n",
              "      <th>consol_dict</th>\n",
              "      <th>topk_conf</th>\n",
              "      <th>final_pred</th>\n",
              "      <th>final_pred_conf</th>\n",
              "      <th>bbox_img</th>\n",
              "    </tr>\n",
              "  </thead>\n",
              "  <tbody>\n",
              "    <tr>\n",
              "      <th>1274</th>\n",
              "      <td>1274</td>\n",
              "      <td>2516</td>\n",
              "      <td>3</td>\n",
              "      <td>SSWI000000013549996</td>\n",
              "      <td>A</td>\n",
              "      <td>deer</td>\n",
              "      <td>0.7408024072647095</td>\n",
              "      <td>1</td>\n",
              "      <td>False</td>\n",
              "      <td>False</td>\n",
              "      <td>B</td>\n",
              "      <td>coyote</td>\n",
              "      <td>0.8594738841056824</td>\n",
              "      <td>1</td>\n",
              "      <td>False</td>\n",
              "      <td>False</td>\n",
              "      <td>C</td>\n",
              "      <td>deer</td>\n",
              "      <td>0.8169369697570801</td>\n",
              "      <td>1</td>\n",
              "      <td>False</td>\n",
              "      <td>False</td>\n",
              "      <td>2021-11-10</td>\n",
              "      <td>0.8556231260299683,0.7097264528274536,0.288753...</td>\n",
              "      <td>0.4331307113170624,0.6443768739700317,0.209726...</td>\n",
              "      <td>0.424012154340744,0.6443768739700317,0.1671732...</td>\n",
              "      <td>{'deer': '0.7408024072647095'}</td>\n",
              "      <td>{'coyote': '0.8594738841056824'}</td>\n",
              "      <td>{'deer': '0.8169369697570801'}</td>\n",
              "      <td>{'deer': ['0.7408024072647095', '0.81693696975...</td>\n",
              "      <td>{'coyote': '0.8594738841056824', 'deer': '0.81...</td>\n",
              "      <td>coyote</td>\n",
              "      <td>0.8594738841056824</td>\n",
              "      <td>0.4331307113170624,0.6443768739700317,0.209726...</td>\n",
              "    </tr>\n",
              "  </tbody>\n",
              "</table>\n",
              "</div>"
            ],
            "text/plain": [
              "      Unnamed: 0  ...                                           bbox_img\n",
              "1274        1274  ...  0.4331307113170624,0.6443768739700317,0.209726...\n",
              "\n",
              "[1 rows x 34 columns]"
            ]
          },
          "metadata": {},
          "execution_count": 31
        }
      ]
    },
    {
      "cell_type": "code",
      "metadata": {
        "colab": {
          "base_uri": "https://localhost:8080/",
          "height": 153
        },
        "id": "cwxE0hQGoD9h",
        "outputId": "8b4a9601-81a0-4af6-d65d-a72f5d948eae"
      },
      "source": [
        "## join model_id4 with model_id5 first\n",
        "df_model_id4 = pd.merge(df_model_id4, df_model_id5, how=\"inner\", on=\"image_group_id\", suffixes=('_4', '_5'))\n",
        "\n",
        "df_model_id4['bbox_img'] = df_model_id4.apply(lambda x: get_bbox(get_bbox_imgNo(x.final_pred, x.final_pred_conf, x.img1_species_conf_dict, x.img2_species_conf_dict,\n",
        "                                                                                x.img3_species_conf_dict), x.image_id_1_bbox_5, x.image_id_2_bbox_5, x.image_id_3_bbox_5), axis=1)\n",
        "\n",
        "df_model_id4"
      ],
      "execution_count": null,
      "outputs": [
        {
          "output_type": "execute_result",
          "data": {
            "text/html": [
              "<div>\n",
              "<style scoped>\n",
              "    .dataframe tbody tr th:only-of-type {\n",
              "        vertical-align: middle;\n",
              "    }\n",
              "\n",
              "    .dataframe tbody tr th {\n",
              "        vertical-align: top;\n",
              "    }\n",
              "\n",
              "    .dataframe thead th {\n",
              "        text-align: right;\n",
              "    }\n",
              "</style>\n",
              "<table border=\"1\" class=\"dataframe\">\n",
              "  <thead>\n",
              "    <tr style=\"text-align: right;\">\n",
              "      <th></th>\n",
              "      <th>Unnamed: 0</th>\n",
              "      <th>model_output_id</th>\n",
              "      <th>model_id</th>\n",
              "      <th>image_group_id</th>\n",
              "      <th>image_id_1</th>\n",
              "      <th>image_id_1_species_name</th>\n",
              "      <th>image_id_1_conf</th>\n",
              "      <th>image_id_1_count</th>\n",
              "      <th>image_id_1_blank</th>\n",
              "      <th>image_id_1_detectable</th>\n",
              "      <th>image_id_2</th>\n",
              "      <th>image_id_2_species_name</th>\n",
              "      <th>image_id_2_conf</th>\n",
              "      <th>image_id_2_count</th>\n",
              "      <th>image_id_2_blank</th>\n",
              "      <th>image_id_2_detectable</th>\n",
              "      <th>image_id_3</th>\n",
              "      <th>image_id_3_species_name</th>\n",
              "      <th>image_id_3_conf</th>\n",
              "      <th>image_id_3_count</th>\n",
              "      <th>image_id_3_blank</th>\n",
              "      <th>image_id_3_detectable</th>\n",
              "      <th>load_date</th>\n",
              "      <th>image_id_1_bbox_4</th>\n",
              "      <th>image_id_2_bbox_4</th>\n",
              "      <th>image_id_3_bbox_4</th>\n",
              "      <th>img1_species_conf_dict</th>\n",
              "      <th>img2_species_conf_dict</th>\n",
              "      <th>img3_species_conf_dict</th>\n",
              "      <th>consol_dict</th>\n",
              "      <th>topk_conf</th>\n",
              "      <th>final_pred</th>\n",
              "      <th>final_pred_conf</th>\n",
              "      <th>image_id_1_bbox_5</th>\n",
              "      <th>image_id_2_bbox_5</th>\n",
              "      <th>image_id_3_bbox_5</th>\n",
              "      <th>bbox_img</th>\n",
              "    </tr>\n",
              "  </thead>\n",
              "  <tbody>\n",
              "    <tr>\n",
              "      <th>0</th>\n",
              "      <td>1222</td>\n",
              "      <td>3766</td>\n",
              "      <td>4</td>\n",
              "      <td>SSWI000000013549996</td>\n",
              "      <td>A</td>\n",
              "      <td>wolf,coyote,deer,bear,turkey</td>\n",
              "      <td>0.9680646061897278,0.02201225608587265,0.00935...</td>\n",
              "      <td>0</td>\n",
              "      <td>False</td>\n",
              "      <td>False</td>\n",
              "      <td>B</td>\n",
              "      <td>wolf,coyote,turkey,deer,bear</td>\n",
              "      <td>0.9886847138404846,0.010487456806004047,0.0005...</td>\n",
              "      <td>0</td>\n",
              "      <td>False</td>\n",
              "      <td>False</td>\n",
              "      <td>C</td>\n",
              "      <td>wolf,coyote,deer,turkey,elk</td>\n",
              "      <td>0.9619928002357483,0.03667626157402992,0.00088...</td>\n",
              "      <td>0</td>\n",
              "      <td>False</td>\n",
              "      <td>False</td>\n",
              "      <td>2021-11-10</td>\n",
              "      <td>NaN</td>\n",
              "      <td>NaN</td>\n",
              "      <td>NaN</td>\n",
              "      <td>{'wolf': '0.9680646061897278', 'coyote': '0.02...</td>\n",
              "      <td>{'wolf': '0.9886847138404846', 'coyote': '0.01...</td>\n",
              "      <td>{'wolf': '0.9619928002357483', 'coyote': '0.03...</td>\n",
              "      <td>{'wolf': ['0.9680646061897278', '0.98868471384...</td>\n",
              "      <td>{'wolf': '0.9886847138404846', 'coyote': '0.03...</td>\n",
              "      <td>wolf</td>\n",
              "      <td>0.9886847138404846</td>\n",
              "      <td>0.8558,0.7205,0.2855,0.2616</td>\n",
              "      <td>0.4317,0.6485,0.205,0.1656</td>\n",
              "      <td>0.4223,0.6498,0.1556,0.1678</td>\n",
              "      <td>0.4317,0.6485,0.205,0.1656</td>\n",
              "    </tr>\n",
              "  </tbody>\n",
              "</table>\n",
              "</div>"
            ],
            "text/plain": [
              "   Unnamed: 0  ...                    bbox_img\n",
              "0        1222  ...  0.4317,0.6485,0.205,0.1656\n",
              "\n",
              "[1 rows x 37 columns]"
            ]
          },
          "metadata": {},
          "execution_count": 32
        }
      ]
    },
    {
      "cell_type": "code",
      "metadata": {
        "colab": {
          "base_uri": "https://localhost:8080/",
          "height": 153
        },
        "id": "59djR4g2NioQ",
        "outputId": "2435c7a1-c995-47db-dc86-31305c7cb8f9"
      },
      "source": [
        "\"\"\"\n",
        "merge model_id3 and model_id4 at the event level\n",
        "the final prediction dictionaries from both models can be on the same row\n",
        "\"\"\"\n",
        "df_merge = pd.merge(df_model_id3, df_model_id4, how='inner', on=\"image_group_id\", suffixes=('_3', '_4'))\n",
        "df_merge"
      ],
      "execution_count": null,
      "outputs": [
        {
          "output_type": "execute_result",
          "data": {
            "text/html": [
              "<div>\n",
              "<style scoped>\n",
              "    .dataframe tbody tr th:only-of-type {\n",
              "        vertical-align: middle;\n",
              "    }\n",
              "\n",
              "    .dataframe tbody tr th {\n",
              "        vertical-align: top;\n",
              "    }\n",
              "\n",
              "    .dataframe thead th {\n",
              "        text-align: right;\n",
              "    }\n",
              "</style>\n",
              "<table border=\"1\" class=\"dataframe\">\n",
              "  <thead>\n",
              "    <tr style=\"text-align: right;\">\n",
              "      <th></th>\n",
              "      <th>Unnamed: 0_3</th>\n",
              "      <th>model_output_id_3</th>\n",
              "      <th>model_id_3</th>\n",
              "      <th>image_group_id</th>\n",
              "      <th>image_id_1_3</th>\n",
              "      <th>image_id_1_species_name_3</th>\n",
              "      <th>image_id_1_conf_3</th>\n",
              "      <th>image_id_1_count_3</th>\n",
              "      <th>image_id_1_blank_3</th>\n",
              "      <th>image_id_1_detectable_3</th>\n",
              "      <th>image_id_2_3</th>\n",
              "      <th>image_id_2_species_name_3</th>\n",
              "      <th>image_id_2_conf_3</th>\n",
              "      <th>image_id_2_count_3</th>\n",
              "      <th>image_id_2_blank_3</th>\n",
              "      <th>image_id_2_detectable_3</th>\n",
              "      <th>image_id_3_3</th>\n",
              "      <th>image_id_3_species_name_3</th>\n",
              "      <th>image_id_3_conf_3</th>\n",
              "      <th>image_id_3_count_3</th>\n",
              "      <th>image_id_3_blank_3</th>\n",
              "      <th>image_id_3_detectable_3</th>\n",
              "      <th>load_date_3</th>\n",
              "      <th>image_id_1_bbox</th>\n",
              "      <th>image_id_2_bbox</th>\n",
              "      <th>image_id_3_bbox</th>\n",
              "      <th>img1_species_conf_dict_3</th>\n",
              "      <th>img2_species_conf_dict_3</th>\n",
              "      <th>img3_species_conf_dict_3</th>\n",
              "      <th>consol_dict_3</th>\n",
              "      <th>topk_conf_3</th>\n",
              "      <th>final_pred_3</th>\n",
              "      <th>final_pred_conf_3</th>\n",
              "      <th>bbox_img_3</th>\n",
              "      <th>Unnamed: 0_4</th>\n",
              "      <th>model_output_id_4</th>\n",
              "      <th>model_id_4</th>\n",
              "      <th>image_id_1_4</th>\n",
              "      <th>image_id_1_species_name_4</th>\n",
              "      <th>image_id_1_conf_4</th>\n",
              "      <th>image_id_1_count_4</th>\n",
              "      <th>image_id_1_blank_4</th>\n",
              "      <th>image_id_1_detectable_4</th>\n",
              "      <th>image_id_2_4</th>\n",
              "      <th>image_id_2_species_name_4</th>\n",
              "      <th>image_id_2_conf_4</th>\n",
              "      <th>image_id_2_count_4</th>\n",
              "      <th>image_id_2_blank_4</th>\n",
              "      <th>image_id_2_detectable_4</th>\n",
              "      <th>image_id_3_4</th>\n",
              "      <th>image_id_3_species_name_4</th>\n",
              "      <th>image_id_3_conf_4</th>\n",
              "      <th>image_id_3_count_4</th>\n",
              "      <th>image_id_3_blank_4</th>\n",
              "      <th>image_id_3_detectable_4</th>\n",
              "      <th>load_date_4</th>\n",
              "      <th>image_id_1_bbox_4</th>\n",
              "      <th>image_id_2_bbox_4</th>\n",
              "      <th>image_id_3_bbox_4</th>\n",
              "      <th>img1_species_conf_dict_4</th>\n",
              "      <th>img2_species_conf_dict_4</th>\n",
              "      <th>img3_species_conf_dict_4</th>\n",
              "      <th>consol_dict_4</th>\n",
              "      <th>topk_conf_4</th>\n",
              "      <th>final_pred_4</th>\n",
              "      <th>final_pred_conf_4</th>\n",
              "      <th>image_id_1_bbox_5</th>\n",
              "      <th>image_id_2_bbox_5</th>\n",
              "      <th>image_id_3_bbox_5</th>\n",
              "      <th>bbox_img_4</th>\n",
              "    </tr>\n",
              "  </thead>\n",
              "  <tbody>\n",
              "    <tr>\n",
              "      <th>0</th>\n",
              "      <td>1274</td>\n",
              "      <td>2516</td>\n",
              "      <td>3</td>\n",
              "      <td>SSWI000000013549996</td>\n",
              "      <td>A</td>\n",
              "      <td>deer</td>\n",
              "      <td>0.7408024072647095</td>\n",
              "      <td>1</td>\n",
              "      <td>False</td>\n",
              "      <td>False</td>\n",
              "      <td>B</td>\n",
              "      <td>coyote</td>\n",
              "      <td>0.8594738841056824</td>\n",
              "      <td>1</td>\n",
              "      <td>False</td>\n",
              "      <td>False</td>\n",
              "      <td>C</td>\n",
              "      <td>deer</td>\n",
              "      <td>0.8169369697570801</td>\n",
              "      <td>1</td>\n",
              "      <td>False</td>\n",
              "      <td>False</td>\n",
              "      <td>2021-11-10</td>\n",
              "      <td>0.8556231260299683,0.7097264528274536,0.288753...</td>\n",
              "      <td>0.4331307113170624,0.6443768739700317,0.209726...</td>\n",
              "      <td>0.424012154340744,0.6443768739700317,0.1671732...</td>\n",
              "      <td>{'deer': '0.7408024072647095'}</td>\n",
              "      <td>{'coyote': '0.8594738841056824'}</td>\n",
              "      <td>{'deer': '0.8169369697570801'}</td>\n",
              "      <td>{'deer': ['0.7408024072647095', '0.81693696975...</td>\n",
              "      <td>{'coyote': '0.8594738841056824', 'deer': '0.81...</td>\n",
              "      <td>coyote</td>\n",
              "      <td>0.8594738841056824</td>\n",
              "      <td>0.4331307113170624,0.6443768739700317,0.209726...</td>\n",
              "      <td>1222</td>\n",
              "      <td>3766</td>\n",
              "      <td>4</td>\n",
              "      <td>A</td>\n",
              "      <td>wolf,coyote,deer,bear,turkey</td>\n",
              "      <td>0.9680646061897278,0.02201225608587265,0.00935...</td>\n",
              "      <td>0</td>\n",
              "      <td>False</td>\n",
              "      <td>False</td>\n",
              "      <td>B</td>\n",
              "      <td>wolf,coyote,turkey,deer,bear</td>\n",
              "      <td>0.9886847138404846,0.010487456806004047,0.0005...</td>\n",
              "      <td>0</td>\n",
              "      <td>False</td>\n",
              "      <td>False</td>\n",
              "      <td>C</td>\n",
              "      <td>wolf,coyote,deer,turkey,elk</td>\n",
              "      <td>0.9619928002357483,0.03667626157402992,0.00088...</td>\n",
              "      <td>0</td>\n",
              "      <td>False</td>\n",
              "      <td>False</td>\n",
              "      <td>2021-11-10</td>\n",
              "      <td>NaN</td>\n",
              "      <td>NaN</td>\n",
              "      <td>NaN</td>\n",
              "      <td>{'wolf': '0.9680646061897278', 'coyote': '0.02...</td>\n",
              "      <td>{'wolf': '0.9886847138404846', 'coyote': '0.01...</td>\n",
              "      <td>{'wolf': '0.9619928002357483', 'coyote': '0.03...</td>\n",
              "      <td>{'wolf': ['0.9680646061897278', '0.98868471384...</td>\n",
              "      <td>{'wolf': '0.9886847138404846', 'coyote': '0.03...</td>\n",
              "      <td>wolf</td>\n",
              "      <td>0.9886847138404846</td>\n",
              "      <td>0.8558,0.7205,0.2855,0.2616</td>\n",
              "      <td>0.4317,0.6485,0.205,0.1656</td>\n",
              "      <td>0.4223,0.6498,0.1556,0.1678</td>\n",
              "      <td>0.4317,0.6485,0.205,0.1656</td>\n",
              "    </tr>\n",
              "  </tbody>\n",
              "</table>\n",
              "</div>"
            ],
            "text/plain": [
              "   Unnamed: 0_3  ...                  bbox_img_4\n",
              "0          1274  ...  0.4317,0.6485,0.205,0.1656\n",
              "\n",
              "[1 rows x 70 columns]"
            ]
          },
          "metadata": {},
          "execution_count": 33
        }
      ]
    },
    {
      "cell_type": "code",
      "metadata": {
        "colab": {
          "base_uri": "https://localhost:8080/",
          "height": 153
        },
        "id": "Nz1FEAW5if4l",
        "outputId": "cb586958-0c37-4194-cae2-ffc11fe7946f"
      },
      "source": [
        "df_merge"
      ],
      "execution_count": null,
      "outputs": [
        {
          "output_type": "execute_result",
          "data": {
            "text/html": [
              "<div>\n",
              "<style scoped>\n",
              "    .dataframe tbody tr th:only-of-type {\n",
              "        vertical-align: middle;\n",
              "    }\n",
              "\n",
              "    .dataframe tbody tr th {\n",
              "        vertical-align: top;\n",
              "    }\n",
              "\n",
              "    .dataframe thead th {\n",
              "        text-align: right;\n",
              "    }\n",
              "</style>\n",
              "<table border=\"1\" class=\"dataframe\">\n",
              "  <thead>\n",
              "    <tr style=\"text-align: right;\">\n",
              "      <th></th>\n",
              "      <th>Unnamed: 0_3</th>\n",
              "      <th>model_output_id_3</th>\n",
              "      <th>model_id_3</th>\n",
              "      <th>image_group_id</th>\n",
              "      <th>image_id_1_3</th>\n",
              "      <th>image_id_1_species_name_3</th>\n",
              "      <th>image_id_1_conf_3</th>\n",
              "      <th>image_id_1_count_3</th>\n",
              "      <th>image_id_1_blank_3</th>\n",
              "      <th>image_id_1_detectable_3</th>\n",
              "      <th>image_id_2_3</th>\n",
              "      <th>image_id_2_species_name_3</th>\n",
              "      <th>image_id_2_conf_3</th>\n",
              "      <th>image_id_2_count_3</th>\n",
              "      <th>image_id_2_blank_3</th>\n",
              "      <th>image_id_2_detectable_3</th>\n",
              "      <th>image_id_3_3</th>\n",
              "      <th>image_id_3_species_name_3</th>\n",
              "      <th>image_id_3_conf_3</th>\n",
              "      <th>image_id_3_count_3</th>\n",
              "      <th>image_id_3_blank_3</th>\n",
              "      <th>image_id_3_detectable_3</th>\n",
              "      <th>load_date_3</th>\n",
              "      <th>image_id_1_bbox</th>\n",
              "      <th>image_id_2_bbox</th>\n",
              "      <th>image_id_3_bbox</th>\n",
              "      <th>img1_species_conf_dict_3</th>\n",
              "      <th>img2_species_conf_dict_3</th>\n",
              "      <th>img3_species_conf_dict_3</th>\n",
              "      <th>consol_dict_3</th>\n",
              "      <th>topk_conf_3</th>\n",
              "      <th>final_pred_3</th>\n",
              "      <th>final_pred_conf_3</th>\n",
              "      <th>bbox_img_3</th>\n",
              "      <th>Unnamed: 0_4</th>\n",
              "      <th>model_output_id_4</th>\n",
              "      <th>model_id_4</th>\n",
              "      <th>image_id_1_4</th>\n",
              "      <th>image_id_1_species_name_4</th>\n",
              "      <th>image_id_1_conf_4</th>\n",
              "      <th>image_id_1_count_4</th>\n",
              "      <th>image_id_1_blank_4</th>\n",
              "      <th>image_id_1_detectable_4</th>\n",
              "      <th>image_id_2_4</th>\n",
              "      <th>image_id_2_species_name_4</th>\n",
              "      <th>image_id_2_conf_4</th>\n",
              "      <th>image_id_2_count_4</th>\n",
              "      <th>image_id_2_blank_4</th>\n",
              "      <th>image_id_2_detectable_4</th>\n",
              "      <th>image_id_3_4</th>\n",
              "      <th>image_id_3_species_name_4</th>\n",
              "      <th>image_id_3_conf_4</th>\n",
              "      <th>image_id_3_count_4</th>\n",
              "      <th>image_id_3_blank_4</th>\n",
              "      <th>image_id_3_detectable_4</th>\n",
              "      <th>load_date_4</th>\n",
              "      <th>image_id_1_bbox_4</th>\n",
              "      <th>image_id_2_bbox_4</th>\n",
              "      <th>image_id_3_bbox_4</th>\n",
              "      <th>img1_species_conf_dict_4</th>\n",
              "      <th>img2_species_conf_dict_4</th>\n",
              "      <th>img3_species_conf_dict_4</th>\n",
              "      <th>consol_dict_4</th>\n",
              "      <th>topk_conf_4</th>\n",
              "      <th>final_pred_4</th>\n",
              "      <th>final_pred_conf_4</th>\n",
              "      <th>image_id_1_bbox_5</th>\n",
              "      <th>image_id_2_bbox_5</th>\n",
              "      <th>image_id_3_bbox_5</th>\n",
              "      <th>bbox_img_4</th>\n",
              "    </tr>\n",
              "  </thead>\n",
              "  <tbody>\n",
              "    <tr>\n",
              "      <th>0</th>\n",
              "      <td>1274</td>\n",
              "      <td>2516</td>\n",
              "      <td>3</td>\n",
              "      <td>SSWI000000013549996</td>\n",
              "      <td>A</td>\n",
              "      <td>deer</td>\n",
              "      <td>0.7408024072647095</td>\n",
              "      <td>1</td>\n",
              "      <td>False</td>\n",
              "      <td>False</td>\n",
              "      <td>B</td>\n",
              "      <td>coyote</td>\n",
              "      <td>0.8594738841056824</td>\n",
              "      <td>1</td>\n",
              "      <td>False</td>\n",
              "      <td>False</td>\n",
              "      <td>C</td>\n",
              "      <td>deer</td>\n",
              "      <td>0.8169369697570801</td>\n",
              "      <td>1</td>\n",
              "      <td>False</td>\n",
              "      <td>False</td>\n",
              "      <td>2021-11-10</td>\n",
              "      <td>0.8556231260299683,0.7097264528274536,0.288753...</td>\n",
              "      <td>0.4331307113170624,0.6443768739700317,0.209726...</td>\n",
              "      <td>0.424012154340744,0.6443768739700317,0.1671732...</td>\n",
              "      <td>{'deer': '0.7408024072647095'}</td>\n",
              "      <td>{'coyote': '0.8594738841056824'}</td>\n",
              "      <td>{'deer': '0.8169369697570801'}</td>\n",
              "      <td>{'deer': ['0.7408024072647095', '0.81693696975...</td>\n",
              "      <td>{'coyote': '0.8594738841056824', 'deer': '0.81...</td>\n",
              "      <td>coyote</td>\n",
              "      <td>0.8594738841056824</td>\n",
              "      <td>0.4331307113170624,0.6443768739700317,0.209726...</td>\n",
              "      <td>1222</td>\n",
              "      <td>3766</td>\n",
              "      <td>4</td>\n",
              "      <td>A</td>\n",
              "      <td>wolf,coyote,deer,bear,turkey</td>\n",
              "      <td>0.9680646061897278,0.02201225608587265,0.00935...</td>\n",
              "      <td>0</td>\n",
              "      <td>False</td>\n",
              "      <td>False</td>\n",
              "      <td>B</td>\n",
              "      <td>wolf,coyote,turkey,deer,bear</td>\n",
              "      <td>0.9886847138404846,0.010487456806004047,0.0005...</td>\n",
              "      <td>0</td>\n",
              "      <td>False</td>\n",
              "      <td>False</td>\n",
              "      <td>C</td>\n",
              "      <td>wolf,coyote,deer,turkey,elk</td>\n",
              "      <td>0.9619928002357483,0.03667626157402992,0.00088...</td>\n",
              "      <td>0</td>\n",
              "      <td>False</td>\n",
              "      <td>False</td>\n",
              "      <td>2021-11-10</td>\n",
              "      <td>NaN</td>\n",
              "      <td>NaN</td>\n",
              "      <td>NaN</td>\n",
              "      <td>{'wolf': '0.9680646061897278', 'coyote': '0.02...</td>\n",
              "      <td>{'wolf': '0.9886847138404846', 'coyote': '0.01...</td>\n",
              "      <td>{'wolf': '0.9619928002357483', 'coyote': '0.03...</td>\n",
              "      <td>{'wolf': ['0.9680646061897278', '0.98868471384...</td>\n",
              "      <td>{'wolf': '0.9886847138404846', 'coyote': '0.03...</td>\n",
              "      <td>wolf</td>\n",
              "      <td>0.9886847138404846</td>\n",
              "      <td>0.8558,0.7205,0.2855,0.2616</td>\n",
              "      <td>0.4317,0.6485,0.205,0.1656</td>\n",
              "      <td>0.4223,0.6498,0.1556,0.1678</td>\n",
              "      <td>0.4317,0.6485,0.205,0.1656</td>\n",
              "    </tr>\n",
              "  </tbody>\n",
              "</table>\n",
              "</div>"
            ],
            "text/plain": [
              "   Unnamed: 0_3  ...                  bbox_img_4\n",
              "0          1274  ...  0.4317,0.6485,0.205,0.1656\n",
              "\n",
              "[1 rows x 70 columns]"
            ]
          },
          "metadata": {},
          "execution_count": 36
        }
      ]
    },
    {
      "cell_type": "code",
      "metadata": {
        "colab": {
          "base_uri": "https://localhost:8080/",
          "height": 135
        },
        "id": "Kkazum-njCEc",
        "outputId": "1c35c46e-1920-4977-b971-a58d5ec78581"
      },
      "source": [
        "\"\"\"\n",
        "clean-up columns\n",
        "\"\"\"\n",
        "df_merge = df_merge[['image_group_id', 'image_id_1_bbox', 'image_id_2_bbox', 'image_id_3_bbox', 'topk_conf_3', 'final_pred_3', 'final_pred_conf_3', \n",
        "                     'img1_species_conf_dict_3', 'img2_species_conf_dict_3', 'img3_species_conf_dict_3', \n",
        "                     'image_id_1_bbox_4', 'image_id_2_bbox_4', 'image_id_3_bbox_4', 'topk_conf_4', 'final_pred_4', 'final_pred_conf_4',\n",
        "                     'img1_species_conf_dict_4', 'img2_species_conf_dict_4', 'img3_species_conf_dict_4',\n",
        "                     'image_id_1_bbox_5', 'image_id_2_bbox_5', 'image_id_3_bbox_5', 'bbox_img_4']]\n",
        "df_merge = df_merge.rename(columns={'image_id_1_bbox':'image_id_1_bbox_3', 'image_id_2_bbox':'image_id_2_bbox_3', 'image_id_3_bbox':'image_id_3_bbox_3'})    \n",
        "df_merge"
      ],
      "execution_count": null,
      "outputs": [
        {
          "output_type": "execute_result",
          "data": {
            "text/html": [
              "<div>\n",
              "<style scoped>\n",
              "    .dataframe tbody tr th:only-of-type {\n",
              "        vertical-align: middle;\n",
              "    }\n",
              "\n",
              "    .dataframe tbody tr th {\n",
              "        vertical-align: top;\n",
              "    }\n",
              "\n",
              "    .dataframe thead th {\n",
              "        text-align: right;\n",
              "    }\n",
              "</style>\n",
              "<table border=\"1\" class=\"dataframe\">\n",
              "  <thead>\n",
              "    <tr style=\"text-align: right;\">\n",
              "      <th></th>\n",
              "      <th>image_group_id</th>\n",
              "      <th>image_id_1_bbox_3</th>\n",
              "      <th>image_id_2_bbox_3</th>\n",
              "      <th>image_id_3_bbox_3</th>\n",
              "      <th>topk_conf_3</th>\n",
              "      <th>final_pred_3</th>\n",
              "      <th>final_pred_conf_3</th>\n",
              "      <th>img1_species_conf_dict_3</th>\n",
              "      <th>img2_species_conf_dict_3</th>\n",
              "      <th>img3_species_conf_dict_3</th>\n",
              "      <th>image_id_1_bbox_4</th>\n",
              "      <th>image_id_2_bbox_4</th>\n",
              "      <th>image_id_3_bbox_4</th>\n",
              "      <th>topk_conf_4</th>\n",
              "      <th>final_pred_4</th>\n",
              "      <th>final_pred_conf_4</th>\n",
              "      <th>img1_species_conf_dict_4</th>\n",
              "      <th>img2_species_conf_dict_4</th>\n",
              "      <th>img3_species_conf_dict_4</th>\n",
              "      <th>image_id_1_bbox_5</th>\n",
              "      <th>image_id_2_bbox_5</th>\n",
              "      <th>image_id_3_bbox_5</th>\n",
              "      <th>bbox_img_4</th>\n",
              "    </tr>\n",
              "  </thead>\n",
              "  <tbody>\n",
              "    <tr>\n",
              "      <th>0</th>\n",
              "      <td>SSWI000000013549996</td>\n",
              "      <td>0.8556231260299683,0.7097264528274536,0.288753...</td>\n",
              "      <td>0.4331307113170624,0.6443768739700317,0.209726...</td>\n",
              "      <td>0.424012154340744,0.6443768739700317,0.1671732...</td>\n",
              "      <td>{'coyote': '0.8594738841056824', 'deer': '0.81...</td>\n",
              "      <td>coyote</td>\n",
              "      <td>0.8594738841056824</td>\n",
              "      <td>{'deer': '0.7408024072647095'}</td>\n",
              "      <td>{'coyote': '0.8594738841056824'}</td>\n",
              "      <td>{'deer': '0.8169369697570801'}</td>\n",
              "      <td>NaN</td>\n",
              "      <td>NaN</td>\n",
              "      <td>NaN</td>\n",
              "      <td>{'wolf': '0.9886847138404846', 'coyote': '0.03...</td>\n",
              "      <td>wolf</td>\n",
              "      <td>0.9886847138404846</td>\n",
              "      <td>{'wolf': '0.9680646061897278', 'coyote': '0.02...</td>\n",
              "      <td>{'wolf': '0.9886847138404846', 'coyote': '0.01...</td>\n",
              "      <td>{'wolf': '0.9619928002357483', 'coyote': '0.03...</td>\n",
              "      <td>0.8558,0.7205,0.2855,0.2616</td>\n",
              "      <td>0.4317,0.6485,0.205,0.1656</td>\n",
              "      <td>0.4223,0.6498,0.1556,0.1678</td>\n",
              "      <td>0.4317,0.6485,0.205,0.1656</td>\n",
              "    </tr>\n",
              "  </tbody>\n",
              "</table>\n",
              "</div>"
            ],
            "text/plain": [
              "        image_group_id  ...                  bbox_img_4\n",
              "0  SSWI000000013549996  ...  0.4317,0.6485,0.205,0.1656\n",
              "\n",
              "[1 rows x 23 columns]"
            ]
          },
          "metadata": {},
          "execution_count": 40
        }
      ]
    },
    {
      "cell_type": "code",
      "metadata": {
        "id": "qliS9i2yNiyC"
      },
      "source": [
        "# \"\"\"\n",
        "# cleanup columns\n",
        "# \"\"\"\n",
        "# df_merge = df_merge.drop(columns=['Unnamed: 0_3','model_output_id_3', 'image_id_1_3', 'image_id_1_species_name_3', 'image_id_1_conf_3', 'image_id_1_count_3',\n",
        "#                        'image_id_1_blank_3', 'image_id_1_detectable_3', 'image_id_2_3', 'image_id_2_species_name_3', 'image_id_2_conf_3',\n",
        "#                        'image_id_2_count_3', 'image_id_2_blank_3', 'image_id_2_detectable_3', 'image_id_3_3', 'image_id_3_species_name_3',\n",
        "#                        'image_id_3_conf_3', 'image_id_3_count_3', 'image_id_3_blank_3', 'image_id_3_detectable_3', 'load_date_3', 'img1_species_conf_dict_3',\n",
        "#                        'img2_species_conf_dict_3', 'img3_species_conf_dict_3', 'consol_dict_3',\n",
        "#                        'Unnamed: 0_4', 'model_output_id_4', 'image_id_1_4', 'image_id_1_species_name_4', 'image_id_1_conf_4', 'image_id_1_count_4',\n",
        "#                        'image_id_1_blank_4', 'image_id_1_detectable_4', 'image_id_2_4', 'image_id_2_species_name_4', 'image_id_2_conf_4',\n",
        "#                        'image_id_2_count_4', 'image_id_2_blank_4', 'image_id_2_detectable_4', 'image_id_3_4', 'image_id_3_species_name_4',\n",
        "#                        'image_id_3_conf_4', 'image_id_3_count_4', 'image_id_3_blank_4', 'image_id_3_detectable_4', 'load_date_4', 'img1_species_conf_dict_4',\n",
        "#                        'img2_species_conf_dict_4', 'img3_species_conf_dict_4', 'consol_dict_4'])\n",
        "# df_merge"
      ],
      "execution_count": null,
      "outputs": []
    },
    {
      "cell_type": "code",
      "metadata": {
        "id": "ftBVHF4yEo8w"
      },
      "source": [
        "\"\"\"\n",
        "before we combine scores, we should weight the predictions between model_id3 and model_id4\n",
        "to slightly bias the scores towards model_id3\n",
        "\n",
        "80/67 = 1.2\n",
        "\n",
        "multiply topk_conf_3 by 1.2\n",
        "divide topk_conf_4 by 1.2\n",
        "\"\"\"\n",
        "\n",
        "def scale_model_id3(x):\n",
        "  ## x is a dictionary\n",
        "  intermed_dict = {key: float(value) * 1.2 for key, value in x.items()}\n",
        "  ## cap maximum possible score at 0.99\n",
        "  output_dict = {key: (0.99 if float(value) > 1 else float(value)) for key, value in intermed_dict.items()}\n",
        "  return output_dict\n",
        "\n",
        "def scale_model_id4(x):\n",
        "  ## x is a dictionary\n",
        "  return {key: float(value) / 1.2 for key, value in x.items()}\n",
        "\n",
        "df_merge['topk_conf_3_scaled'] = df_merge.apply(lambda x: scale_model_id3(x.topk_conf_3), axis=1)\n",
        "df_merge['topk_conf_4_scaled'] = df_merge.apply(lambda x: scale_model_id4(x.topk_conf_4), axis=1)"
      ],
      "execution_count": null,
      "outputs": []
    },
    {
      "cell_type": "code",
      "metadata": {
        "colab": {
          "base_uri": "https://localhost:8080/"
        },
        "id": "tOjEUE1bTCGR",
        "outputId": "ae8d664c-58fe-430e-9e60-c7efc12668f3"
      },
      "source": [
        "\"\"\"\n",
        "output final topk dictionary of species predictions and their confidence scores\n",
        "\"\"\"\n",
        "\n",
        "def combine_topk_conf(x, y):\n",
        "  dict_list = [x,y]\n",
        "  #print(dict_list)\n",
        "  preds_dict = {}\n",
        "\n",
        "  for item in dict_list:\n",
        "    if item is None:\n",
        "      pass\n",
        "    else:\n",
        "      for key, value in item.items():\n",
        "        if key in preds_dict:\n",
        "          preds_dict[key].append(value)\n",
        "        else:\n",
        "          preds_dict[key] = [value]\n",
        "      \n",
        "  return preds_dict\n",
        "\n",
        "def get_final_topk(x, k):\n",
        "  topk_event_dict = {}\n",
        "  top_ind = sorted(x, key=x.get, reverse=True)[:k]\n",
        "  conf_scores = {}\n",
        "  for i in top_ind:\n",
        "    conf_scores[i] = max(x[i])\n",
        "  \n",
        "  return conf_scores\n",
        "\n",
        "df_merge['event_final_topk_conf'] = df_merge.apply(lambda x: get_final_topk(combine_topk_conf(x.topk_conf_3_scaled, x.topk_conf_4_scaled),3), axis=1)\n",
        "df_merge['event_final_topk_conf'][0]"
      ],
      "execution_count": null,
      "outputs": [
        {
          "output_type": "execute_result",
          "data": {
            "text/plain": [
              "{'coyote': 0.99, 'deer': 0.9803243637084961, 'wolf': 0.8239039282004039}"
            ]
          },
          "metadata": {},
          "execution_count": 42
        }
      ]
    },
    {
      "cell_type": "code",
      "metadata": {
        "colab": {
          "base_uri": "https://localhost:8080/"
        },
        "id": "um_6hT0nT7Pi",
        "outputId": "f4d77129-f79d-4fce-8cb3-e01958242284"
      },
      "source": [
        "## confirm top3\n",
        "print(\"{}\\n{}\".format(df_merge['topk_conf_4_scaled'][0], df_merge['topk_conf_3_scaled'][0]))"
      ],
      "execution_count": null,
      "outputs": [
        {
          "output_type": "stream",
          "name": "stdout",
          "text": [
            "{'wolf': 0.8239039282004039, 'coyote': 0.030563551311691604, 'deer': 0.007793215724329154, 'bear': 5.380287499671492e-05, 'turkey': 0.0004347562207840383}\n",
            "{'coyote': 0.99, 'deer': 0.9803243637084961}\n"
          ]
        }
      ]
    },
    {
      "cell_type": "code",
      "metadata": {
        "colab": {
          "base_uri": "https://localhost:8080/",
          "height": 135
        },
        "id": "ZJw0RGKljYMM",
        "outputId": "451e9d95-8c4e-4191-cb0e-7cf4563aa2c2"
      },
      "source": [
        "df_merge"
      ],
      "execution_count": null,
      "outputs": [
        {
          "output_type": "execute_result",
          "data": {
            "text/html": [
              "<div>\n",
              "<style scoped>\n",
              "    .dataframe tbody tr th:only-of-type {\n",
              "        vertical-align: middle;\n",
              "    }\n",
              "\n",
              "    .dataframe tbody tr th {\n",
              "        vertical-align: top;\n",
              "    }\n",
              "\n",
              "    .dataframe thead th {\n",
              "        text-align: right;\n",
              "    }\n",
              "</style>\n",
              "<table border=\"1\" class=\"dataframe\">\n",
              "  <thead>\n",
              "    <tr style=\"text-align: right;\">\n",
              "      <th></th>\n",
              "      <th>image_group_id</th>\n",
              "      <th>image_id_1_bbox_3</th>\n",
              "      <th>image_id_2_bbox_3</th>\n",
              "      <th>image_id_3_bbox_3</th>\n",
              "      <th>topk_conf_3</th>\n",
              "      <th>final_pred_3</th>\n",
              "      <th>final_pred_conf_3</th>\n",
              "      <th>img1_species_conf_dict_3</th>\n",
              "      <th>img2_species_conf_dict_3</th>\n",
              "      <th>img3_species_conf_dict_3</th>\n",
              "      <th>image_id_1_bbox_4</th>\n",
              "      <th>image_id_2_bbox_4</th>\n",
              "      <th>image_id_3_bbox_4</th>\n",
              "      <th>topk_conf_4</th>\n",
              "      <th>final_pred_4</th>\n",
              "      <th>final_pred_conf_4</th>\n",
              "      <th>img1_species_conf_dict_4</th>\n",
              "      <th>img2_species_conf_dict_4</th>\n",
              "      <th>img3_species_conf_dict_4</th>\n",
              "      <th>image_id_1_bbox_5</th>\n",
              "      <th>image_id_2_bbox_5</th>\n",
              "      <th>image_id_3_bbox_5</th>\n",
              "      <th>bbox_img_4</th>\n",
              "      <th>topk_conf_3_scaled</th>\n",
              "      <th>topk_conf_4_scaled</th>\n",
              "      <th>event_final_topk_conf</th>\n",
              "    </tr>\n",
              "  </thead>\n",
              "  <tbody>\n",
              "    <tr>\n",
              "      <th>0</th>\n",
              "      <td>SSWI000000013549996</td>\n",
              "      <td>0.8556231260299683,0.7097264528274536,0.288753...</td>\n",
              "      <td>0.4331307113170624,0.6443768739700317,0.209726...</td>\n",
              "      <td>0.424012154340744,0.6443768739700317,0.1671732...</td>\n",
              "      <td>{'coyote': '0.8594738841056824', 'deer': '0.81...</td>\n",
              "      <td>coyote</td>\n",
              "      <td>0.8594738841056824</td>\n",
              "      <td>{'deer': '0.7408024072647095'}</td>\n",
              "      <td>{'coyote': '0.8594738841056824'}</td>\n",
              "      <td>{'deer': '0.8169369697570801'}</td>\n",
              "      <td>NaN</td>\n",
              "      <td>NaN</td>\n",
              "      <td>NaN</td>\n",
              "      <td>{'wolf': '0.9886847138404846', 'coyote': '0.03...</td>\n",
              "      <td>wolf</td>\n",
              "      <td>0.9886847138404846</td>\n",
              "      <td>{'wolf': '0.9680646061897278', 'coyote': '0.02...</td>\n",
              "      <td>{'wolf': '0.9886847138404846', 'coyote': '0.01...</td>\n",
              "      <td>{'wolf': '0.9619928002357483', 'coyote': '0.03...</td>\n",
              "      <td>0.8558,0.7205,0.2855,0.2616</td>\n",
              "      <td>0.4317,0.6485,0.205,0.1656</td>\n",
              "      <td>0.4223,0.6498,0.1556,0.1678</td>\n",
              "      <td>0.4317,0.6485,0.205,0.1656</td>\n",
              "      <td>{'coyote': 0.99, 'deer': 0.9803243637084961}</td>\n",
              "      <td>{'wolf': 0.8239039282004039, 'coyote': 0.03056...</td>\n",
              "      <td>{'coyote': 0.99, 'deer': 0.9803243637084961, '...</td>\n",
              "    </tr>\n",
              "  </tbody>\n",
              "</table>\n",
              "</div>"
            ],
            "text/plain": [
              "        image_group_id  ...                              event_final_topk_conf\n",
              "0  SSWI000000013549996  ...  {'coyote': 0.99, 'deer': 0.9803243637084961, '...\n",
              "\n",
              "[1 rows x 26 columns]"
            ]
          },
          "metadata": {},
          "execution_count": 44
        }
      ]
    },
    {
      "cell_type": "code",
      "metadata": {
        "colab": {
          "base_uri": "https://localhost:8080/",
          "height": 135
        },
        "id": "OjqBtAM3Jhcj",
        "outputId": "a7fc1f99-c6f2-48fc-89e6-49ac8e66718f"
      },
      "source": [
        "\"\"\"\n",
        "output final event prediction, conf score, and bbox\n",
        "\"\"\"\n",
        "def output_final_pred_species(x):\n",
        "  intermed_dict = {key: float(value) for key, value in x.items()}\n",
        "  top_ind = sorted(intermed_dict, key=intermed_dict.get, reverse=True)[:1]\n",
        "  #print(top_ind)\n",
        "  return top_ind[0]\n",
        "\n",
        "def get_bbox_imgNo(pred_class, pred_conf, img1_conf_dict, img2_conf_dict, img3_conf_dict):\n",
        "\n",
        "  key, value = pred_class, pred_conf\n",
        "  if key in img1_conf_dict and value == img1_conf_dict[key]:\n",
        "    return \"img1\"\n",
        "  elif key in img2_conf_dict and value == img2_conf_dict[key]:\n",
        "    return \"img2\"\n",
        "  else:\n",
        "    return \"img3\"\n",
        "\n",
        "def get_bbox(x, img1_bbox, img2_bbox, img3_bbox):\n",
        "  if x == \"img1\":\n",
        "    return img1_bbox\n",
        "  elif x == \"img2\":\n",
        "    return img2_bbox\n",
        "  else:\n",
        "    return img3_bbox\n",
        "\n",
        "df_merge['event_final_pred'] = df_merge.apply(lambda x: output_final_pred_species(x.event_final_topk_conf), axis=1)\n",
        "df_merge['event_final_pred_conf'] = df_merge.apply(lambda x: output_final_pred_conf(x.event_final_topk_conf), axis=1)\n",
        "df_merge"
      ],
      "execution_count": null,
      "outputs": [
        {
          "output_type": "execute_result",
          "data": {
            "text/html": [
              "<div>\n",
              "<style scoped>\n",
              "    .dataframe tbody tr th:only-of-type {\n",
              "        vertical-align: middle;\n",
              "    }\n",
              "\n",
              "    .dataframe tbody tr th {\n",
              "        vertical-align: top;\n",
              "    }\n",
              "\n",
              "    .dataframe thead th {\n",
              "        text-align: right;\n",
              "    }\n",
              "</style>\n",
              "<table border=\"1\" class=\"dataframe\">\n",
              "  <thead>\n",
              "    <tr style=\"text-align: right;\">\n",
              "      <th></th>\n",
              "      <th>image_group_id</th>\n",
              "      <th>image_id_1_bbox_3</th>\n",
              "      <th>image_id_2_bbox_3</th>\n",
              "      <th>image_id_3_bbox_3</th>\n",
              "      <th>topk_conf_3</th>\n",
              "      <th>final_pred_3</th>\n",
              "      <th>final_pred_conf_3</th>\n",
              "      <th>img1_species_conf_dict_3</th>\n",
              "      <th>img2_species_conf_dict_3</th>\n",
              "      <th>img3_species_conf_dict_3</th>\n",
              "      <th>image_id_1_bbox_4</th>\n",
              "      <th>image_id_2_bbox_4</th>\n",
              "      <th>image_id_3_bbox_4</th>\n",
              "      <th>topk_conf_4</th>\n",
              "      <th>final_pred_4</th>\n",
              "      <th>final_pred_conf_4</th>\n",
              "      <th>img1_species_conf_dict_4</th>\n",
              "      <th>img2_species_conf_dict_4</th>\n",
              "      <th>img3_species_conf_dict_4</th>\n",
              "      <th>image_id_1_bbox_5</th>\n",
              "      <th>image_id_2_bbox_5</th>\n",
              "      <th>image_id_3_bbox_5</th>\n",
              "      <th>bbox_img_4</th>\n",
              "      <th>topk_conf_3_scaled</th>\n",
              "      <th>topk_conf_4_scaled</th>\n",
              "      <th>event_final_topk_conf</th>\n",
              "      <th>event_final_pred</th>\n",
              "      <th>event_final_pred_conf</th>\n",
              "    </tr>\n",
              "  </thead>\n",
              "  <tbody>\n",
              "    <tr>\n",
              "      <th>0</th>\n",
              "      <td>SSWI000000013549996</td>\n",
              "      <td>0.8556231260299683,0.7097264528274536,0.288753...</td>\n",
              "      <td>0.4331307113170624,0.6443768739700317,0.209726...</td>\n",
              "      <td>0.424012154340744,0.6443768739700317,0.1671732...</td>\n",
              "      <td>{'coyote': '0.8594738841056824', 'deer': '0.81...</td>\n",
              "      <td>coyote</td>\n",
              "      <td>0.8594738841056824</td>\n",
              "      <td>{'deer': '0.7408024072647095'}</td>\n",
              "      <td>{'coyote': '0.8594738841056824'}</td>\n",
              "      <td>{'deer': '0.8169369697570801'}</td>\n",
              "      <td>NaN</td>\n",
              "      <td>NaN</td>\n",
              "      <td>NaN</td>\n",
              "      <td>{'wolf': '0.9886847138404846', 'coyote': '0.03...</td>\n",
              "      <td>wolf</td>\n",
              "      <td>0.9886847138404846</td>\n",
              "      <td>{'wolf': '0.9680646061897278', 'coyote': '0.02...</td>\n",
              "      <td>{'wolf': '0.9886847138404846', 'coyote': '0.01...</td>\n",
              "      <td>{'wolf': '0.9619928002357483', 'coyote': '0.03...</td>\n",
              "      <td>0.8558,0.7205,0.2855,0.2616</td>\n",
              "      <td>0.4317,0.6485,0.205,0.1656</td>\n",
              "      <td>0.4223,0.6498,0.1556,0.1678</td>\n",
              "      <td>0.4317,0.6485,0.205,0.1656</td>\n",
              "      <td>{'coyote': 0.99, 'deer': 0.9803243637084961}</td>\n",
              "      <td>{'wolf': 0.8239039282004039, 'coyote': 0.03056...</td>\n",
              "      <td>{'coyote': 0.99, 'deer': 0.9803243637084961, '...</td>\n",
              "      <td>coyote</td>\n",
              "      <td>0.99</td>\n",
              "    </tr>\n",
              "  </tbody>\n",
              "</table>\n",
              "</div>"
            ],
            "text/plain": [
              "        image_group_id  ... event_final_pred_conf\n",
              "0  SSWI000000013549996  ...                  0.99\n",
              "\n",
              "[1 rows x 28 columns]"
            ]
          },
          "metadata": {},
          "execution_count": 45
        }
      ]
    },
    {
      "cell_type": "code",
      "metadata": {
        "colab": {
          "base_uri": "https://localhost:8080/"
        },
        "id": "TdYlLSVDsPzv",
        "outputId": "3796b549-57e7-4b5f-abd5-70340e7bafc6"
      },
      "source": [
        "dummy_dict = {\"model3\": \"coyote\"}\n",
        "for k,v in dummy_dict.items():\n",
        "  print(k)\n",
        "\n",
        "\n",
        "\n",
        "from math import isclose\n",
        "a = 1.0\n",
        "b = 1.00000001\n",
        "print(isclose(a, b, abs_tol=1e-8))"
      ],
      "execution_count": null,
      "outputs": [
        {
          "output_type": "stream",
          "name": "stdout",
          "text": [
            "model3\n"
          ]
        }
      ]
    },
    {
      "cell_type": "code",
      "metadata": {
        "colab": {
          "base_uri": "https://localhost:8080/",
          "height": 135
        },
        "id": "wWO24XEkohck",
        "outputId": "c474538c-1644-4211-e288-ebba11ec94cf"
      },
      "source": [
        "def output_final_bbox_model(pred_class, pred_conf, topk_3_scaled, topk_4_scaled):\n",
        "  key, value = pred_class, pred_conf\n",
        "  if key in topk_3_scaled and value == topk_3_scaled[key]:\n",
        "    return {\"model3\": [pred_class, pred_conf]}\n",
        "  elif key in topk_4_scaled and value == topk_4_scaled[key]:\n",
        "    return {\"model4\": [pred_class, pred_conf]}\n",
        "  else:\n",
        "    pass\n",
        "\n",
        "def output_final_bbox_imgNo(name_dict, img1_model3_dict, img2_model3_dict, img3_model3_dict):\n",
        "  key = None\n",
        "  value = None\n",
        "  for k,v in name_dict.items():\n",
        "    key = k\n",
        "    value = v\n",
        "\n",
        "  if (value[0] in img1_model3_dict and float(value[1])/1.2 <= img1_model3_dict[value[0]]):\n",
        "    return \"img1\"\n",
        "  elif (value[0] in img2_model3_dict and float(value[1])/1.2 <= img2_model3_dict[value[0]]):\n",
        "    return \"img2\"\n",
        "  elif (value[0] in img3_model3_dict and float(value[1])/1.2 <= img3_model3_dict[value[0]]):\n",
        "    return \"img3\"\n",
        "  else:\n",
        "    return \"model4\"\n",
        "\n",
        "def output_final_bbox(name, img1_model3_bbox, img2_model3_bbox, img3_model3_bbox, model4_bbox):\n",
        "  if name == \"img1\":\n",
        "    return img1_model3_bbox\n",
        "  elif name == \"img2\":\n",
        "    return img2_model3_bbox\n",
        "  elif name == \"img3\":\n",
        "    return img3_model3_bbox\n",
        "  else:\n",
        "    return model4_bbox\n",
        "\n",
        "df_merge['event_final_bbox'] = df_merge.apply(lambda x: output_final_bbox_imgNo(output_final_bbox_model(x.event_final_pred, x.event_final_pred_conf,\n",
        "                                                                                                        x.topk_conf_3_scaled, x.topk_conf_4_scaled),\n",
        "                                                                                x.img1_species_conf_dict_3, x.img2_species_conf_dict_3, x.img3_species_conf_dict_3), axis=1)\n",
        "df_merge"
      ],
      "execution_count": null,
      "outputs": [
        {
          "output_type": "execute_result",
          "data": {
            "text/html": [
              "<div>\n",
              "<style scoped>\n",
              "    .dataframe tbody tr th:only-of-type {\n",
              "        vertical-align: middle;\n",
              "    }\n",
              "\n",
              "    .dataframe tbody tr th {\n",
              "        vertical-align: top;\n",
              "    }\n",
              "\n",
              "    .dataframe thead th {\n",
              "        text-align: right;\n",
              "    }\n",
              "</style>\n",
              "<table border=\"1\" class=\"dataframe\">\n",
              "  <thead>\n",
              "    <tr style=\"text-align: right;\">\n",
              "      <th></th>\n",
              "      <th>image_group_id</th>\n",
              "      <th>image_id_1_bbox_3</th>\n",
              "      <th>image_id_2_bbox_3</th>\n",
              "      <th>image_id_3_bbox_3</th>\n",
              "      <th>topk_conf_3</th>\n",
              "      <th>final_pred_3</th>\n",
              "      <th>final_pred_conf_3</th>\n",
              "      <th>img1_species_conf_dict_3</th>\n",
              "      <th>img2_species_conf_dict_3</th>\n",
              "      <th>img3_species_conf_dict_3</th>\n",
              "      <th>image_id_1_bbox_4</th>\n",
              "      <th>image_id_2_bbox_4</th>\n",
              "      <th>image_id_3_bbox_4</th>\n",
              "      <th>topk_conf_4</th>\n",
              "      <th>final_pred_4</th>\n",
              "      <th>final_pred_conf_4</th>\n",
              "      <th>img1_species_conf_dict_4</th>\n",
              "      <th>img2_species_conf_dict_4</th>\n",
              "      <th>img3_species_conf_dict_4</th>\n",
              "      <th>image_id_1_bbox_5</th>\n",
              "      <th>image_id_2_bbox_5</th>\n",
              "      <th>image_id_3_bbox_5</th>\n",
              "      <th>bbox_img_4</th>\n",
              "      <th>topk_conf_3_scaled</th>\n",
              "      <th>topk_conf_4_scaled</th>\n",
              "      <th>event_final_topk_conf</th>\n",
              "      <th>event_final_pred</th>\n",
              "      <th>event_final_pred_conf</th>\n",
              "      <th>event_final_bbox</th>\n",
              "    </tr>\n",
              "  </thead>\n",
              "  <tbody>\n",
              "    <tr>\n",
              "      <th>0</th>\n",
              "      <td>SSWI000000013549996</td>\n",
              "      <td>0.8556231260299683,0.7097264528274536,0.288753...</td>\n",
              "      <td>0.4331307113170624,0.6443768739700317,0.209726...</td>\n",
              "      <td>0.424012154340744,0.6443768739700317,0.1671732...</td>\n",
              "      <td>{'coyote': '0.8594738841056824', 'deer': '0.81...</td>\n",
              "      <td>coyote</td>\n",
              "      <td>0.8594738841056824</td>\n",
              "      <td>{'deer': '0.7408024072647095'}</td>\n",
              "      <td>{'coyote': '0.8594738841056824'}</td>\n",
              "      <td>{'deer': '0.8169369697570801'}</td>\n",
              "      <td>NaN</td>\n",
              "      <td>NaN</td>\n",
              "      <td>NaN</td>\n",
              "      <td>{'wolf': '0.9886847138404846', 'coyote': '0.03...</td>\n",
              "      <td>wolf</td>\n",
              "      <td>0.9886847138404846</td>\n",
              "      <td>{'wolf': '0.9680646061897278', 'coyote': '0.02...</td>\n",
              "      <td>{'wolf': '0.9886847138404846', 'coyote': '0.01...</td>\n",
              "      <td>{'wolf': '0.9619928002357483', 'coyote': '0.03...</td>\n",
              "      <td>0.8558,0.7205,0.2855,0.2616</td>\n",
              "      <td>0.4317,0.6485,0.205,0.1656</td>\n",
              "      <td>0.4223,0.6498,0.1556,0.1678</td>\n",
              "      <td>0.4317,0.6485,0.205,0.1656</td>\n",
              "      <td>{'coyote': 0.99, 'deer': 0.9803243637084961}</td>\n",
              "      <td>{'wolf': 0.8239039282004039, 'coyote': 0.03056...</td>\n",
              "      <td>{'coyote': 0.99, 'deer': 0.9803243637084961, '...</td>\n",
              "      <td>coyote</td>\n",
              "      <td>0.99</td>\n",
              "      <td>{'model3': ['coyote', 0.99]}</td>\n",
              "    </tr>\n",
              "  </tbody>\n",
              "</table>\n",
              "</div>"
            ],
            "text/plain": [
              "        image_group_id  ...              event_final_bbox\n",
              "0  SSWI000000013549996  ...  {'model3': ['coyote', 0.99]}\n",
              "\n",
              "[1 rows x 29 columns]"
            ]
          },
          "metadata": {},
          "execution_count": 52
        }
      ]
    },
    {
      "cell_type": "code",
      "metadata": {
        "id": "4Kd96MhjyNGz"
      },
      "source": [
        "df_merge['event_final_bbox'] = df_merge.apply(lambda x: output_final_bbox_model(x.event_final_pred, x.event_final_pred_conf, x.topk_conf_3_scaled, x.topk_conf_4_scaled), axis=1)\n",
        "df_merge"
      ],
      "execution_count": null,
      "outputs": []
    },
    {
      "cell_type": "markdown",
      "metadata": {
        "id": "mtYxGlWZaogg"
      },
      "source": [
        "to-do: scale model_id3 conf by 1.5 <br>\n",
        "determine best bounding box\n",
        "\n",
        "if model3, go with model3 bbox <br>\n",
        "if model4, go with model5 (MD) bbox\n",
        "\n",
        "event level: event_id, species class name, count, bounding boxes, top3 dict (species name: confidence)"
      ]
    },
    {
      "cell_type": "code",
      "metadata": {
        "id": "cf_5XY5lapYn"
      },
      "source": [
        ""
      ],
      "execution_count": null,
      "outputs": []
    },
    {
      "cell_type": "markdown",
      "metadata": {
        "id": "ZKpuiZMg61NT"
      },
      "source": [
        "## dictionary method [ignore]"
      ]
    },
    {
      "cell_type": "code",
      "metadata": {
        "id": "JoVZ-nNNBEHU",
        "colab": {
          "base_uri": "https://localhost:8080/"
        },
        "outputId": "6d19834f-bc53-439f-df4d-6dc5e78d0c5a"
      },
      "source": [
        "event_dict = {}\n",
        "\n",
        "for index, row in test_df.iterrows():\n",
        "\n",
        "  event_id = row['image_group_id']\n",
        "\n",
        "  model_id = row['model_id']\n",
        "  img1_result_class = row['image_id_1_species_name']\n",
        "  img1_result_conf = row['image_id_1_conf']\n",
        "  img1_result_count = row['image_id_1_count']\n",
        "  img1_bbox = row['image_id_1_bbox']\n",
        "\n",
        "  img2_result_class = row['image_id_2_species_name']\n",
        "  img2_result_conf = row['image_id_2_conf']\n",
        "  img2_result_count = row['image_id_2_count']\n",
        "  img2_bbox = row['image_id_2_bbox']\n",
        "\n",
        "  img3_result_class = row['image_id_3_species_name']\n",
        "  img3_result_conf = row['image_id_3_conf']\n",
        "  img3_result_count = row['image_id_3_count'] \n",
        "  img3_bbox = row['image_id_3_bbox']\n",
        "\n",
        "  result_dict = {\n",
        "        \"model_id\": model_id,\n",
        "        \"img1\": {\n",
        "            \"pred_class\": img1_result_class,\n",
        "            \"pred_conf\": img1_result_conf,\n",
        "            \"pred_count\": img1_result_count,\n",
        "            \"pred_bbox\": img1_bbox\n",
        "        },\n",
        "        \"img2\": {\n",
        "            \"pred_class\": img2_result_class,\n",
        "            \"pred_conf\": img2_result_conf,\n",
        "            \"pred_count\": img2_result_count,\n",
        "            \"pred_bbox\": img2_bbox            \n",
        "        },\n",
        "        \"img3\": {\n",
        "            \"pred_class\": img3_result_class,\n",
        "            \"pred_conf\": img3_result_conf,\n",
        "            \"pred_count\": img3_result_count,\n",
        "            \"pred_bbox\": img3_bbox            \n",
        "        }\n",
        "    }\n",
        "  \n",
        "\n",
        "  if event_id in event_dict:\n",
        "    event_dict[event_id].append(result_dict)\n",
        "  else:\n",
        "    event_dict[event_id] = [result_dict]\n",
        "\n",
        "event_dict"
      ],
      "execution_count": null,
      "outputs": [
        {
          "output_type": "execute_result",
          "data": {
            "text/plain": [
              "{'SSWI000000019125218': [{'img1': {'pred_bbox': nan,\n",
              "    'pred_class': nan,\n",
              "    'pred_conf': nan,\n",
              "    'pred_count': 0},\n",
              "   'img2': {'pred_bbox': '0.8788,0.6067,0.2065,0.1463',\n",
              "    'pred_class': nan,\n",
              "    'pred_conf': nan,\n",
              "    'pred_count': 1},\n",
              "   'img3': {'pred_bbox': nan,\n",
              "    'pred_class': nan,\n",
              "    'pred_conf': nan,\n",
              "    'pred_count': 0},\n",
              "   'model_id': 5},\n",
              "  {'img1': {'pred_bbox': nan,\n",
              "    'pred_class': 'turkey,bear,deer,elk,foxgray_foxred',\n",
              "    'pred_conf': '0.32857051491737366,0.15524305403232574,0.148423969745636,0.14720852673053741,0.0765981450676918',\n",
              "    'pred_count': 0},\n",
              "   'img2': {'pred_bbox': nan,\n",
              "    'pred_class': 'turkey,wolf,coyote,elk,foxgray_foxred',\n",
              "    'pred_conf': '0.8158956170082092,0.06660380959510803,0.04405967891216278,0.022372109815478325,0.02164595201611519',\n",
              "    'pred_count': 0},\n",
              "   'img3': {'pred_bbox': nan,\n",
              "    'pred_class': 'turkey,deer,bear,raccoon,coyote',\n",
              "    'pred_conf': '0.31233787536621094,0.2770918905735016,0.16207468509674072,0.064368836581707,0.050556182861328125',\n",
              "    'pred_count': 0},\n",
              "   'model_id': 4},\n",
              "  {'img1': {'pred_bbox': nan,\n",
              "    'pred_class': nan,\n",
              "    'pred_conf': nan,\n",
              "    'pred_count': 0},\n",
              "   'img2': {'pred_bbox': '0.8647416234016418,0.5866261124610901,0.19148936867713928,0.14589665830135345',\n",
              "    'pred_class': 'deer',\n",
              "    'pred_conf': '0.36581435799598694',\n",
              "    'pred_count': 1},\n",
              "   'img3': {'pred_bbox': nan,\n",
              "    'pred_class': nan,\n",
              "    'pred_conf': nan,\n",
              "    'pred_count': 0},\n",
              "   'model_id': 3}]}"
            ]
          },
          "metadata": {},
          "execution_count": 29
        }
      ]
    },
    {
      "cell_type": "markdown",
      "metadata": {
        "id": "KFcUW1tMjaIE"
      },
      "source": [
        "#### playground"
      ]
    },
    {
      "cell_type": "code",
      "metadata": {
        "id": "sEl5NGZgjbu_"
      },
      "source": [
        "import pandas as pd\n",
        "model_results = pd.read_json('/content/gdrive/My Drive/Colab Notebooks/w210_capstone/JSON_outputs/phase2_efficientnetb5_classifications_exclude_Wolf.json')\n",
        "df = model_results['phase2_classification_results'].apply(pd.Series)\n",
        "df['event_id'] = df['id'].str.split('.jpg').str[0]\n",
        "df['event_id'] = df['event_id'].str[:-1]"
      ],
      "execution_count": null,
      "outputs": []
    },
    {
      "cell_type": "code",
      "metadata": {
        "colab": {
          "base_uri": "https://localhost:8080/"
        },
        "id": "lDMxZuM1jbzW",
        "outputId": "14097ace-f6f9-460b-bed2-a927e18b0c37"
      },
      "source": [
        "## for index, row in df.iloc[:5].iterrows():\n",
        "preds_dict = {}\n",
        "for index, row in df.iloc[:5].iterrows():\n",
        "  event_id = str(row['event_id'])\n",
        "  conf_dict = row['conf_dict']\n",
        "  \n",
        "  result_dict = {\n",
        "        \"conf_dict\": conf_dict\n",
        "    }\n",
        "  \n",
        "  if event_id in preds_dict:\n",
        "    preds_dict[event_id].append(result_dict)\n",
        "  else:\n",
        "    preds_dict[event_id] = [result_dict]\n",
        "\n",
        "preds_dict"
      ],
      "execution_count": null,
      "outputs": [
        {
          "output_type": "execute_result",
          "data": {
            "text/plain": [
              "{'SSWI000000018696587': [{'conf_dict': {'0': [0.984815597534179],\n",
              "    '1': [0.0006901166634630001],\n",
              "    '5': [0.000570110452827],\n",
              "    '6': [0.000864675734192],\n",
              "    '7': [0.012593532912433002]}},\n",
              "  {'conf_dict': {'0': [0.99616539478302],\n",
              "    '1': [0.00021788691810700002],\n",
              "    '3': [0.000203496572794],\n",
              "    '6': [0.00040631039883],\n",
              "    '7': [0.0026421239599580004]}},\n",
              "  {'conf_dict': {'0': [0.98821347951889],\n",
              "    '2': [0.000333709089318],\n",
              "    '5': [0.0008325020316980001],\n",
              "    '6': [0.0016884513897820002],\n",
              "    '7': [0.008449412882328]}}],\n",
              " 'SSWI000000018741710': [{'conf_dict': {'0': [0.9460017681121821],\n",
              "    '2': [0.000399870128603],\n",
              "    '5': [0.001346027012914],\n",
              "    '6': [0.022270414978265003],\n",
              "    '7': [0.02964262664318]}},\n",
              "  {'conf_dict': {'0': [0.27309530973434404],\n",
              "    '2': [0.018853003159165],\n",
              "    '5': [0.255657702684402],\n",
              "    '6': [0.17894247174263],\n",
              "    '7': [0.257040947675704]}}]}"
            ]
          },
          "metadata": {},
          "execution_count": 24
        }
      ]
    },
    {
      "cell_type": "code",
      "metadata": {
        "colab": {
          "base_uri": "https://localhost:8080/"
        },
        "id": "Xy13nloPjb3e",
        "outputId": "18a13f89-611c-4689-c17b-b3152ca21fec"
      },
      "source": [
        "consol_dict = {}\n",
        "for item, list_dict in preds_dict.items():\n",
        "  itr = 0\n",
        "  length = len(list_dict)\n",
        "  event_id = item\n",
        "  while itr < length:\n",
        "    for k,v in list_dict[itr].items():\n",
        "      #print(k, v)\n",
        "      if event_id in consol_dict:\n",
        "        consol_dict[event_id].append(v)\n",
        "      else:\n",
        "        consol_dict[event_id] = [v]\n",
        "      #consol_dict.setdefault(k, []).append(v)\n",
        "      itr +=1\n",
        "\n",
        "consol_dict"
      ],
      "execution_count": null,
      "outputs": [
        {
          "output_type": "execute_result",
          "data": {
            "text/plain": [
              "{'SSWI000000018696587': [{'0': [0.984815597534179],\n",
              "   '1': [0.0006901166634630001],\n",
              "   '5': [0.000570110452827],\n",
              "   '6': [0.000864675734192],\n",
              "   '7': [0.012593532912433002]},\n",
              "  {'0': [0.99616539478302],\n",
              "   '1': [0.00021788691810700002],\n",
              "   '3': [0.000203496572794],\n",
              "   '6': [0.00040631039883],\n",
              "   '7': [0.0026421239599580004]},\n",
              "  {'0': [0.98821347951889],\n",
              "   '2': [0.000333709089318],\n",
              "   '5': [0.0008325020316980001],\n",
              "   '6': [0.0016884513897820002],\n",
              "   '7': [0.008449412882328]}],\n",
              " 'SSWI000000018741710': [{'0': [0.9460017681121821],\n",
              "   '2': [0.000399870128603],\n",
              "   '5': [0.001346027012914],\n",
              "   '6': [0.022270414978265003],\n",
              "   '7': [0.02964262664318]},\n",
              "  {'0': [0.27309530973434404],\n",
              "   '2': [0.018853003159165],\n",
              "   '5': [0.255657702684402],\n",
              "   '6': [0.17894247174263],\n",
              "   '7': [0.257040947675704]}]}"
            ]
          },
          "metadata": {},
          "execution_count": 25
        }
      ]
    },
    {
      "cell_type": "code",
      "metadata": {
        "colab": {
          "base_uri": "https://localhost:8080/"
        },
        "id": "4yE0xcAjjb7J",
        "outputId": "8f18dd41-0fdf-4827-8733-85ffc6f89807"
      },
      "source": [
        "outer_dict = {}\n",
        "for key, value in consol_dict.items():\n",
        "  intermed_dict = {}\n",
        "  for sub_dict in value:\n",
        "    for k,v in sub_dict.items():\n",
        "      if k in intermed_dict:\n",
        "        intermed_dict[k].append(v[0])\n",
        "      else:\n",
        "        intermed_dict[k] = [v[0]]\n",
        "      outer_dict[key] = intermed_dict\n",
        "\n",
        "outer_dict"
      ],
      "execution_count": null,
      "outputs": [
        {
          "output_type": "execute_result",
          "data": {
            "text/plain": [
              "{'SSWI000000018696587': {'0': [0.984815597534179,\n",
              "   0.99616539478302,\n",
              "   0.98821347951889],\n",
              "  '1': [0.0006901166634630001, 0.00021788691810700002],\n",
              "  '2': [0.000333709089318],\n",
              "  '3': [0.000203496572794],\n",
              "  '5': [0.000570110452827, 0.0008325020316980001],\n",
              "  '6': [0.000864675734192, 0.00040631039883, 0.0016884513897820002],\n",
              "  '7': [0.012593532912433002, 0.0026421239599580004, 0.008449412882328]},\n",
              " 'SSWI000000018741710': {'0': [0.9460017681121821, 0.27309530973434404],\n",
              "  '2': [0.000399870128603, 0.018853003159165],\n",
              "  '5': [0.001346027012914, 0.255657702684402],\n",
              "  '6': [0.022270414978265003, 0.17894247174263],\n",
              "  '7': [0.02964262664318, 0.257040947675704]}}"
            ]
          },
          "metadata": {},
          "execution_count": 26
        }
      ]
    },
    {
      "cell_type": "code",
      "metadata": {
        "colab": {
          "base_uri": "https://localhost:8080/"
        },
        "id": "wPWjghbLjb-h",
        "outputId": "7133bfa8-8210-400d-f202-1fa55be174b4"
      },
      "source": [
        "### get top 5 for each event\n",
        "final_top5_event_dict = {}\n",
        "for key, value in outer_dict.items():\n",
        "  top_ind = sorted(value, key=value.get, reverse=True)[:5]\n",
        "  conf_scores = {}\n",
        "  for i in top_ind:\n",
        "    conf_scores[i] = max(value[i])\n",
        "  \n",
        "  final_top5_event_dict[key] = conf_scores\n",
        "\n",
        "final_top5_event_dict"
      ],
      "execution_count": null,
      "outputs": [
        {
          "output_type": "execute_result",
          "data": {
            "text/plain": [
              "{'SSWI000000018696587': {'0': 0.99616539478302,\n",
              "  '1': 0.0006901166634630001,\n",
              "  '5': 0.0008325020316980001,\n",
              "  '6': 0.0016884513897820002,\n",
              "  '7': 0.012593532912433002},\n",
              " 'SSWI000000018741710': {'0': 0.9460017681121821,\n",
              "  '2': 0.018853003159165,\n",
              "  '5': 0.255657702684402,\n",
              "  '6': 0.17894247174263,\n",
              "  '7': 0.257040947675704}}"
            ]
          },
          "metadata": {},
          "execution_count": 27
        }
      ]
    },
    {
      "cell_type": "markdown",
      "metadata": {
        "id": "zEOWavydj6LQ"
      },
      "source": [
        "### continuing"
      ]
    },
    {
      "cell_type": "code",
      "metadata": {
        "id": "OGpRwBexKDFR",
        "colab": {
          "base_uri": "https://localhost:8080/"
        },
        "outputId": "8a98224d-5a90-4cab-f0d5-e4f26a8ab0ff"
      },
      "source": [
        "## consolidate predictions from models 3 and 4\n",
        "\"\"\"\n",
        "'SSWI000000018696587': [{'0': [0.984815597534179],\n",
        "   '1': [0.0006901166634630001],\n",
        "   '5': [0.000570110452827],\n",
        "   '6': [0.000864675734192],\n",
        "   '7': [0.012593532912433002]},\n",
        "  {'0': [0.99616539478302],\n",
        "   '1': [0.00021788691810700002],\n",
        "   '3': [0.000203496572794],\n",
        "   '6': [0.00040631039883],\n",
        "   '7': [0.0026421239599580004]},\n",
        "  {'0': [0.98821347951889],\n",
        "   '2': [0.000333709089318],\n",
        "   '5': [0.0008325020316980001],\n",
        "   '6': [0.0016884513897820002],\n",
        "   '7': [0.008449412882328]}]\n",
        "\"\"\"\n",
        "\n",
        "consol_dict = {}\n",
        "\n",
        "for item, list_dict in event_dict.items():\n",
        "  itr = 0\n",
        "  intermediate_dict = list_dict\n",
        "  #print(intermediate_dict)\n",
        "  event_id = item\n",
        "  length = len(intermediate_dict)\n",
        "  while itr < length:\n",
        "    for k,v in intermediate_dict[itr].items():\n",
        "      print(k,v)\n",
        "      if k==\"model_id\" and v==5:\n",
        "        continue\n",
        "      else:\n",
        "        if 'img' in k:\n",
        "          if event_id in consol_dict:\n",
        "            consol_dict[event_id].append(v)\n",
        "          else:\n",
        "            consol_dict[event_id] = [v]\n",
        "\n",
        "    itr +=1\n",
        "\n",
        "\n",
        "consol_dict\n",
        "\n",
        "  # itr = 0\n",
        "  # length = len(list_dict)\n",
        "  # print(length)\n",
        "  # event_id = item\n",
        "  # while itr < length:\n",
        "  #   for k,v in list_dict[itr].items():\n",
        "  #     #print(k, v)\n",
        "  #     if event_id in consol_dict:\n",
        "  #       consol_dict[event_id].append(v)\n",
        "  #     else:\n",
        "  #       consol_dict[event_id] = [v]\n",
        "  #     #consol_dict.setdefault(k, []).append(v)\n",
        "  #     itr +=1\n"
      ],
      "execution_count": null,
      "outputs": [
        {
          "output_type": "stream",
          "name": "stdout",
          "text": [
            "model_id 5\n",
            "img1 {'pred_class': nan, 'pred_conf': nan, 'pred_count': 0, 'pred_bbox': nan}\n",
            "img2 {'pred_class': nan, 'pred_conf': nan, 'pred_count': 1, 'pred_bbox': '0.8788,0.6067,0.2065,0.1463'}\n",
            "img3 {'pred_class': nan, 'pred_conf': nan, 'pred_count': 0, 'pred_bbox': nan}\n",
            "model_id 4\n",
            "img1 {'pred_class': 'turkey,bear,deer,elk,foxgray_foxred', 'pred_conf': '0.32857051491737366,0.15524305403232574,0.148423969745636,0.14720852673053741,0.0765981450676918', 'pred_count': 0, 'pred_bbox': nan}\n",
            "img2 {'pred_class': 'turkey,wolf,coyote,elk,foxgray_foxred', 'pred_conf': '0.8158956170082092,0.06660380959510803,0.04405967891216278,0.022372109815478325,0.02164595201611519', 'pred_count': 0, 'pred_bbox': nan}\n",
            "img3 {'pred_class': 'turkey,deer,bear,raccoon,coyote', 'pred_conf': '0.31233787536621094,0.2770918905735016,0.16207468509674072,0.064368836581707,0.050556182861328125', 'pred_count': 0, 'pred_bbox': nan}\n",
            "model_id 3\n",
            "img1 {'pred_class': nan, 'pred_conf': nan, 'pred_count': 0, 'pred_bbox': nan}\n",
            "img2 {'pred_class': 'deer', 'pred_conf': '0.36581435799598694', 'pred_count': 1, 'pred_bbox': '0.8647416234016418,0.5866261124610901,0.19148936867713928,0.14589665830135345'}\n",
            "img3 {'pred_class': nan, 'pred_conf': nan, 'pred_count': 0, 'pred_bbox': nan}\n"
          ]
        },
        {
          "output_type": "execute_result",
          "data": {
            "text/plain": [
              "{'SSWI000000019125218': [{'pred_bbox': nan,\n",
              "   'pred_class': nan,\n",
              "   'pred_conf': nan,\n",
              "   'pred_count': 0},\n",
              "  {'pred_bbox': '0.8788,0.6067,0.2065,0.1463',\n",
              "   'pred_class': nan,\n",
              "   'pred_conf': nan,\n",
              "   'pred_count': 1},\n",
              "  {'pred_bbox': nan, 'pred_class': nan, 'pred_conf': nan, 'pred_count': 0},\n",
              "  {'pred_bbox': nan,\n",
              "   'pred_class': 'turkey,bear,deer,elk,foxgray_foxred',\n",
              "   'pred_conf': '0.32857051491737366,0.15524305403232574,0.148423969745636,0.14720852673053741,0.0765981450676918',\n",
              "   'pred_count': 0},\n",
              "  {'pred_bbox': nan,\n",
              "   'pred_class': 'turkey,wolf,coyote,elk,foxgray_foxred',\n",
              "   'pred_conf': '0.8158956170082092,0.06660380959510803,0.04405967891216278,0.022372109815478325,0.02164595201611519',\n",
              "   'pred_count': 0},\n",
              "  {'pred_bbox': nan,\n",
              "   'pred_class': 'turkey,deer,bear,raccoon,coyote',\n",
              "   'pred_conf': '0.31233787536621094,0.2770918905735016,0.16207468509674072,0.064368836581707,0.050556182861328125',\n",
              "   'pred_count': 0},\n",
              "  {'pred_bbox': nan, 'pred_class': nan, 'pred_conf': nan, 'pred_count': 0},\n",
              "  {'pred_bbox': '0.8647416234016418,0.5866261124610901,0.19148936867713928,0.14589665830135345',\n",
              "   'pred_class': 'deer',\n",
              "   'pred_conf': '0.36581435799598694',\n",
              "   'pred_count': 1},\n",
              "  {'pred_bbox': nan, 'pred_class': nan, 'pred_conf': nan, 'pred_count': 0}]}"
            ]
          },
          "metadata": {},
          "execution_count": 44
        }
      ]
    },
    {
      "cell_type": "code",
      "metadata": {
        "id": "54451Jfwh3-D"
      },
      "source": [
        ""
      ],
      "execution_count": null,
      "outputs": []
    }
  ]
}