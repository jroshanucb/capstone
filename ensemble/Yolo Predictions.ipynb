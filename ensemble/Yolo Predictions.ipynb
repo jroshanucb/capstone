{
 "cells": [
  {
   "cell_type": "code",
   "execution_count": 30,
   "metadata": {},
   "outputs": [],
   "source": [
    "import os\n",
    "import random\n",
    "import shutil, os\n",
    "import pandas as pd\n",
    "import numpy as np\n",
    "import seaborn as sns\n",
    "import matplotlib.pyplot as plt   \n",
    "from sklearn.metrics import confusion_matrix\n",
    "from sklearn.metrics import classification_report\n",
    "import pylab as pl\n",
    "from matplotlib.pyplot import figure\n",
    "from collections import Counter\n",
    "\n",
    "from os import listdir\n",
    "from os.path import isfile, join"
   ]
  },
  {
   "cell_type": "code",
   "execution_count": 31,
   "metadata": {},
   "outputs": [],
   "source": [
    "truth_file = pd.read_csv('/Users/sleung2/Documents/MIDS Program/Capstone_local/snapshot_wisconsin/all/yolo_splits3/test/test_labels.csv')\n",
    "truth_file = truth_file.rename(columns = {'TRIGGER_ID': 'event_id',\n",
    "                                               'CLASS_SPECIES': 'true_class',\n",
    "                                               'Total': 'true_count',\n",
    "                                               'CLASS_SPECIES_RESTATED': 'true_class_name'})\n",
    "\n",
    "truth_file_no_other = truth_file[truth_file['true_class_name'] != 'other']"
   ]
  },
  {
   "cell_type": "code",
   "execution_count": 32,
   "metadata": {},
   "outputs": [],
   "source": [
    "labels = pd.DataFrame(['foxgray_foxred',\n",
    "              'cottontail_snowshoehare',\n",
    "              'raccoon',\n",
    "              'opossum',\n",
    "              'turkey',\n",
    "              'bear',\n",
    "              'elk',\n",
    "              'deer',\n",
    "              'coyote',\n",
    "              'wolf']).sort_values(0)\n",
    "labels = labels.rename(columns = {0: 'species'})\n",
    "labels.insert(0, 'class', range(0, len(labels)))"
   ]
  },
  {
   "cell_type": "markdown",
   "metadata": {},
   "source": [
    "# Phase 2- Species"
   ]
  },
  {
   "cell_type": "markdown",
   "metadata": {},
   "source": [
    "## Yolo"
   ]
  },
  {
   "cell_type": "code",
   "execution_count": 33,
   "metadata": {},
   "outputs": [],
   "source": [
    "#Read lines from txt results file\n",
    "\n",
    "toppath = 'phase 2-species/'\n",
    "txt_file = 'output_indrani.txt'#'output_yolo_species_splits4.txt'\n",
    "\n",
    "with open(toppath + txt_file, 'r') as f:\n",
    "    original_lines = f.readlines()"
   ]
  },
  {
   "cell_type": "code",
   "execution_count": 34,
   "metadata": {},
   "outputs": [],
   "source": [
    "#Txt file to dataframe\n",
    "#We are taking the TOP confidence score species for each image as the species\n",
    "#Count is the count for all bounding boxes drawn in image\n",
    "\n",
    "rows = []\n",
    "\n",
    "for item in original_lines:\n",
    "    \n",
    "    #Class number\n",
    "    item_split_1 = item.split(' Bbox[list]')[0]\n",
    "    class_conf_list = item_split_1.split(';')[1:-2]\n",
    "    \n",
    "    conf_score_max = 0\n",
    "    \n",
    "    i = 0    \n",
    "    for class_conf in class_conf_list:\n",
    "        conf_score_int = float(class_conf.split(',Conf:')[1])\n",
    "        \n",
    "        \n",
    "        if conf_score_int > conf_score_max:\n",
    "            conf_score_max = conf_score_int\n",
    "            max_index = i\n",
    "            \n",
    "        i += 1\n",
    "    try:\n",
    "        class_string = class_conf_list[max_index].split(',')[0]\n",
    "        class_num = float(class_string.split(':')[1])\n",
    "        class_num = int(class_num)\n",
    "    except:\n",
    "        class_num = 'Blank'\n",
    "\n",
    "    #Counts\n",
    "    count_split_1 = item.split(' Bbox[list]')[-1]\n",
    "    count_split_2 = count_split_1.replace(';', ',')  \n",
    "    count_split_3 = count_split_2.split(',')\n",
    "    count = int((len(count_split_3)-1)/4)\n",
    "        \n",
    "    #Filename\n",
    "    file_split_1 = item.split('Filename: ')[1]\n",
    "    file_name = file_split_1.split(';')[0].split('.jpg')[0]\n",
    "        \n",
    "    row = [file_name, class_num, count, conf_score_max]\n",
    "    \n",
    "    rows.append(row)       \n",
    "\n",
    "predictions = pd.DataFrame(rows, columns = ['filename', 'class', 'count', 'conf_score_max'])"
   ]
  },
  {
   "cell_type": "markdown",
   "metadata": {},
   "source": [
    "Species\n",
    "1. Events with multiple images of same class will be labeled the majority class\n",
    "- For event to be labeled Blank, all images must be blank\n",
    "2. Events with all different labels will get labelled with highest confidence score \n",
    "\n",
    "Counts\n",
    "1. Events with multiple images of same class- we will take the max of the majority class\n",
    "2. Events with all different labels will get labelled with the count of highest conf score label\n"
   ]
  },
  {
   "cell_type": "code",
   "execution_count": 37,
   "metadata": {},
   "outputs": [],
   "source": [
    "#Event column- remove A,B,C appendix\n",
    "predictions['event_id'] = predictions['filename'].str[:-1]\n",
    "\n",
    "\n",
    "## Events with muliple images of same class\n",
    "#Species determination\n",
    "#Groupby event, class\n",
    "event_class_group_count = pd.DataFrame(predictions.groupby(['event_id', 'class']).count()['filename']).reset_index().rename(columns = {'filename': 'count_rows'})\n",
    "\n",
    "#Filter by rows that have count greater than 1\n",
    "event_class_group_count_majority = event_class_group_count[event_class_group_count['count_rows'] > 1]\n",
    "\n",
    "#Remove blank events that are not a consensus for all 3 images\n",
    "event_class_group_count_majority = event_class_group_count_majority[~((event_class_group_count_majority['class'] == 'Blank') &\n",
    "                                (event_class_group_count_majority['count_rows'] < 3))]\n",
    "\n",
    "#Count determination\n",
    "event_class_group_majority_counts = pd.merge(predictions, event_class_group_count_majority,\n",
    "         how = 'inner',\n",
    "         on = ['event_id', 'class'])\n",
    "\n",
    "event_class_majority_counts = event_class_group_majority_counts[['event_id', 'count']].groupby(['event_id']).max().reset_index()\n",
    "\n",
    "event_max_conf_score = event_class_group_majority_counts[['event_id', 'conf_score_max']].groupby(['event_id']).max().reset_index()\n",
    "\n",
    "majority_df = pd.merge(event_class_majority_counts, event_class_group_count_majority,\n",
    "         on = 'event_id',\n",
    "         how = 'left')[['event_id', 'count','class']]\n",
    "\n",
    "majority_df = pd.merge(majority_df, event_max_conf_score,\n",
    "         on = 'event_id',\n",
    "         how = 'left')\n",
    "\n",
    "## Events with all different labels\n",
    "predictions_single_count = predictions[~predictions['event_id'].isin(majority_df['event_id'])]\n",
    "\n",
    "event_list = []\n",
    "pred_list = []\n",
    "count_list = []\n",
    "conf_score_max_list = []\n",
    "\n",
    "previous_event = ''\n",
    "conf_score_group_max = 0\n",
    "pred_class = ''\n",
    "conf_score_group_max = 0\n",
    "\n",
    "predictions_single_count_grouped = predictions_single_count.groupby(['event_id', 'class',\n",
    "                                                                     'conf_score_max'])\n",
    "\n",
    "for group_name, group in predictions_single_count_grouped:\n",
    "        \n",
    "    current_event = group_name[0]\n",
    "    current_class = group['class'].iloc[0]\n",
    "    current_conf_score = group['conf_score_max'].iloc[0]\n",
    "    current_count = group['count'].iloc[0]\n",
    "    \n",
    "    #Check if we are looking at a new event\n",
    "    if current_event != previous_event:\n",
    "        conf_score_max_list.append(conf_score_group_max)\n",
    "        conf_score_group_max = 0\n",
    "        event_list.append(previous_event)\n",
    "        pred_list.append(pred_class)\n",
    "        count_list.append(current_count)\n",
    "        \n",
    "    if conf_score_group_max < current_conf_score:\n",
    "        pred_class = current_class\n",
    "        conf_score_group_max = current_conf_score\n",
    "        \n",
    "    previous_event = current_event \n",
    "\n",
    "conf_score_max_list.append(conf_score_group_max)\n",
    "event_list.append(previous_event)\n",
    "pred_list.append(pred_class)\n",
    "count_list.append(current_count)\n",
    "    \n",
    "single_class_df = pd.DataFrame(list(zip(event_list,\n",
    "              pred_list,\n",
    "              count_list,\n",
    "              conf_score_max_list)),\n",
    "            columns = ['event_id', 'class', 'count','conf_score_max'])\n",
    "\n",
    "predictions_by_events_df = pd.concat([majority_df, single_class_df])\n",
    "\n",
    "\n",
    "yolo_predictions_by_events_df = pd.merge(predictions_by_events_df, labels,\n",
    "         how = 'left',\n",
    "         on = 'class')\n",
    "\n",
    "truth_pred_yolo_df = pd.merge(truth_file_no_other, yolo_predictions_by_events_df,\n",
    "                         how = 'left',\n",
    "                         left_on = 'event_id',\n",
    "                         right_on = 'event_id')\n",
    "yolo_preds_df = truth_pred_yolo_df[['event_id', 'class', 'conf_score_max', 'count', 'species']]\n",
    "\n",
    "yolo_preds_df = yolo_preds_df.rename(columns = {'class': 'pred_class',\n",
    "                                               'conf_score_max': 'conf_score',\n",
    "                                                'count': 'pred_count',\n",
    "                                               'species': 'pred_class_name'})\n",
    "\n",
    "\n"
   ]
  },
  {
   "cell_type": "code",
   "execution_count": 41,
   "metadata": {},
   "outputs": [],
   "source": [
    "yolo_preds_df = yolo_preds_df.rename(columns = {'pred_class': 'pred_class_yolo',\n",
    "                                                   'conf_score': 'conf_score_yolo',\n",
    "                                                   'pred_count': 'pred_count_yolo',\n",
    "                                                   'pred_class_name': 'pred_class_name_yolo'})\n"
   ]
  },
  {
   "cell_type": "code",
   "execution_count": 43,
   "metadata": {},
   "outputs": [],
   "source": [
    "ensemble_pred_df = yolo_preds_df"
   ]
  },
  {
   "cell_type": "code",
   "execution_count": 44,
   "metadata": {},
   "outputs": [],
   "source": [
    "ensemble_result_metrics = pd.merge(truth_file_no_other, ensemble_pred_df,\n",
    "         how = 'left',\n",
    "         on = ['event_id'])\n",
    "\n"
   ]
  },
  {
   "cell_type": "code",
   "execution_count": 69,
   "metadata": {},
   "outputs": [],
   "source": [
    "ensemble_result_metrics_drop_null = ensemble_result_metrics.fillna('blank')"
   ]
  },
  {
   "cell_type": "code",
   "execution_count": 79,
   "metadata": {},
   "outputs": [
    {
     "name": "stdout",
     "output_type": "stream",
     "text": [
      "                         precision    recall  f1-score   support\n",
      "\n",
      "                   bear       0.84      0.32      0.47       130\n",
      "                  blank       0.00      0.00      0.00         0\n",
      "cottontail_snowshoehare       0.89      0.41      0.56       121\n",
      "                 coyote       1.00      0.04      0.09       135\n",
      "                   deer       0.64      0.56      0.60       191\n",
      "                    elk       0.77      0.48      0.59       123\n",
      "         foxgray_foxred       0.19      0.06      0.09        70\n",
      "                opossum       0.00      0.00      0.00        52\n",
      "                raccoon       0.80      0.24      0.36       119\n",
      "                 turkey       0.94      0.25      0.40        64\n",
      "                   wolf       1.00      0.02      0.03       126\n",
      "\n",
      "               accuracy                           0.28      1131\n",
      "              macro avg       0.64      0.22      0.29      1131\n",
      "           weighted avg       0.76      0.28      0.36      1131\n",
      "\n"
     ]
    },
    {
     "name": "stderr",
     "output_type": "stream",
     "text": [
      "/Users/sleung2/opt/anaconda3/lib/python3.8/site-packages/sklearn/metrics/_classification.py:1245: UndefinedMetricWarning: Precision and F-score are ill-defined and being set to 0.0 in labels with no predicted samples. Use `zero_division` parameter to control this behavior.\n",
      "  _warn_prf(average, modifier, msg_start, len(result))\n",
      "/Users/sleung2/opt/anaconda3/lib/python3.8/site-packages/sklearn/metrics/_classification.py:1245: UndefinedMetricWarning: Recall and F-score are ill-defined and being set to 0.0 in labels with no true samples. Use `zero_division` parameter to control this behavior.\n",
      "  _warn_prf(average, modifier, msg_start, len(result))\n",
      "/Users/sleung2/opt/anaconda3/lib/python3.8/site-packages/sklearn/metrics/_classification.py:1245: UndefinedMetricWarning: Precision and F-score are ill-defined and being set to 0.0 in labels with no predicted samples. Use `zero_division` parameter to control this behavior.\n",
      "  _warn_prf(average, modifier, msg_start, len(result))\n",
      "/Users/sleung2/opt/anaconda3/lib/python3.8/site-packages/sklearn/metrics/_classification.py:1245: UndefinedMetricWarning: Recall and F-score are ill-defined and being set to 0.0 in labels with no true samples. Use `zero_division` parameter to control this behavior.\n",
      "  _warn_prf(average, modifier, msg_start, len(result))\n",
      "/Users/sleung2/opt/anaconda3/lib/python3.8/site-packages/sklearn/metrics/_classification.py:1245: UndefinedMetricWarning: Precision and F-score are ill-defined and being set to 0.0 in labels with no predicted samples. Use `zero_division` parameter to control this behavior.\n",
      "  _warn_prf(average, modifier, msg_start, len(result))\n",
      "/Users/sleung2/opt/anaconda3/lib/python3.8/site-packages/sklearn/metrics/_classification.py:1245: UndefinedMetricWarning: Recall and F-score are ill-defined and being set to 0.0 in labels with no true samples. Use `zero_division` parameter to control this behavior.\n",
      "  _warn_prf(average, modifier, msg_start, len(result))\n"
     ]
    }
   ],
   "source": [
    "y_true = ensemble_result_metrics_drop_null['true_class_name']\n",
    "label_list = np.unique(y_true)\n",
    "label_list = np.sort(np.array(list(label_list) + ['blank']))\n",
    "\n",
    "for prediction in ['pred_class_name_yolo']:#['pred_class_name_effnet', 'pred_class_name_yolo']:\n",
    "    y_pred = ensemble_result_metrics_drop_null[prediction]\n",
    "    \n",
    "    target_names = label_list\n",
    "    print(classification_report(y_true, y_pred,  target_names=target_names))\n"
   ]
  },
  {
   "cell_type": "code",
   "execution_count": 80,
   "metadata": {},
   "outputs": [
    {
     "data": {
      "image/png": "[encoded data removed]",
      "text/plain": [
       "<Figure size 1120x800 with 2 Axes>"
      ]
     },
     "metadata": {
      "needs_background": "light"
     },
     "output_type": "display_data"
    }
   ],
   "source": [
    "import seaborn as sns\n",
    "import matplotlib.pyplot as plt   \n",
    "from sklearn.metrics import confusion_matrix\n",
    "import pylab as pl\n",
    "from matplotlib.pyplot import figure\n",
    "\n",
    "figure(figsize=(14, 10), dpi=80)\n",
    "\n",
    "\n",
    "label_list = np.unique(y_true)\n",
    "\n",
    "cm = confusion_matrix(y_true, y_pred, labels = label_list)\n",
    "\n",
    "ax= plt.subplot()\n",
    "sns.heatmap(cm, annot=True, fmt='g', ax=ax);  #annot=True to annotate cells, ftm='g' to disable scientific notation\n",
    "\n",
    "# labels, title and ticks\n",
    "ax.set_xlabel('Predicted labels');ax.set_ylabel(\n",
    "    'True labels'); \n",
    "ax.set_title('Confusion Matrix'); \n",
    "ax.xaxis.set_ticklabels(label_list); ax.yaxis.set_ticklabels(label_list);\n",
    "plt.xticks(rotation = 45)\n",
    "plt.yticks(rotation = 45)\n",
    "\n",
    "plt.show()"
   ]
  }
 ],
 "metadata": {
  "kernelspec": {
   "display_name": "Python 3",
   "language": "python",
   "name": "python3"
  },
  "language_info": {
   "codemirror_mode": {
    "name": "ipython",
    "version": 3
   },
   "file_extension": ".py",
   "mimetype": "text/x-python",
   "name": "python",
   "nbconvert_exporter": "python",
   "pygments_lexer": "ipython3",
   "version": "3.8.5"
  }
 },
 "nbformat": 4,
 "nbformat_minor": 4
}
